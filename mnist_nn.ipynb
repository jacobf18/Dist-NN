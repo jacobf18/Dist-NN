{
 "cells": [
  {
   "cell_type": "code",
   "execution_count": 7,
   "id": "c65f92cb-be38-4e3c-a0d5-822a96766873",
   "metadata": {
    "tags": []
   },
   "outputs": [],
   "source": [
    "import mnist\n",
    "import gurobipy as gp\n",
    "import numpy as np\n",
    "from itertools import product\n",
    "\n",
    "def cost(i,j):\n",
    "    row_1 = j % 28\n",
    "    col_1 = j // 28\n",
    "    row_2 = i % 28\n",
    "    col_2 = i // 28\n",
    "    \n",
    "    return ((row_1 - row_2) ** 2) + ((col_1 - col_2) ** 2)\n",
    "\n",
    "x_train, t_train, x_test, t_test = mnist.load()\n",
    "\n",
    "x_train_norm = x_train / np.sum(x_train, axis = 1)[:,None]"
   ]
  },
  {
   "cell_type": "code",
   "execution_count": 17,
   "id": "e747b5df-82e7-4546-82f1-220fe05603a9",
   "metadata": {
    "tags": []
   },
   "outputs": [
    {
     "data": {
      "image/jpeg": "[encoded data removed]",
      "image/png": "[encoded data removed]",
      "text/plain": [
       "<PIL.Image.Image image mode=L size=28x28>"
      ]
     },
     "execution_count": 17,
     "metadata": {},
     "output_type": "execute_result"
    }
   ],
   "source": [
    "from PIL import Image\n",
    "\n",
    "Image.fromarray(x_train[9,:].reshape(28,28))"
   ]
  },
  {
   "cell_type": "code",
   "execution_count": 18,
   "id": "17f3af25-688a-4a1a-bce3-a99b77eb70c9",
   "metadata": {
    "tags": []
   },
   "outputs": [],
   "source": [
    "imgs = x_train_norm[np.where(t_train == 0)[0][:10]]"
   ]
  },
  {
   "cell_type": "code",
   "execution_count": 14,
   "id": "d9ea4f9b-75d1-4d62-8026-f788e4299425",
   "metadata": {
    "tags": []
   },
   "outputs": [
    {
     "name": "stdout",
     "output_type": "stream",
     "text": [
      "Set parameter Method to value 2\n",
      "Set parameter NumericFocus to value 1\n",
      "Set parameter Crossover to value 0\n"
     ]
    }
   ],
   "source": [
    "model = gp.Model()\n",
    "\n",
    "model.setParam(gp.GRB.Param.Method, 2)\n",
    "model.setParam(gp.GRB.Param.NumericFocus, 1)\n",
    "model.setParam(gp.GRB.Param.OutputFlag, 1)\n",
    "model.setParam(gp.GRB.Param.Crossover, 0)\n",
    "model.setAttr(gp.GRB.Attr.ModelSense, 1)\n",
    "\n",
    "num_dists = len(imgs) # number of images\n",
    "num_support = x_train_norm[0].shape[0] # vector size of image\n",
    "\n",
    "x = model.addVars(num_support, num_support, num_dists, lb = 0.0)\n",
    "y = model.addVars(num_support, lb = 0.0)"
   ]
  },
  {
   "cell_type": "code",
   "execution_count": 15,
   "id": "0e77ebda-b7c4-48e7-8b3d-029eb03d8a58",
   "metadata": {
    "tags": []
   },
   "outputs": [
    {
     "name": "stdout",
     "output_type": "stream",
     "text": [
      "Discarded solution information\n",
      "Gurobi Optimizer version 10.0.3 build v10.0.3rc0 (mac64[arm])\n",
      "\n",
      "CPU model: Apple M2 Pro\n",
      "Thread count: 12 physical cores, 12 logical processors, using up to 12 threads\n",
      "\n",
      "Optimize a model with 15681 rows, 6147344 columns and 12301744 nonzeros\n",
      "Model fingerprint: 0x334fc2ad\n",
      "Coefficient statistics:\n",
      "  Matrix range     [1e+00, 1e+00]\n",
      "  Objective range  [1e+00, 1e+03]\n",
      "  Bounds range     [0e+00, 0e+00]\n",
      "  RHS range        [2e-05, 1e+00]\n",
      "Presolve removed 5854 rows and 4589536 columns\n",
      "Presolve time: 2.12s\n",
      "Presolved: 9827 rows, 1557808 columns, 3122672 nonzeros\n",
      "Ordering time: 0.53s\n",
      "Ordering time: 0.82s\n",
      "\n",
      "Barrier statistics:\n",
      " Dense cols : 695\n",
      " AA' NZ     : 1.570e+06\n",
      " Factor NZ  : 6.671e+06 (roughly 700 MB of memory)\n",
      " Factor Ops : 1.005e+10 (less than 1 second per iteration)\n",
      " Threads    : 12\n",
      "\n",
      "                  Objective                Residual\n",
      "Iter       Primal          Dual         Primal    Dual     Compl     Time\n",
      "   0   2.91737207e+07  0.00000000e+00  7.84e+01 0.00e+00  1.37e+00     6s\n",
      "   1   1.42431221e+07 -3.84878280e+03  3.97e+01 1.42e-14  7.57e-01     6s\n",
      "   2   4.79393329e+03 -3.81733103e+03  9.96e-03 9.95e-13  2.91e-04     7s\n",
      "   3   1.36943644e+03 -2.76760899e+03  4.23e-04 1.36e-12  8.70e-05     7s\n",
      "   4   7.60357304e+02 -1.36195568e+02  1.33e-15 4.05e-13  1.80e-05     7s\n",
      "   5   2.93002507e+02 -5.97993193e+01  7.65e-16 2.98e-13  7.08e-06     7s\n",
      "   6   1.08066793e+02  2.88495056e+00  3.74e-15 2.66e-13  2.11e-06     7s\n",
      "   7   4.80048740e+01  1.26467290e+01  1.64e-15 1.78e-13  7.09e-07     8s\n",
      "   8   2.94609910e+01  1.64961885e+01  5.50e-15 1.07e-13  2.60e-07     8s\n",
      "   9   2.60640205e+01  1.84615755e+01  8.45e-15 1.87e-13  1.53e-07     8s\n",
      "  10   2.39856576e+01  1.96031851e+01  1.62e-14 1.10e-13  8.79e-08     8s\n",
      "  11   2.29378331e+01  2.00578904e+01  2.18e-14 1.67e-13  5.78e-08     8s\n",
      "  12   2.20402542e+01  2.04106468e+01  1.52e-14 1.71e-13  3.27e-08     8s\n",
      "  13   2.15191243e+01  2.06377367e+01  2.42e-14 2.12e-13  1.77e-08     9s\n",
      "  14   2.14133042e+01  2.08124716e+01  3.76e-14 2.74e-13  1.21e-08     9s\n",
      "  15   2.13577970e+01  2.08721963e+01  5.31e-14 2.65e-13  9.74e-09     9s\n",
      "  16   2.13275714e+01  2.09083138e+01  6.34e-14 2.08e-13  8.41e-09     9s\n",
      "  17   2.12626844e+01  2.09733795e+01  8.12e-14 2.13e-13  5.80e-09     9s\n",
      "  18   2.12266480e+01  2.10681834e+01  7.87e-14 2.97e-13  3.18e-09    10s\n",
      "  19   2.11943196e+01  2.11249200e+01  7.03e-14 1.78e-13  1.39e-09    10s\n",
      "  20   2.11862199e+01  2.11514022e+01  1.06e-13 7.39e-14  6.98e-10    10s\n",
      "  21   2.11845088e+01  2.11651804e+01  1.34e-13 3.89e-14  3.88e-10    10s\n",
      "  22   2.11769043e+01  2.11741932e+01  9.48e-13 1.21e-13  5.44e-11    10s\n",
      "  23   2.11754815e+01  2.11752680e+01  7.87e-13 1.08e-13  4.28e-12    10s\n",
      "  24   2.11752697e+01  2.11752697e+01  3.36e-13 2.67e-13  8.61e-18    11s\n",
      "\n",
      "Barrier solved model in 24 iterations and 10.60 seconds (12.83 work units)\n",
      "Optimal objective 2.11752697e+01\n",
      "\n"
     ]
    }
   ],
   "source": [
    "model.reset()\n",
    "model.remove(model.getConstrs())\n",
    "\n",
    "for i, k in product(range(num_support), range(num_dists)):\n",
    "    model.addConstr(x.sum(i,'*',k) == imgs[k,i])\n",
    "    \n",
    "for j, k in product(range(num_support), range(num_dists)):\n",
    "    model.addConstr(x.sum('*',j,k) == y[j])\n",
    "    \n",
    "model.addConstr(y.sum() == 1)\n",
    "\n",
    "model.setObjective(gp.quicksum(x[i,j,k] * cost(i,j) for i,j,k in product(range(num_support), range(num_support), range(num_dists))))\n",
    "\n",
    "model.optimize()"
   ]
  },
  {
   "cell_type": "code",
   "execution_count": 9,
   "id": "d0a44dc4-442b-4172-bf4c-6d9b29eb42a4",
   "metadata": {
    "tags": []
   },
   "outputs": [],
   "source": [
    "barycenter = np.zeros(num_support)\n",
    "for j in range(num_support):\n",
    "    barycenter[j] = y[j].X"
   ]
  },
  {
   "cell_type": "code",
   "execution_count": 11,
   "id": "f512480d-f688-4e5f-ba98-6a4557a540bc",
   "metadata": {
    "tags": []
   },
   "outputs": [
    {
     "data": {
      "text/plain": [
       "<matplotlib.image.AxesImage at 0x15893ba90>"
      ]
     },
     "execution_count": 11,
     "metadata": {},
     "output_type": "execute_result"
    },
    {
     "data": {
      "image/png": "[encoded data removed]",
      "text/plain": [
       "<Figure size 640x480 with 1 Axes>"
      ]
     },
     "metadata": {},
     "output_type": "display_data"
    }
   ],
   "source": [
    "import matplotlib.pyplot as plt\n",
    "\n",
    "plt.imshow(barycenter.reshape(28,28), cmap='gray')"
   ]
  },
  {
   "cell_type": "code",
   "execution_count": null,
   "id": "5933382e-8023-49f8-b2a9-29e6029fe7be",
   "metadata": {},
   "outputs": [],
   "source": [
    "from scipy.optimize import linear_sum_assignment\n",
    "cost_mat = np.zeros(784,784)\n",
    "for i, j in product(range(784), range(784)):\n",
    "    cost_mat[i,j] = cost(i,j)\n",
    "\n",
    "def wasserstein_imgs(img1, img2, cost_mat):\n",
    "    \"\"\"\n",
    "    Here, we assume they are both 28x28 normalized images\n",
    "    in flattened format.\n",
    "    \"\"\"\n",
    "    "
   ]
  }
 ],
 "metadata": {
  "kernelspec": {
   "display_name": "Python 3 (ipykernel)",
   "language": "python",
   "name": "python3"
  },
  "language_info": {
   "codemirror_mode": {
    "name": "ipython",
    "version": 3
   },
   "file_extension": ".py",
   "mimetype": "text/x-python",
   "name": "python",
   "nbconvert_exporter": "python",
   "pygments_lexer": "ipython3",
   "version": "3.11.5"
  }
 },
 "nbformat": 4,
 "nbformat_minor": 5
}
