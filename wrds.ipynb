{
 "cells": [
  {
   "cell_type": "code",
   "execution_count": 1,
   "metadata": {},
   "outputs": [],
   "source": [
    "import wrds\n",
    "import pandas as pd\n",
    "import numpy as np\n",
    "import ot\n",
    "import matplotlib.pyplot as plt\n",
    "from tqdm import tqdm\n",
    "import pickle\n",
    "import scipy as sp"
   ]
  },
  {
   "cell_type": "code",
   "execution_count": 3,
   "metadata": {},
   "outputs": [
    {
     "name": "stdout",
     "output_type": "stream",
     "text": [
      "WRDS recommends setting up a .pgpass file.\n",
      "Created .pgpass file successfully.\n",
      "You can create this file yourself at any time with the create_pgpass_file() function.\n",
      "Loading library list...\n",
      "Done\n"
     ]
    }
   ],
   "source": [
    "conn = wrds.Connection()"
   ]
  },
  {
   "cell_type": "code",
   "execution_count": 3,
   "metadata": {},
   "outputs": [
    {
     "data": {
      "text/plain": [
       "['AAPL', 'NVDA', 'MSFT', 'AMZN', 'GOOGL']"
      ]
     },
     "execution_count": 3,
     "metadata": {},
     "output_type": "execute_result"
    }
   ],
   "source": [
    "sp500_tickers = []\n",
    "with open('sp500.txt', 'r') as f:\n",
    "    for line in f:\n",
    "        sp500_tickers.append(line.strip())\n",
    "sp500_tickers[:5]"
   ]
  },
  {
   "cell_type": "code",
   "execution_count": 6,
   "metadata": {},
   "outputs": [
    {
     "name": "stderr",
     "output_type": "stream",
     "text": [
      " 76%|███████▌  | 381/501 [00:18<00:05, 22.90it/s]"
     ]
    },
    {
     "name": "stdout",
     "output_type": "stream",
     "text": [
      "No data for VRSN\n"
     ]
    },
    {
     "name": "stderr",
     "output_type": "stream",
     "text": [
      " 78%|███████▊  | 393/501 [00:19<00:04, 22.09it/s]"
     ]
    },
    {
     "name": "stdout",
     "output_type": "stream",
     "text": [
      "No data for L\n"
     ]
    },
    {
     "name": "stderr",
     "output_type": "stream",
     "text": [
      " 83%|████████▎ | 414/501 [00:19<00:03, 24.16it/s]"
     ]
    },
    {
     "name": "stdout",
     "output_type": "stream",
     "text": [
      "No data for NWS\n"
     ]
    },
    {
     "name": "stderr",
     "output_type": "stream",
     "text": [
      "100%|██████████| 501/501 [00:23<00:00, 21.23it/s]"
     ]
    },
    {
     "name": "stdout",
     "output_type": "stream",
     "text": [
      "No data for AMTM\n"
     ]
    },
    {
     "name": "stderr",
     "output_type": "stream",
     "text": [
      "\n"
     ]
    }
   ],
   "source": [
    "ibes_tickers = []\n",
    "for t in tqdm(sp500_tickers):\n",
    "    try:\n",
    "        data = conn.raw_sql(f\"\"\"SELECT ticker, oftic, cname, estimator, analys, FPI, MEASURE, VALUE, FPEDATS, ANNDATS, ANNTIMS, ACTUAL, ANNDATS_ACT, ANNTIMS_ACT\n",
    "                         FROM tr_ibes.det_epsus\n",
    "                         WHERE oftic = '{t}'\n",
    "                         and anndats >= '01/01/2024'\n",
    "                         and fpi = '6'\n",
    "                         \"\"\")\n",
    "        if data.shape[0] == 0:\n",
    "            print(f\"No data for {t}\")\n",
    "        else:\n",
    "            ibes_ticker = data['ticker'].iloc[0]\n",
    "            ibes_tickers.append((t, ibes_ticker))\n",
    "        # print(t, data.shape)\n",
    "    except Exception as e:\n",
    "        print(f\"Error for {t}: {e}\")"
   ]
  },
  {
   "cell_type": "code",
   "execution_count": 17,
   "metadata": {},
   "outputs": [
    {
     "name": "stderr",
     "output_type": "stream",
     "text": [
      "100%|██████████| 497/497 [00:29<00:00, 16.78it/s]\n"
     ]
    }
   ],
   "source": [
    "for oftic, ibes in tqdm(ibes_tickers):\n",
    "    data = conn.raw_sql(f\"\"\"SELECT ticker, oftic, cname, estimator, analys, FPI, MEASURE, VALUE, FPEDATS, ANNDATS, ANNTIMS, ACTUAL, ANNDATS_ACT, ANNTIMS_ACT\n",
    "                         FROM tr_ibes.det_epsus\n",
    "                         WHERE ticker = '{ibes}'\n",
    "                         and anndats >= '01/01/2020'\n",
    "                         and fpi = '6'\n",
    "                         \"\"\")\n",
    "    data.to_csv(f\"data/ibes/{oftic}.csv\", index=False)"
   ]
  },
  {
   "cell_type": "code",
   "execution_count": null,
   "metadata": {},
   "outputs": [],
   "source": [
    "with open('ibes_tickers.pkl', 'wb') as f:\n",
    "    pickle.dump(ibes_tickers, f)"
   ]
  },
  {
   "cell_type": "code",
   "execution_count": 2,
   "metadata": {},
   "outputs": [
    {
     "name": "stderr",
     "output_type": "stream",
     "text": [
      "100%|██████████| 497/497 [00:00<00:00, 947.40it/s] \n"
     ]
    }
   ],
   "source": [
    "with open('ibes_tickers.pkl', 'rb') as f:\n",
    "    ibes_tickers = pickle.load(f)\n",
    "    \n",
    "ibes_data = dict()\n",
    "for oftic, ibes in tqdm(ibes_tickers):\n",
    "    data = pd.read_csv(f\"data/ibes/{oftic}.csv\")\n",
    "    ibes_data[oftic] = data"
   ]
  },
  {
   "cell_type": "code",
   "execution_count": 5,
   "metadata": {},
   "outputs": [
    {
     "data": {
      "text/html": [
       "<div>\n",
       "<style scoped>\n",
       "    .dataframe tbody tr th:only-of-type {\n",
       "        vertical-align: middle;\n",
       "    }\n",
       "\n",
       "    .dataframe tbody tr th {\n",
       "        vertical-align: top;\n",
       "    }\n",
       "\n",
       "    .dataframe thead th {\n",
       "        text-align: right;\n",
       "    }\n",
       "</style>\n",
       "<table border=\"1\" class=\"dataframe\">\n",
       "  <thead>\n",
       "    <tr style=\"text-align: right;\">\n",
       "      <th></th>\n",
       "      <th>ticker</th>\n",
       "      <th>oftic</th>\n",
       "      <th>cname</th>\n",
       "      <th>estimator</th>\n",
       "      <th>analys</th>\n",
       "      <th>fpi</th>\n",
       "      <th>measure</th>\n",
       "      <th>value</th>\n",
       "      <th>fpedats</th>\n",
       "      <th>anndats</th>\n",
       "      <th>anntims</th>\n",
       "      <th>actual</th>\n",
       "      <th>anndats_act</th>\n",
       "      <th>anntims_act</th>\n",
       "    </tr>\n",
       "  </thead>\n",
       "  <tbody>\n",
       "    <tr>\n",
       "      <th>0</th>\n",
       "      <td>AAPL</td>\n",
       "      <td>AAPL</td>\n",
       "      <td>APPLE</td>\n",
       "      <td>1267.0</td>\n",
       "      <td>193808.0</td>\n",
       "      <td>6</td>\n",
       "      <td>EPS</td>\n",
       "      <td>1.1500</td>\n",
       "      <td>2019-12-31</td>\n",
       "      <td>2020-01-03</td>\n",
       "      <td>00:49:00</td>\n",
       "      <td>1.2475</td>\n",
       "      <td>2020-01-28</td>\n",
       "      <td>16:30:00</td>\n",
       "    </tr>\n",
       "    <tr>\n",
       "      <th>1</th>\n",
       "      <td>AAPL</td>\n",
       "      <td>AAPL</td>\n",
       "      <td>APPLE</td>\n",
       "      <td>3374.0</td>\n",
       "      <td>110208.0</td>\n",
       "      <td>6</td>\n",
       "      <td>EPS</td>\n",
       "      <td>1.1775</td>\n",
       "      <td>2019-12-31</td>\n",
       "      <td>2020-01-05</td>\n",
       "      <td>12:10:00</td>\n",
       "      <td>1.2475</td>\n",
       "      <td>2020-01-28</td>\n",
       "      <td>16:30:00</td>\n",
       "    </tr>\n",
       "    <tr>\n",
       "      <th>2</th>\n",
       "      <td>AAPL</td>\n",
       "      <td>AAPL</td>\n",
       "      <td>APPLE</td>\n",
       "      <td>930.0</td>\n",
       "      <td>191412.0</td>\n",
       "      <td>6</td>\n",
       "      <td>EPS</td>\n",
       "      <td>1.1775</td>\n",
       "      <td>2019-12-31</td>\n",
       "      <td>2020-01-09</td>\n",
       "      <td>07:00:00</td>\n",
       "      <td>1.2475</td>\n",
       "      <td>2020-01-28</td>\n",
       "      <td>16:30:00</td>\n",
       "    </tr>\n",
       "    <tr>\n",
       "      <th>3</th>\n",
       "      <td>AAPL</td>\n",
       "      <td>AAPL</td>\n",
       "      <td>APPLE</td>\n",
       "      <td>2301.0</td>\n",
       "      <td>83036.0</td>\n",
       "      <td>6</td>\n",
       "      <td>EPS</td>\n",
       "      <td>1.1450</td>\n",
       "      <td>2019-12-31</td>\n",
       "      <td>2020-01-09</td>\n",
       "      <td>13:00:00</td>\n",
       "      <td>1.2475</td>\n",
       "      <td>2020-01-28</td>\n",
       "      <td>16:30:00</td>\n",
       "    </tr>\n",
       "    <tr>\n",
       "      <th>4</th>\n",
       "      <td>AAPL</td>\n",
       "      <td>AAPL</td>\n",
       "      <td>APPLE</td>\n",
       "      <td>79.0</td>\n",
       "      <td>108299.0</td>\n",
       "      <td>6</td>\n",
       "      <td>EPS</td>\n",
       "      <td>1.1175</td>\n",
       "      <td>2019-12-31</td>\n",
       "      <td>2020-01-13</td>\n",
       "      <td>06:34:00</td>\n",
       "      <td>1.2475</td>\n",
       "      <td>2020-01-28</td>\n",
       "      <td>16:30:00</td>\n",
       "    </tr>\n",
       "  </tbody>\n",
       "</table>\n",
       "</div>"
      ],
      "text/plain": [
       "  ticker oftic  cname  estimator    analys  fpi measure   value     fpedats  \\\n",
       "0   AAPL  AAPL  APPLE     1267.0  193808.0    6     EPS  1.1500  2019-12-31   \n",
       "1   AAPL  AAPL  APPLE     3374.0  110208.0    6     EPS  1.1775  2019-12-31   \n",
       "2   AAPL  AAPL  APPLE      930.0  191412.0    6     EPS  1.1775  2019-12-31   \n",
       "3   AAPL  AAPL  APPLE     2301.0   83036.0    6     EPS  1.1450  2019-12-31   \n",
       "4   AAPL  AAPL  APPLE       79.0  108299.0    6     EPS  1.1175  2019-12-31   \n",
       "\n",
       "      anndats   anntims  actual anndats_act anntims_act  \n",
       "0  2020-01-03  00:49:00  1.2475  2020-01-28    16:30:00  \n",
       "1  2020-01-05  12:10:00  1.2475  2020-01-28    16:30:00  \n",
       "2  2020-01-09  07:00:00  1.2475  2020-01-28    16:30:00  \n",
       "3  2020-01-09  13:00:00  1.2475  2020-01-28    16:30:00  \n",
       "4  2020-01-13  06:34:00  1.2475  2020-01-28    16:30:00  "
      ]
     },
     "execution_count": 5,
     "metadata": {},
     "output_type": "execute_result"
    }
   ],
   "source": [
    "ibes_data['AAPL'].head()"
   ]
  },
  {
   "cell_type": "code",
   "execution_count": 6,
   "metadata": {},
   "outputs": [
    {
     "data": {
      "text/plain": [
       "array(['2020-01-28', '2020-04-30', '2020-07-30', '2020-10-29',\n",
       "       '2021-01-27', '2021-04-28', '2021-07-27', '2021-10-28',\n",
       "       '2022-01-27', '2022-04-28', '2022-07-28', '2022-10-27',\n",
       "       '2023-02-02', '2023-05-04', '2023-08-03', '2023-11-02',\n",
       "       '2024-02-01', '2024-05-02', '2024-08-01', '2024-10-31'],\n",
       "      dtype=object)"
      ]
     },
     "execution_count": 6,
     "metadata": {},
     "output_type": "execute_result"
    }
   ],
   "source": [
    "ibes_data['AAPL']['anndats_act'].dropna().unique()"
   ]
  },
  {
   "cell_type": "code",
   "execution_count": 7,
   "metadata": {},
   "outputs": [
    {
     "data": {
      "text/plain": [
       "array(['2020-02-13', '2020-05-21', '2020-08-19', '2020-11-18',\n",
       "       '2021-02-24', '2021-05-26', '2021-08-18', '2021-11-17',\n",
       "       '2022-02-16', '2022-05-25', '2022-08-24', '2022-11-16',\n",
       "       '2023-02-22', '2023-05-24', '2023-08-23', '2023-11-21',\n",
       "       '2024-02-21', '2024-05-22', '2024-08-28'], dtype=object)"
      ]
     },
     "execution_count": 7,
     "metadata": {},
     "output_type": "execute_result"
    }
   ],
   "source": [
    "ibes_data['NVDA']['anndats_act'].dropna().unique()"
   ]
  },
  {
   "cell_type": "code",
   "execution_count": 161,
   "metadata": {},
   "outputs": [
    {
     "name": "stdout",
     "output_type": "stream",
     "text": [
      "NVDA (19,)\n",
      "AVGO (19,)\n",
      "WMT (19,)\n",
      "ORCL (19,)\n",
      "COST (19,)\n",
      "CRM (18,)\n",
      "CSCO (19,)\n",
      "ACN (19,)\n",
      "ABT (19,)\n",
      "ADBE (19,)\n",
      "PLTR (17,)\n",
      "INTU (19,)\n",
      "QCOM (19,)\n",
      "ANET (19,)\n",
      "LOW (19,)\n",
      "TJX (19,)\n",
      "PANW (19,)\n",
      "DE (19,)\n",
      "NKE (19,)\n",
      "ADI (18,)\n",
      "MDT (19,)\n",
      "MU (19,)\n",
      "PLD (19,)\n",
      "GEV (3,)\n",
      "CRWD (19,)\n",
      "APH (19,)\n",
      "ABNB (16,)\n",
      "DELL (19,)\n",
      "MSI (19,)\n",
      "SNPS (18,)\n",
      "CTAS (19,)\n",
      "CEG (11,)\n",
      "FDX (19,)\n",
      "ADSK (19,)\n",
      "CARR (19,)\n",
      "TGT (19,)\n",
      "CPRT (19,)\n",
      "AZO (19,)\n",
      "PSA (19,)\n",
      "PAYX (19,)\n",
      "ROST (19,)\n",
      "AXON (19,)\n",
      "LULU (19,)\n",
      "O (19,)\n",
      "KR (19,)\n",
      "KDP (19,)\n",
      "KVUE (5,)\n",
      "A (19,)\n",
      "SYY (19,)\n",
      "OTIS (19,)\n",
      "LEN (19,)\n",
      "IR (19,)\n",
      "GEHC (7,)\n",
      "GIS (19,)\n",
      "CCL (19,)\n",
      "IDXX (19,)\n",
      "HPQ (19,)\n",
      "ANSS (19,)\n",
      "CSGP (19,)\n",
      "MPWR (19,)\n",
      "GDDY (19,)\n",
      "HPE (19,)\n",
      "KEYS (18,)\n",
      "EQR (19,)\n",
      "SW (2,)\n",
      "TPL (19,)\n",
      "TYL (19,)\n",
      "VLTO (4,)\n",
      "NVR (19,)\n",
      "NTAP (19,)\n",
      "WST (19,)\n",
      "HUBB (19,)\n",
      "ROL (19,)\n",
      "PTC (19,)\n",
      "DRI (19,)\n",
      "IFF (19,)\n",
      "ERIE (19,)\n",
      "TDY (19,)\n",
      "ATO (19,)\n",
      "STE (19,)\n",
      "ZBRA (19,)\n",
      "ULTA (19,)\n",
      "BF.B (19,)\n",
      "LDOS (19,)\n",
      "PODD (19,)\n",
      "COO (19,)\n",
      "SMCI (19,)\n",
      "MAA (19,)\n",
      "FDS (19,)\n",
      "BBY (19,)\n",
      "SNA (19,)\n",
      "HRL (19,)\n",
      "J (19,)\n",
      "DG (19,)\n",
      "NWSA (19,)\n",
      "UDR (19,)\n",
      "JBL (19,)\n",
      "IEX (19,)\n",
      "DLTR (19,)\n",
      "MRNA (19,)\n",
      "AVY (19,)\n",
      "FFIV (19,)\n",
      "KMX (19,)\n",
      "CAG (19,)\n",
      "JKHY (19,)\n",
      "DVA (19,)\n",
      "CPB (19,)\n",
      "NDSN (19,)\n",
      "PAYC (19,)\n",
      "SJM (19,)\n",
      "SOLV (2,)\n",
      "BEN (19,)\n",
      "GNRC (19,)\n",
      "LW (19,)\n",
      "MTCH (19,)\n"
     ]
    }
   ],
   "source": [
    "for t, data in ibes_data.items():\n",
    "    data = data.dropna()\n",
    "    if data['anndats_act'].unique().shape[0] != 20:\n",
    "        print(t, data['anndats_act'].unique().shape)"
   ]
  },
  {
   "cell_type": "code",
   "execution_count": null,
   "metadata": {},
   "outputs": [
    {
     "name": "stdout",
     "output_type": "stream",
     "text": [
      "ORCL 2020-02-29 00:00:00\n",
      "COST 2020-02-29 00:00:00\n",
      "CRM 2020-04-30 00:00:00\n",
      "CSCO 2020-04-30 00:00:00\n",
      "ACN 2020-02-29 00:00:00\n",
      "ABT 2020-03-31 00:00:00\n",
      "ADBE 2020-02-29 00:00:00\n",
      "PLTR 2020-09-30 00:00:00\n",
      "QCOM 2020-03-31 00:00:00\n",
      "ANET 2020-03-31 00:00:00\n",
      "LOW 2024-10-31 00:00:00\n",
      "NKE 2020-02-29 00:00:00\n",
      "ADI 2020-04-30 00:00:00\n",
      "MU 2020-02-29 00:00:00\n",
      "PLD 2020-03-31 00:00:00\n",
      "GEV 2024-03-31 00:00:00\n",
      "APH 2020-03-31 00:00:00\n",
      "ABNB 2020-12-31 00:00:00\n",
      "MSI 2020-03-31 00:00:00\n",
      "SNPS 2020-04-30 00:00:00\n",
      "CTAS 2020-02-29 00:00:00\n",
      "CEG 2022-03-31 00:00:00\n",
      "FDX 2024-11-30 00:00:00\n",
      "CARR 2020-03-31 00:00:00\n",
      "AZO 2020-02-29 00:00:00\n",
      "JCI 2024-12-31 00:00:00\n",
      "PSA 2020-03-31 00:00:00\n",
      "PAYX 2020-02-29 00:00:00\n",
      "AXON 2020-03-31 00:00:00\n",
      "O 2020-03-31 00:00:00\n",
      "DHI 2024-12-31 00:00:00\n",
      "KDP 2020-03-31 00:00:00\n",
      "KVUE 2023-03-31 00:00:00\n",
      "SYY 2020-03-31 00:00:00\n",
      "OTIS 2020-03-31 00:00:00\n",
      "LEN 2020-02-29 00:00:00\n",
      "GEHC 2023-03-31 00:00:00\n",
      "GIS 2020-02-29 00:00:00\n",
      "CCL 2020-02-29 00:00:00\n",
      "IDXX 2020-03-31 00:00:00\n",
      "ANSS 2020-03-31 00:00:00\n",
      "CSGP 2020-03-31 00:00:00\n",
      "MPWR 2020-03-31 00:00:00\n",
      "GDDY 2020-03-31 00:00:00\n",
      "KEYS 2020-04-30 00:00:00\n",
      "EQR 2020-03-31 00:00:00\n",
      "SW 2024-06-30 00:00:00\n",
      "TYL 2020-03-31 00:00:00\n",
      "VLTO 2023-09-30 00:00:00\n",
      "NVR 2020-03-31 00:00:00\n",
      "WST 2020-03-31 00:00:00\n",
      "ROL 2020-03-31 00:00:00\n",
      "PTC 2020-03-31 00:00:00\n",
      "DRI 2020-02-29 00:00:00\n",
      "IFF 2020-03-31 00:00:00\n",
      "ERIE 2020-03-31 00:00:00\n",
      "TDY 2020-03-31 00:00:00\n",
      "STE 2020-03-31 00:00:00\n",
      "ZBRA 2020-03-31 00:00:00\n",
      "LDOS 2020-03-31 00:00:00\n",
      "PODD 2020-03-31 00:00:00\n",
      "MAA 2020-03-31 00:00:00\n",
      "FDS 2020-02-29 00:00:00\n",
      "BBY 2024-10-31 00:00:00\n",
      "SNA 2020-03-31 00:00:00\n",
      "NWSA 2020-03-31 00:00:00\n",
      "UDR 2020-03-31 00:00:00\n",
      "JBL 2020-02-29 00:00:00\n",
      "IEX 2020-03-31 00:00:00\n",
      "MRNA 2020-03-31 00:00:00\n",
      "AVY 2020-03-31 00:00:00\n",
      "FFIV 2020-03-31 00:00:00\n",
      "KMX 2020-02-29 00:00:00\n",
      "CAG 2020-02-29 00:00:00\n",
      "JKHY 2020-03-31 00:00:00\n",
      "DVA 2020-03-31 00:00:00\n",
      "PAYC 2020-03-31 00:00:00\n",
      "SOLV 2024-03-31 00:00:00\n",
      "GNRC 2020-03-31 00:00:00\n",
      "LW 2020-02-29 00:00:00\n",
      "MTCH 2020-03-31 00:00:00\n"
     ]
    }
   ],
   "source": [
    "for t, data in ibes_data.items():\n",
    "    first_fpedats = pd.to_datetime(data['fpedats'].iloc[0], format='%Y-%m-%d')\n",
    "    if first_fpedats > pd.to_datetime('2020-02-01'):\n",
    "        print(t, first_fpedats)"
   ]
  },
  {
   "cell_type": "markdown",
   "metadata": {},
   "source": [
    "There are a lot of date mismatches. What we really should do is align dates to match dates as close together as possible. This is a multidimensional assignment problem (MAP) (which is NP-Hard). However, we still need to solve it for this dataset. So, we will use the `kap` library, which implements some algos for MAP problems.\n",
    "\n",
    "This was a valiant effort, but takes too long for our purposes. We know the start and end date have 5 years and 4 quarters per year. Thus, we know there are 20 quarters in total to fit everything into. Thus, our problem is far more structured than a general MAP problem. We can use this to our advantage and solve the problem in a more efficient manner.\n",
    "\n",
    "We will simply solve a linear assignment problem to match each date to some \"base\" point. Our \"base\" point will be Apple since it has 20 unique dates in this dataset."
   ]
  },
  {
   "cell_type": "code",
   "execution_count": 5,
   "metadata": {},
   "outputs": [],
   "source": [
    "unique_dates = dict()\n",
    "max_length = 20\n",
    "for t, data in ibes_data.items():\n",
    "    dates = pd.to_datetime(data['anndats_act'].dropna().unique(), format='%Y-%m-%d')\n",
    "    dates = np.array(list(dates) + [pd.NaT] * (max_length - len(dates)))\n",
    "    unique_dates[t] = dates"
   ]
  },
  {
   "cell_type": "code",
   "execution_count": 3,
   "metadata": {},
   "outputs": [],
   "source": [
    "from itertools import combinations\n",
    "from scipy.optimize import linear_sum_assignment"
   ]
  },
  {
   "cell_type": "code",
   "execution_count": 6,
   "metadata": {},
   "outputs": [],
   "source": [
    "cost_matrices = [] # cost matrix for 'AAPL' to all other tickers\n",
    "\n",
    "base_date = unique_dates['AAPL']\n",
    "\n",
    "aligned_dates = dict()\n",
    "\n",
    "for t, d in unique_dates.items():\n",
    "    cost_matrix = []\n",
    "    for d1 in base_date:\n",
    "        row = []\n",
    "        for d2 in d:\n",
    "            row.append(abs((d1 - d2).days) if pd.notna(d1) and pd.notna(d2) else 365*5*2)\n",
    "        cost_matrix.append(row)\n",
    "    row_ind, col_ind = linear_sum_assignment(cost_matrix, maximize=False)\n",
    "    aligned_dates[t] = d[col_ind]"
   ]
  },
  {
   "cell_type": "code",
   "execution_count": 7,
   "metadata": {},
   "outputs": [
    {
     "data": {
      "text/plain": [
       "array([NaT, Timestamp('2020-05-28 00:00:00'),\n",
       "       Timestamp('2020-08-25 00:00:00'), Timestamp('2020-12-01 00:00:00'),\n",
       "       Timestamp('2021-02-25 00:00:00'), Timestamp('2021-05-27 00:00:00'),\n",
       "       Timestamp('2021-08-25 00:00:00'), Timestamp('2021-11-30 00:00:00'),\n",
       "       Timestamp('2022-03-01 00:00:00'), Timestamp('2022-05-31 00:00:00'),\n",
       "       Timestamp('2022-08-24 00:00:00'), Timestamp('2022-11-30 00:00:00'),\n",
       "       Timestamp('2023-03-01 00:00:00'), Timestamp('2023-05-31 00:00:00'),\n",
       "       Timestamp('2023-08-30 00:00:00'), Timestamp('2023-11-29 00:00:00'),\n",
       "       Timestamp('2024-02-28 00:00:00'), Timestamp('2024-05-29 00:00:00'),\n",
       "       Timestamp('2024-08-28 00:00:00'), NaT], dtype=object)"
      ]
     },
     "execution_count": 7,
     "metadata": {},
     "output_type": "execute_result"
    }
   ],
   "source": [
    "aligned_dates['CRM']"
   ]
  },
  {
   "cell_type": "markdown",
   "metadata": {},
   "source": [
    "We now have aligned dates. We can use this to properly construct our tabular dataset."
   ]
  },
  {
   "cell_type": "markdown",
   "metadata": {},
   "source": [
    "Now, we need to start groupping the data by quarter. We can initially do this by grouping the data by the announce date of the actual EPS."
   ]
  },
  {
   "cell_type": "code",
   "execution_count": 12,
   "metadata": {},
   "outputs": [
    {
     "name": "stderr",
     "output_type": "stream",
     "text": [
      "100%|██████████| 497/497 [00:04<00:00, 107.35it/s]\n"
     ]
    }
   ],
   "source": [
    "# since we start at January 1, 2020, we can assume that the first date is the first quarter of 2020\n",
    "quarterly_data = dict()\n",
    "quarterly_actual = dict() # actual value, announcement date, announcement time\n",
    "for oftic, data in tqdm(ibes_data.items()):\n",
    "    data = data.dropna(axis=0, subset=['anndats_act'])\n",
    "    starting_year = 2020 # we start at January 1, 2020\n",
    "    for i, date in enumerate(aligned_dates[oftic]):\n",
    "        quarter_num = (i % 4) + 1 # 1,2,3,4\n",
    "        year = starting_year + (i // 4)\n",
    "        if date is pd.NaT:\n",
    "            quarterly_actual[oftic, year, quarter_num] = None\n",
    "            quarterly_data[oftic, year, quarter_num] = None\n",
    "            continue\n",
    "        date = date.strftime('%Y-%m-%d')\n",
    "        subdata = data[data['anndats_act'] == date].copy()\n",
    "        \n",
    "        quarterly_actual[oftic, year, quarter_num] = (subdata['actual'].iloc[0], \n",
    "                                                      subdata['anndats_act'].iloc[0],\n",
    "                                                      subdata['anntims_act'].iloc[0])\n",
    "        subdata['ann_datetime'] = pd.to_datetime(subdata['anndats'] + ' ' + subdata['anntims'], format='%Y-%m-%d %H:%M:%S')\n",
    "        quarterly_data[oftic, year, quarter_num] = subdata[['value', 'ann_datetime']]"
   ]
  },
  {
   "cell_type": "code",
   "execution_count": 48,
   "metadata": {},
   "outputs": [],
   "source": [
    "with open('quarterly_actual.pkl', 'wb') as f:\n",
    "    pickle.dump(quarterly_actual, f)\n",
    "\n",
    "with open('quarterly_data.pkl', 'wb') as f:\n",
    "    pickle.dump(quarterly_data, f)"
   ]
  },
  {
   "cell_type": "code",
   "execution_count": 8,
   "metadata": {},
   "outputs": [],
   "source": [
    "with open('quarterly_actual.pkl', 'rb') as f:\n",
    "    quarterly_actual = pickle.load(f)\n",
    "    \n",
    "with open('quarterly_data.pkl', 'rb') as f:\n",
    "    quarterly_data = pickle.load(f)"
   ]
  },
  {
   "cell_type": "markdown",
   "metadata": {},
   "source": [
    "We have 5 years: 2020, 2021, 2022, 2023, and 2024.\n",
    "\n",
    "We have 4 quarters in a year: Q1, Q2, Q3, and Q4.\n",
    "\n",
    "Thus, we have 20 columns (year/quarter) to work with and 497 rows (companies)"
   ]
  },
  {
   "cell_type": "code",
   "execution_count": 9,
   "metadata": {},
   "outputs": [],
   "source": [
    "# Use step function helper functions since we have different sample amounts.\n",
    "from itertools import combinations\n",
    "import bisect\n",
    "\n",
    "def step_function(x_points, y_points, x):\n",
    "    # Find the interval that x falls into\n",
    "    idx = bisect.bisect_right(x_points, x) - 1\n",
    "    # If x is before the first point, return the first y\n",
    "    if idx < 0:\n",
    "        return y_points[0]\n",
    "    # If x is beyond the last point, return the last y\n",
    "    elif idx >= len(y_points):\n",
    "        return y_points[-1]\n",
    "    # Otherwise, return the y corresponding to the interval\n",
    "    return y_points[idx]\n",
    "\n",
    "def squared_difference_integral(x1, y1, x2, y2):\n",
    "    # Combine and sort all x points from both arrays, ensuring no duplicates\n",
    "    x_points = np.unique(np.concatenate((x1, x2)))\n",
    "    total_integral = 0.0\n",
    "\n",
    "    for i in range(len(x_points) - 1):\n",
    "        # Define the interval [x_points[i], x_points[i+1]]\n",
    "        x_left = x_points[i]\n",
    "        x_right = x_points[i + 1]\n",
    "        interval_length = x_right - x_left\n",
    "\n",
    "        # Find the y-values for this interval\n",
    "        # Last y-value from each array that is <= x_left\n",
    "        y1_value = step_function(x1, y1, x_left)\n",
    "        y2_value = step_function(x2, y2, x_left)\n",
    "\n",
    "        # Compute squared difference and add to total integral\n",
    "        squared_difference = (y1_value - y2_value) ** 2\n",
    "        total_integral += squared_difference * interval_length\n",
    "\n",
    "    return total_integral\n",
    "\n",
    "def average_step_function(step_functions):\n",
    "    # Extract x and y values from each step function\n",
    "    all_x = np.unique(np.concatenate([sf[0] for sf in step_functions]))\n",
    "    avg_y = []\n",
    "\n",
    "    # Loop through each interval\n",
    "    for i in range(len(all_x) - 1):\n",
    "        x_left = all_x[i]\n",
    "        \n",
    "        # For each step function, get the y-value at the start of this interval\n",
    "        y_values = []\n",
    "        for x, y in step_functions:\n",
    "            y_val = step_function(x, y, x_left)\n",
    "            y_values.append(y_val)\n",
    "        # Compute the average y-value for this interval\n",
    "        avg_y.append(np.mean(y_values))\n",
    "\n",
    "    # Add the final y-value after the last x-point\n",
    "    y_values = [y[np.searchsorted(x, all_x[-1], side='right') - 1] for x, y in step_functions]\n",
    "    avg_y.append(np.mean(y_values))\n",
    "\n",
    "    return all_x, np.array(avg_y)\n",
    "\n",
    "def get_wasserstein_dists(ppf_dict, direction = 'user'):\n",
    "    \"\"\"Return the pairwise Wasserstein distance for the given row (plaza_id, weekday)\n",
    "    to all the other rows.\n",
    "\n",
    "    Args:\n",
    "        plaza_id (int): ID of bridge or tunnel\n",
    "        weekday (int): Day of the week (1-7)\n",
    "        ppf_dict (dict): Dictionary of inverse CDFs\n",
    "\n",
    "    Returns:\n",
    "        dict: Dictionary of pairwise Wasserstein distances\n",
    "    \"\"\"\n",
    "    rows = set(k[0] for k in ppf_dict.keys())\n",
    "    cols = set(k[1] for k in ppf_dict.keys())\n",
    "    dists = dict()\n",
    "    \n",
    "    if direction == 'user':\n",
    "        row_pairs = list(combinations(rows, 2))\n",
    "        \n",
    "        for key1, key2 in tqdm(row_pairs):\n",
    "            key = frozenset([key1, key2])\n",
    "            \n",
    "            if dists.get(key) is None:\n",
    "                dists[key] = dict()\n",
    "            \n",
    "            for c in cols:\n",
    "                key_row1 = (key1, c)\n",
    "                key_row2 = (key2, c)\n",
    "                if ppf_dict.get(key_row1) is None or ppf_dict.get(key_row2) is None:\n",
    "                    dists[key][c] = None\n",
    "                    continue\n",
    "                # dists[key][c] = wasserstein2_mc(ppf_dict[key_row1], ppf_dict[key_row2])\n",
    "                x1,y1 = ppf_dict[key_row1]\n",
    "                x2,y2 = ppf_dict[key_row2]\n",
    "                dists[key][c] = squared_difference_integral(x1, y1, x2, y2)\n",
    "    elif direction == 'item':\n",
    "        col_pairs = list(combinations(cols, 2))\n",
    "        \n",
    "        for key1, key2 in tqdm(col_pairs):\n",
    "            key = frozenset([key1, key2])\n",
    "            \n",
    "            if dists.get(key) is None:\n",
    "                dists[key] = dict()\n",
    "            \n",
    "            for r in rows:\n",
    "                key_col1 = (r, key1)\n",
    "                key_col2 = (r, key2)\n",
    "                if ppf_dict.get(key_col1) is None or ppf_dict.get(key_col2) is None:\n",
    "                    dists[key][r] = None\n",
    "                    continue\n",
    "                # dists[key][r] = wasserstein2_mc(ppf_dict[key_col1], ppf_dict[key_col2])\n",
    "                x1,y1 = ppf_dict[key_col1]\n",
    "                x2,y2 = ppf_dict[key_col2]\n",
    "                dists[key][r] = squared_difference_integral(x1, y1, x2, y2)\n",
    "    return dists"
   ]
  },
  {
   "cell_type": "code",
   "execution_count": 10,
   "metadata": {},
   "outputs": [
    {
     "data": {
      "text/plain": [
       "np.float64(0.6666666666666666)"
      ]
     },
     "execution_count": 10,
     "metadata": {},
     "output_type": "execute_result"
    }
   ],
   "source": [
    "def wasserstein2(sample1, sample2):\n",
    "    \"\"\"Compute the squared 2-Wasserstein distance between two samples.\n",
    "    Inputs need to be in format (sample, dimension).\n",
    "    Args:\n",
    "        sample1 (np.array): 2D array of samples from the first distribution\n",
    "        sample2 (np.array): 2D array of samples from the second distribution\n",
    "    \"\"\"\n",
    "    C = ot.dist(sample1, sample2, metric='sqeuclidean')\n",
    "    # Uniform weights for each empirical distribution\n",
    "    a = np.ones(len(sample1)) / len(sample1)\n",
    "    b = np.ones(len(sample2)) / len(sample2)\n",
    "\n",
    "    # Compute optimal transport plan and Wasserstein distance\n",
    "    P = ot.emd(a, b, C)\n",
    "    return np.sum(P * C)\n",
    "\n",
    "wasserstein2(np.array([1,2,3]).reshape(-1,1), np.array([1,2,1]).reshape(-1,1))"
   ]
  },
  {
   "cell_type": "code",
   "execution_count": 11,
   "metadata": {},
   "outputs": [],
   "source": [
    "def wass_barycenter(sample_list):\n",
    "    \"\"\"Compute the Wasserstein barycenter from a list of sample arrays.\n",
    "    Returns the x,y coordinates for the quantile function of the barycenter.\n",
    "    \"\"\"\n",
    "    step_functions = list()\n",
    "    for sample_arr in sample_list:\n",
    "        x = np.cumsum(np.ones(len(sample_arr)) / len(sample_arr))\n",
    "        y = np.sort(sample_arr)\n",
    "        step_functions.append((x, y))\n",
    "    x_avg, y_avg = average_step_function(step_functions)\n",
    "    return (x_avg, y_avg)"
   ]
  },
  {
   "cell_type": "code",
   "execution_count": 12,
   "metadata": {},
   "outputs": [],
   "source": [
    "# How will we compute the Wasserstein distance between the barycenter and samples?\n",
    "# We will have to use the step function representation for the samples because\n",
    "# converting an arbitrary distribution to a sample can take a lot of memory.\n",
    "\n",
    "def wass_barycenter_dist(sample_arr, barycenter):\n",
    "    \"\"\"Compute the Wasserstein distance between the barycenter and an array of samples.\n",
    "    \"\"\"\n",
    "    x = np.cumsum(np.ones(len(sample_arr)) / len(sample_arr))\n",
    "    y = np.sort(sample_arr)\n",
    "    return squared_difference_integral(barycenter[0], barycenter[1], x, y)"
   ]
  },
  {
   "cell_type": "code",
   "execution_count": 13,
   "metadata": {},
   "outputs": [],
   "source": [
    "# There are a lot of rows, so we will estimate distances for specific rows.\n",
    "# We will need to make sure that we do not look into the future.\n",
    "# When calculating distances, we will only look at the past data, using the \n",
    "# datestimes when the actual EPS are announced, since we would like to estimate our distributions\n",
    "# as late as possible (close to the announcement date).\n",
    "\n",
    "def get_rows_cols():\n",
    "    cols = [(year, quarter) for year in range(2020, 2025) for quarter in range(1, 5)]\n",
    "    rows = list(ibes_data.keys())\n",
    "    return rows, cols\n",
    "\n",
    "def get_dist(ticker, year, quarter, quarterly_actual, quarterly_data):\n",
    "    # Returns the squared Wasserstein distance between rows for 1 column\n",
    "    # Filters to only use past data\n",
    "    rows, _ = get_rows_cols()\n",
    "    \n",
    "    actual = quarterly_actual[ticker, year, quarter]\n",
    "    actual_datetime = pd.to_datetime(f'{actual[1]} {actual[2]}', format='%Y-%m-%d %H:%M:%S')\n",
    "    sample1 = quarterly_data[ticker, year, quarter]['value'].values.reshape(-1,1)\n",
    "    dists = dict()\n",
    "    for row in rows:\n",
    "        dist = 0\n",
    "        raw_data = quarterly_data[row, year, quarter]\n",
    "        if raw_data is None:\n",
    "            dists[row] = np.nan\n",
    "            continue\n",
    "        # only past data\n",
    "        filtered_data = raw_data[raw_data['ann_datetime'] < actual_datetime]\n",
    "        if filtered_data.shape[0] == 0:\n",
    "            dists[row] = np.nan\n",
    "            continue\n",
    "        sample2 = filtered_data['value'].values.reshape(-1,1)\n",
    "        dist = wasserstein2(sample1, sample2)\n",
    "        dists[row] = dist\n",
    "    return dists\n",
    "\n",
    "dists = get_dist('AAPL', 2020, 1, quarterly_actual, quarterly_data)"
   ]
  },
  {
   "cell_type": "code",
   "execution_count": 18,
   "metadata": {},
   "outputs": [
    {
     "name": "stdout",
     "output_type": "stream",
     "text": [
      "     value        ann_datetime\n",
      "11  0.7320 2020-01-28 20:55:00\n",
      "12  0.7600 2020-01-28 19:51:00\n",
      "13  0.7325 2020-01-28 21:10:00\n",
      "14  0.7700 2020-01-28 22:40:00\n",
      "15  0.7550 2020-01-28 23:29:00\n",
      "..     ...                 ...\n",
      "92  0.5650 2020-04-17 01:30:00\n",
      "93  0.5675 2020-04-20 06:20:00\n",
      "94  0.5450 2020-04-23 22:49:00\n",
      "95  0.4730 2020-04-24 08:00:00\n",
      "96  0.3800 2020-04-27 00:10:00\n",
      "\n",
      "[86 rows x 2 columns] 0.6375\n"
     ]
    }
   ],
   "source": [
    "data = quarterly_data['AAPL', 2020, 2]\n",
    "actual = quarterly_actual['AAPL', 2020, 2][0]\n",
    "print(data, actual)"
   ]
  },
  {
   "cell_type": "code",
   "execution_count": 19,
   "metadata": {},
   "outputs": [
    {
     "data": {
      "text/plain": [
       "(np.float64(0.6508360465116279),\n",
       " np.float64(0.6575),\n",
       " np.float64(0.38),\n",
       " np.float64(0.7775))"
      ]
     },
     "execution_count": 19,
     "metadata": {},
     "output_type": "execute_result"
    }
   ],
   "source": [
    "data['value'].mean(), data['value'].median(), data['value'].min(), data['value'].max()"
   ]
  },
  {
   "cell_type": "code",
   "execution_count": 20,
   "metadata": {},
   "outputs": [
    {
     "data": {
      "text/plain": [
       "<matplotlib.collections.LineCollection at 0x16a124ed0>"
      ]
     },
     "execution_count": 20,
     "metadata": {},
     "output_type": "execute_result"
    },
    {
     "data": {
      "image/png": "[encoded data removed]",
      "text/plain": [
       "<Figure size 640x480 with 1 Axes>"
      ]
     },
     "metadata": {},
     "output_type": "display_data"
    }
   ],
   "source": [
    "data['value'].hist()\n",
    "plt.vlines(actual, 0, 20, color='red')\n",
    "plt.vlines(data['value'].mean(), 0, 20, color='black')\n",
    "plt.vlines(data['value'].median(), 0, 20, color='green')"
   ]
  },
  {
   "cell_type": "code",
   "execution_count": 21,
   "metadata": {},
   "outputs": [
    {
     "data": {
      "text/plain": [
       "[<matplotlib.lines.Line2D at 0x16a1e06d0>]"
      ]
     },
     "execution_count": 21,
     "metadata": {},
     "output_type": "execute_result"
    },
    {
     "data": {
      "image/png": "[encoded data removed]",
      "text/plain": [
       "<Figure size 640x480 with 1 Axes>"
      ]
     },
     "metadata": {},
     "output_type": "display_data"
    }
   ],
   "source": [
    "y = np.sort(data['value'].values)\n",
    "x = np.cumsum(np.ones(len(y)) / len(y))\n",
    "plt.plot(x, y)"
   ]
  },
  {
   "cell_type": "code",
   "execution_count": 23,
   "metadata": {},
   "outputs": [
    {
     "data": {
      "text/plain": [
       "['AAPL',\n",
       " 'MRK',\n",
       " 'WFC',\n",
       " 'VZ',\n",
       " 'PGR',\n",
       " 'FI',\n",
       " 'MMC',\n",
       " 'WM',\n",
       " 'USB',\n",
       " 'D',\n",
       " 'TEL',\n",
       " 'VRSK',\n",
       " 'YUM',\n",
       " 'VMC',\n",
       " 'DECK',\n",
       " 'AVB',\n",
       " 'CAH',\n",
       " 'SYF',\n",
       " 'NTAP',\n",
       " 'CINF',\n",
       " 'CBOE',\n",
       " 'J',\n",
       " 'AKAM']"
      ]
     },
     "execution_count": 23,
     "metadata": {},
     "output_type": "execute_result"
    }
   ],
   "source": [
    "threshold = 0.005\n",
    "\n",
    "neighbors = [ticker for ticker, dist in dists.items() if dist < threshold]\n",
    "neighbors"
   ]
  },
  {
   "cell_type": "code",
   "execution_count": 24,
   "metadata": {},
   "outputs": [
    {
     "data": {
      "text/plain": [
       "23"
      ]
     },
     "execution_count": 24,
     "metadata": {},
     "output_type": "execute_result"
    }
   ],
   "source": [
    "len(neighbors)"
   ]
  },
  {
   "cell_type": "code",
   "execution_count": 25,
   "metadata": {},
   "outputs": [
    {
     "name": "stdout",
     "output_type": "stream",
     "text": [
      "AAPL (86, 2) (86, 2)\n",
      "MRK (20, 2) (20, 2)\n",
      "WFC (57, 2) (57, 2)\n",
      "VZ (34, 2) (34, 2)\n",
      "PGR (50, 2) (50, 2)\n",
      "FI (49, 2) (50, 2)\n",
      "MMC (29, 2) (29, 2)\n",
      "WM (22, 2) (23, 2)\n",
      "USB (48, 2) (48, 2)\n",
      "D (24, 2) (25, 2)\n",
      "TEL (34, 2) (34, 2)\n",
      "VRSK (21, 2) (21, 2)\n",
      "YUM (45, 2) (45, 2)\n",
      "VMC (29, 2) (29, 2)\n",
      "DECK (16, 2) (21, 2)\n",
      "AVB (12, 2) (12, 2)\n",
      "CAH (16, 2) (16, 2)\n",
      "SYF (36, 2) (36, 2)\n",
      "NTAP (37, 2) (42, 2)\n",
      "CINF (13, 2) (13, 2)\n",
      "CBOE (37, 2) (37, 2)\n",
      "J (14, 2) (14, 2)\n",
      "AKAM (26, 2) (26, 2)\n"
     ]
    }
   ],
   "source": [
    "actual = quarterly_actual['AAPL', 2020, 2]\n",
    "actual_datetime = pd.to_datetime(f'{actual[1]} {actual[2]}', format='%Y-%m-%d %H:%M:%S')\n",
    "\n",
    "sample_list = []\n",
    "for ticker in neighbors:\n",
    "    raw_data = quarterly_data[ticker, 2020, 2]\n",
    "    filtered_data = raw_data[raw_data['ann_datetime'] < actual_datetime]\n",
    "    print(ticker, filtered_data.shape, raw_data.shape)\n",
    "    sample_list.append(filtered_data['value'].values)"
   ]
  },
  {
   "cell_type": "code",
   "execution_count": 26,
   "metadata": {},
   "outputs": [],
   "source": [
    "barycenter = wass_barycenter(sample_list)"
   ]
  },
  {
   "cell_type": "code",
   "execution_count": 27,
   "metadata": {},
   "outputs": [
    {
     "data": {
      "text/plain": [
       "[<matplotlib.lines.Line2D at 0x16a2b6450>]"
      ]
     },
     "execution_count": 27,
     "metadata": {},
     "output_type": "execute_result"
    },
    {
     "data": {
      "image/png": "[encoded data removed]",
      "text/plain": [
       "<Figure size 640x480 with 1 Axes>"
      ]
     },
     "metadata": {},
     "output_type": "display_data"
    }
   ],
   "source": [
    "x,y = barycenter\n",
    "plt.plot(x,y)"
   ]
  },
  {
   "cell_type": "code",
   "execution_count": 28,
   "metadata": {},
   "outputs": [
    {
     "data": {
      "text/plain": [
       "{'AAPL': np.float64(0.0),\n",
       " 'NVDA': np.float64(1.245100126363636),\n",
       " 'MSFT': np.float64(0.029213636363636396),\n",
       " 'AMZN': np.float64(0.8732592894949494),\n",
       " 'GOOGL': np.float64(0.2720219545454546),\n",
       " 'GOOG': np.float64(0.27137380113636367),\n",
       " 'META': np.float64(1.9663330363636364),\n",
       " 'TSLA': np.float64(1.0992272748484848),\n",
       " 'AVGO': np.float64(0.35892563636363617),\n",
       " 'BRK.B': np.float64(1.9047136363636357),\n",
       " 'WMT': np.float64(0.4492136363636362),\n",
       " 'LLY': np.float64(0.17245909090909095),\n",
       " 'JPM': np.float64(1.4242216783216783),\n",
       " 'V': np.float64(0.1009145454545454),\n",
       " 'MA': np.float64(0.5155826363636363),\n",
       " 'ORCL': np.float64(0.03641363636363645),\n",
       " 'XOM': np.float64(0.4814022828282828),\n",
       " 'UNH': np.float64(7.0723175454545455),\n",
       " 'COST': np.float64(0.8578136363636364),\n",
       " 'PG': np.float64(0.05909490909090905),\n",
       " 'HD': np.float64(0.947828318181818),\n",
       " 'NFLX': np.float64(0.4079413636363636),\n",
       " 'JNJ': np.float64(0.5134737727272728),\n",
       " 'BAC': np.float64(0.21164318181818184),\n",
       " 'CRM': nan,\n",
       " 'ABBV': np.float64(1.1131409090909092),\n",
       " 'KO': np.float64(0.5187136363636362),\n",
       " 'TMUS': np.float64(0.08764220779220779),\n",
       " 'CVX': np.float64(0.115092),\n",
       " 'MRK': np.float64(0.0003560606060606306),\n",
       " 'WFC': np.float64(0.0012087272727273107),\n",
       " 'CSCO': nan,\n",
       " 'ACN': nan,\n",
       " 'NOW': np.float64(0.0732136363636363),\n",
       " 'AXP': np.float64(0.7044813131313128),\n",
       " 'MCD': np.float64(0.6432554545454544),\n",
       " 'PEP': nan,\n",
       " 'BX': np.float64(0.24265707070707068),\n",
       " 'IBM': np.float64(12.626272727272728),\n",
       " 'DIS': np.float64(0.0866798701298701),\n",
       " 'LIN': np.float64(0.4627136363636363),\n",
       " 'TMO': np.float64(5.628873863636363),\n",
       " 'MS': np.float64(0.031218181818181805),\n",
       " 'ABT': nan,\n",
       " 'ADBE': np.float64(1.1840576363636364),\n",
       " 'AMD': np.float64(0.7059136363636361),\n",
       " 'PM': np.float64(0.010313636363636424),\n",
       " 'ISRG': np.float64(0.009410785909090896),\n",
       " 'PLTR': nan,\n",
       " 'GE': np.float64(0.11858333333333339),\n",
       " 'INTU': np.float64(0.014713636363636203),\n",
       " 'GS': np.float64(20.975329454545456),\n",
       " 'CAT': np.float64(1.6261772727272727),\n",
       " 'TXN': np.float64(0.01452878787878777),\n",
       " 'QCOM': nan,\n",
       " 'VZ': np.float64(9.155844155851942e-05),\n",
       " 'BKNG': np.float64(440.35696212121206),\n",
       " 'DHR': np.float64(0.011190295454545546),\n",
       " 'T': np.float64(0.08303690909090904),\n",
       " 'BLK': np.float64(42.229242575757574),\n",
       " 'RTX': np.float64(0.5332136363636361),\n",
       " 'SPGI': np.float64(1.6392642857142858),\n",
       " 'PFE': np.float64(0.3250272727272727),\n",
       " 'HON': np.float64(0.8042181818181817),\n",
       " 'NEE': np.float64(0.593708062020202),\n",
       " 'CMCSA': np.float64(0.14453116883116876),\n",
       " 'ANET': nan,\n",
       " 'AMGN': np.float64(5.192442929292929),\n",
       " 'PGR': np.float64(0.0018095324675324505),\n",
       " 'LOW': np.float64(0.059752909090909),\n",
       " 'SYK': np.float64(1.7427136363636366),\n",
       " 'UNP': np.float64(0.7851841948051945),\n",
       " 'TJX': nan,\n",
       " 'KKR': np.float64(0.5433498251748252),\n",
       " 'SCHW': np.float64(0.25915357575757575),\n",
       " 'ETN': np.float64(0.06932520779220781),\n",
       " 'AMAT': nan,\n",
       " 'BA': np.float64(85.63877845454546),\n",
       " 'BSX': np.float64(0.5157719999999999),\n",
       " 'C': np.float64(0.42366363636363635),\n",
       " 'UBER': np.float64(3.6103136363636352),\n",
       " 'COP': np.float64(0.11976388516746411),\n",
       " 'PANW': np.float64(0.5982812751515152),\n",
       " 'ADP': np.float64(0.08300090909090904),\n",
       " 'DE': np.float64(0.04441363636363646),\n",
       " 'FI': np.float64(0.00010606060606059434),\n",
       " 'BMY': np.float64(0.019473863636363536),\n",
       " 'LMT': np.float64(14.953588969696968),\n",
       " 'GILD': np.float64(0.2780580000000001),\n",
       " 'NKE': nan,\n",
       " 'CB': np.float64(1.1614653236363637),\n",
       " 'UPS': np.float64(0.9122296704545454),\n",
       " 'ADI': nan,\n",
       " 'MMC': np.float64(0.0017946969696969921),\n",
       " 'MDT': np.float64(0.05321363636363633),\n",
       " 'VRTX': np.float64(0.025646969696969692),\n",
       " 'MU': nan,\n",
       " 'SBUX': np.float64(0.14578560606060598),\n",
       " 'PLD': nan,\n",
       " 'GEV': nan,\n",
       " 'LRCX': np.float64(0.5767924848484848),\n",
       " 'MO': np.float64(0.02075151515151506),\n",
       " 'SO': np.float64(0.7410241038961038),\n",
       " 'EQIX': np.float64(0.5044136363636363),\n",
       " 'CRWD': nan,\n",
       " 'PYPL': np.float64(0.09646831818181817),\n",
       " 'SHW': np.float64(0.09587769563636354),\n",
       " 'ICE': np.float64(0.040724206060606186),\n",
       " 'CME': np.float64(0.15558862424242423),\n",
       " 'AMT': np.float64(0.007348484848484786),\n",
       " 'APH': nan,\n",
       " 'ELV': np.float64(7.386499472727272),\n",
       " 'TT': np.float64(0.07321363636363658),\n",
       " 'MCO': np.float64(0.5743690909090907),\n",
       " 'CMG': np.float64(1.1969145812987012),\n",
       " 'INTC': np.float64(0.015740909090909232),\n",
       " 'KLAC': np.float64(2.1084561818181813),\n",
       " 'ABNB': nan,\n",
       " 'DUK': np.float64(0.08191194805194806),\n",
       " 'PH': np.float64(1.2204836363636364),\n",
       " 'CDNS': np.float64(0.37853863636363616),\n",
       " 'WM': np.float64(0.0036647727272727296),\n",
       " 'DELL': nan,\n",
       " 'MDLZ': np.float64(0.2919136363636363),\n",
       " 'MAR': np.float64(0.10689509090909088),\n",
       " 'MSI': nan,\n",
       " 'WELL': np.float64(0.5251663636363636),\n",
       " 'AON': np.float64(1.638713636363636),\n",
       " 'REGN': np.float64(36.67380304545455),\n",
       " 'CI': np.float64(9.181213636363633),\n",
       " 'HCA': np.float64(3.802813636363636),\n",
       " 'PNC': np.float64(3.17688090909091),\n",
       " 'ITW': np.float64(0.4490606060606062),\n",
       " 'SNPS': nan,\n",
       " 'CTAS': nan,\n",
       " 'CL': np.float64(0.18128057575757578),\n",
       " 'USB': np.float64(0.0037363636363636284),\n",
       " 'FTNT': np.float64(1.020413636363636),\n",
       " 'ZTS': np.float64(0.06791363636363629),\n",
       " 'MCK': np.float64(5.845406565656566),\n",
       " 'GD': np.float64(5.211102272727272),\n",
       " 'TDG': np.float64(12.340180808080808),\n",
       " 'CEG': nan,\n",
       " 'AJG': np.float64(0.4053969696969697),\n",
       " 'EMR': np.float64(0.21787272727272725),\n",
       " 'MMM': np.float64(0.9219681818181817),\n",
       " 'ORLY': np.float64(9.886864285714285),\n",
       " 'NOC': np.float64(14.992697636363635),\n",
       " 'COF': np.float64(1.1395414805194803),\n",
       " 'ECL': nan,\n",
       " 'EOG': np.float64(0.008520042207792265),\n",
       " 'FDX': nan,\n",
       " 'BDX': nan,\n",
       " 'APD': np.float64(0.8589181818181818),\n",
       " 'WMB': np.float64(0.7827783636363635),\n",
       " 'SPG': np.float64(0.21801363636363646),\n",
       " 'ADSK': np.float64(0.0732136363636363),\n",
       " 'RCL': np.float64(0.08858030303030312),\n",
       " 'RSG': np.float64(0.05889015151515146),\n",
       " 'CARR': nan,\n",
       " 'CSX': np.float64(0.6887625801818181),\n",
       " 'HLT': np.float64(0.04234731818181813),\n",
       " 'DLR': np.float64(1.000313636363636),\n",
       " 'TGT': np.float64(0.2362137212121213),\n",
       " 'KMI': np.float64(0.7596845584415584),\n",
       " 'OKE': np.float64(0.13999341558441558),\n",
       " 'TFC': np.float64(0.016115909090909097),\n",
       " 'AFL': np.float64(0.018945345454545404),\n",
       " 'GM': np.float64(1.3922148888888886),\n",
       " 'BK': np.float64(0.035677272727272676),\n",
       " 'ROP': np.float64(4.796413636363635),\n",
       " 'MET': np.float64(0.0457316363636364),\n",
       " 'CPRT': np.float64(0.965619886363636),\n",
       " 'FCX': np.float64(1.3336762727272728),\n",
       " 'CVS': np.float64(0.31391363636363606),\n",
       " 'PCAR': np.float64(0.027973035909090997),\n",
       " 'SRE': np.float64(0.23568303409090904),\n",
       " 'AZO': np.float64(113.7130393939394),\n",
       " 'TRV': np.float64(4.6892570695187175),\n",
       " 'NXPI': np.float64(0.7692812424242426),\n",
       " 'JCI': np.float64(0.5932136363636361),\n",
       " 'GWW': np.float64(7.98085909090909),\n",
       " 'NSC': np.float64(1.27065125974026),\n",
       " 'PSA': nan,\n",
       " 'SLB': np.float64(0.6210276161616161),\n",
       " 'AMP': np.float64(9.954542515151516),\n",
       " 'ALL': np.float64(4.214368795454545),\n",
       " 'FICO': np.float64(0.5059681818181818),\n",
       " 'MNST': np.float64(0.8431946287878787),\n",
       " 'PAYX': nan,\n",
       " 'CHTR': np.float64(2.4503515151515147),\n",
       " 'AEP': np.float64(0.32221173636363637),\n",
       " 'ROST': nan,\n",
       " 'PWR': nan,\n",
       " 'CMI': np.float64(1.5707236363636365),\n",
       " 'AXON': nan,\n",
       " 'VST': np.float64(0.7859318181818179),\n",
       " 'URI': np.float64(14.79763636363636),\n",
       " 'MSCI': np.float64(0.20793051948051955),\n",
       " 'LULU': np.float64(1.176709239057239),\n",
       " 'O': nan,\n",
       " 'PSX': np.float64(0.26665438277511944),\n",
       " 'AIG': np.float64(0.03089573863636358),\n",
       " 'FANG': np.float64(0.4447196167076165),\n",
       " 'D': np.float64(0.0012073636363635594),\n",
       " 'HWM': np.float64(0.36974181818181817),\n",
       " 'DHI': np.float64(0.06281363636363643),\n",
       " 'KR': nan,\n",
       " 'NDAQ': np.float64(0.5285778577272726),\n",
       " 'OXY': np.float64(1.2334752872727273),\n",
       " 'EW': np.float64(0.4283643748484848),\n",
       " 'COR': np.float64(0.27575454545454514),\n",
       " 'KDP': nan,\n",
       " 'FIS': np.float64(0.15614090909090908),\n",
       " 'KMB': np.float64(0.30258363636363633),\n",
       " 'NEM': np.float64(0.4925361272727273),\n",
       " 'DFS': np.float64(1.1718028977272725),\n",
       " 'PCG': np.float64(0.2716715909090909),\n",
       " 'TEL': np.float64(0.00022272727272738935),\n",
       " 'MPC': np.float64(0.08531192207792207),\n",
       " 'FAST': np.float64(0.7142227272727271),\n",
       " 'AME': np.float64(0.019913636363636314),\n",
       " 'PEG': np.float64(0.28953454545454543),\n",
       " 'PRU': np.float64(0.7697613636363636),\n",
       " 'KVUE': nan,\n",
       " 'STZ': np.float64(0.4629909090909089),\n",
       " 'GLW': np.float64(0.509051515151515),\n",
       " 'LHX': np.float64(2.4358227272727273),\n",
       " 'GRMN': nan,\n",
       " 'BKR': np.float64(0.7226454545454544),\n",
       " 'CBRE': np.float64(0.03276818181818191),\n",
       " 'CTVA': np.float64(1.5945935454545452),\n",
       " 'HES': np.float64(2.6958196363636366),\n",
       " 'CCI': np.float64(0.4363863636363636),\n",
       " 'DAL': np.float64(0.09514696969696969),\n",
       " 'CTSH': np.float64(0.01088484848484841),\n",
       " 'F': np.float64(1.0047386969696968),\n",
       " 'VRSK': np.float64(0.0010318181818181585),\n",
       " 'EA': np.float64(1.9681851590909092),\n",
       " 'ODFL': np.float64(0.33212107818181813),\n",
       " 'XEL': np.float64(0.3875625),\n",
       " 'TRGP': np.float64(1.4446534545454548),\n",
       " 'A': np.float64(0.1159136363636363),\n",
       " 'IT': np.float64(0.07321363636363631),\n",
       " 'LVS': np.float64(0.12940809090909092),\n",
       " 'SYY': nan,\n",
       " 'VLO': np.float64(0.19857246363636372),\n",
       " 'OTIS': nan,\n",
       " 'LEN': nan,\n",
       " 'EXC': np.float64(0.17615470909090905),\n",
       " 'IR': np.float64(0.6403136363636361),\n",
       " 'YUM': np.float64(0.00014204545454553228),\n",
       " 'KHC': np.float64(0.2217031515151515),\n",
       " 'GEHC': nan,\n",
       " 'IQV': np.float64(0.352139393939394),\n",
       " 'GIS': nan,\n",
       " 'CCL': nan,\n",
       " 'RMD': np.float64(0.04473181818181805),\n",
       " 'VMC': np.float64(0.004004472727272803),\n",
       " 'HSY': np.float64(0.013104545454545554),\n",
       " 'ACGL': np.float64(0.23202682828282825),\n",
       " 'IDXX': nan,\n",
       " 'WAB': np.float64(0.01846818181818189),\n",
       " 'ROK': np.float64(0.9170397727272726),\n",
       " 'MLM': np.float64(0.9421397727272729),\n",
       " 'EXR': np.float64(0.1299136363636363),\n",
       " 'DD': np.float64(0.041494155844155826),\n",
       " 'ETR': np.float64(0.21582492045454543),\n",
       " 'DECK': np.float64(0.0014225263636363672),\n",
       " 'EFX': np.float64(0.1372136363636364),\n",
       " 'UAL': np.float64(2.372001545454545),\n",
       " 'WTW': nan,\n",
       " 'TTWO': np.float64(0.47413863636363623),\n",
       " 'HIG': np.float64(0.02765182575757579),\n",
       " 'RJF': np.float64(0.02040968623376629),\n",
       " 'AVB': np.float64(0.0019136363636363637),\n",
       " 'MTB': np.float64(5.259016883116883),\n",
       " 'DXCM': np.float64(0.8666615284090909),\n",
       " 'ED': np.float64(0.12642934545454548),\n",
       " 'EBAY': np.float64(0.15119684848484843),\n",
       " 'HPQ': nan,\n",
       " 'IRM': nan,\n",
       " 'EIX': np.float64(0.008900000000000075),\n",
       " 'LYV': np.float64(3.3127136363636356),\n",
       " 'VICI': np.float64(0.6626981818181819),\n",
       " 'CNC': np.float64(0.17242272727272726),\n",
       " 'WEC': np.float64(0.18740065454545457),\n",
       " 'MCHP': np.float64(0.26209240909090903),\n",
       " 'HUM': np.float64(1.1096560606060606),\n",
       " 'ANSS': nan,\n",
       " 'BRO': np.float64(0.7572136363636363),\n",
       " 'CSGP': nan,\n",
       " 'MPWR': nan,\n",
       " 'GDDY': nan,\n",
       " 'TSCO': np.float64(0.005081818181818248),\n",
       " 'STT': np.float64(0.3097045454545453),\n",
       " 'CAH': np.float64(0.004927272727272785),\n",
       " 'GPN': np.float64(0.21684243636363648),\n",
       " 'FITB': np.float64(0.18494393939393944),\n",
       " 'XYL': np.float64(0.07042272727272718),\n",
       " 'HPE': np.float64(0.5137560606060606),\n",
       " 'KEYS': nan,\n",
       " 'DOW': np.float64(0.14967176623376618),\n",
       " 'EQR': nan,\n",
       " 'ON': np.float64(0.6562318181818182),\n",
       " 'PPG': np.float64(0.03288004545454554),\n",
       " 'K': np.float64(0.08638778787878784),\n",
       " 'SW': nan,\n",
       " 'NUE': np.float64(0.6956309090909091),\n",
       " 'EL': np.float64(0.5634315757575759),\n",
       " 'BR': np.float64(0.21642272727272718),\n",
       " 'WBD': np.float64(0.04242499999999992),\n",
       " 'TPL': np.float64(1.7077785263636367),\n",
       " 'CHD': np.float64(0.3476802272727272),\n",
       " 'MTD': np.float64(42.641213636363624),\n",
       " 'DOV': np.float64(0.09470795454545455),\n",
       " 'TYL': nan,\n",
       " 'FTV': np.float64(0.032713636363636424),\n",
       " 'TROW': np.float64(0.6584821558441557),\n",
       " 'VLTO': nan,\n",
       " 'EQT': np.float64(2.863588527272727),\n",
       " 'SYF': np.float64(0.0018452272727272697),\n",
       " 'NVR': nan,\n",
       " 'DTE': np.float64(0.021652103896104023),\n",
       " 'VTR': np.float64(0.7846818181818183),\n",
       " 'AWK': np.float64(0.17497199999999996),\n",
       " 'ADM': np.float64(0.1792772727272727),\n",
       " 'NTAP': np.float64(0.000713636363636254),\n",
       " 'WST': nan,\n",
       " 'CPAY': np.float64(4.022096681818182),\n",
       " 'PPL': np.float64(0.37731538181818175),\n",
       " 'LYB': np.float64(1.2864181818181817),\n",
       " 'AEE': np.float64(0.7144184848484848),\n",
       " 'EXPE': np.float64(0.019295454545454567),\n",
       " 'HBAN': np.float64(0.734906109090909),\n",
       " 'CDW': np.float64(0.1370499999999999),\n",
       " 'FE': np.float64(0.4360552467532468),\n",
       " 'HUBB': np.float64(0.49013181818181817),\n",
       " 'HAL': np.float64(0.7565913818181818),\n",
       " 'ROL': nan,\n",
       " 'PHM': np.float64(0.01134090909090898),\n",
       " 'CINF': np.float64(0.0034049090909090847),\n",
       " 'PTC': nan,\n",
       " 'WRB': np.float64(0.6930961420909091),\n",
       " 'DRI': nan,\n",
       " 'FOXA': np.float64(1.343331313131313),\n",
       " 'IFF': nan,\n",
       " 'SBAC': nan,\n",
       " 'WAT': np.float64(3.295295454545454),\n",
       " 'ERIE': nan,\n",
       " 'TDY': nan,\n",
       " 'ATO': np.float64(0.1135015151515151),\n",
       " 'RF': np.float64(0.5844096666666666),\n",
       " 'BIIB': np.float64(48.670559006493505),\n",
       " 'ZBH': np.float64(1.254713636363636),\n",
       " 'CNP': np.float64(0.5815832954545455),\n",
       " 'MKC': np.float64(0.1157977272727273),\n",
       " 'ES': np.float64(0.1432290795454545),\n",
       " 'WDC': np.float64(0.28695000000000004),\n",
       " 'TSN': np.float64(0.3666271818181818),\n",
       " 'TER': np.float64(0.1299136363636363),\n",
       " 'STE': nan,\n",
       " 'PKG': np.float64(0.3028136363636362),\n",
       " 'CLX': np.float64(0.029823863636363697),\n",
       " 'NTRS': np.float64(0.35115738636363636),\n",
       " 'ZBRA': nan,\n",
       " 'DVN': np.float64(0.6872327386363636),\n",
       " 'CBOE': np.float64(0.0018377062937063053),\n",
       " 'WY': np.float64(1.2368254545454545),\n",
       " 'LUV': np.float64(0.005624484848484941),\n",
       " 'ULTA': np.float64(6.499274666666667),\n",
       " 'CMS': np.float64(0.21315459090909092),\n",
       " 'INVH': np.float64(1.232413636363636),\n",
       " 'FSLR': np.float64(2.3748682597402597),\n",
       " 'BF.B': nan,\n",
       " 'LDOS': nan,\n",
       " 'CFG': np.float64(0.04010227272727279),\n",
       " 'LH': np.float64(2.678884848484848),\n",
       " 'IP': np.float64(0.024066363636363622),\n",
       " 'ESS': np.float64(0.029213636363636396),\n",
       " 'PODD': nan,\n",
       " 'COO': nan,\n",
       " 'SMCI': np.float64(1.1753696363636361),\n",
       " 'STX': np.float64(0.029213636363636396),\n",
       " 'MAA': nan,\n",
       " 'FDS': nan,\n",
       " 'NRG': np.float64(0.3367136363636363),\n",
       " 'BBY': np.float64(2.689913636363636),\n",
       " 'SNA': nan,\n",
       " 'PFG': np.float64(0.061971636363636354),\n",
       " 'STLD': np.float64(0.3543386363636364),\n",
       " 'TRMB': np.float64(0.4720852727272727),\n",
       " 'OMC': nan,\n",
       " 'CTRA': np.float64(0.7308141176470588),\n",
       " 'HRL': np.float64(0.45324263636363626),\n",
       " 'ARE': np.float64(0.2822863636363636),\n",
       " 'BLDR': np.float64(0.5932136363636361),\n",
       " 'JBHT': np.float64(0.10621423636363632),\n",
       " 'GEN': np.float64(1.145213636363636),\n",
       " 'DGX': np.float64(0.19391363636363654),\n",
       " 'KEY': np.float64(0.4456806818181818),\n",
       " 'NI': np.float64(0.5254288787878787),\n",
       " 'MOH': np.float64(2.161031818181817),\n",
       " 'PNR': np.float64(0.25031363636363624),\n",
       " 'J': np.float64(0.00010606060606059434),\n",
       " 'DG': nan,\n",
       " 'BALL': np.float64(0.23851818181818177),\n",
       " 'NWSA': nan,\n",
       " 'UDR': nan,\n",
       " 'HOLX': np.float64(0.2845333333333333),\n",
       " 'JBL': nan,\n",
       " 'GPC': np.float64(0.01975000000000003),\n",
       " 'IEX': nan,\n",
       " 'MAS': np.float64(0.3542227272727272),\n",
       " 'KIM': np.float64(0.9605254545454545),\n",
       " 'ALGN': np.float64(0.06280909090909087),\n",
       " 'DLTR': np.float64(0.3341488636363636),\n",
       " 'EXPD': np.float64(0.09237443181818188),\n",
       " 'EG': np.float64(19.925817844155844),\n",
       " 'MRNA': nan,\n",
       " 'LNT': np.float64(0.5219443636363637),\n",
       " 'AVY': nan,\n",
       " 'BAX': np.float64(0.0665284090909091),\n",
       " 'TPR': np.float64(0.026834848484848427),\n",
       " 'VTRS': np.float64(0.019071969696969802),\n",
       " 'CF': np.float64(0.825807),\n",
       " 'FFIV': nan,\n",
       " 'DPZ': np.float64(3.240142424242424),\n",
       " 'AKAM': np.float64(0.00041363636363648935),\n",
       " 'RL': np.float64(1.638713636363636),\n",
       " 'TXT': np.float64(0.008231818181818102),\n",
       " 'SWKS': np.float64(0.26041363636363646),\n",
       " 'EVRG': np.float64(0.7230560606060605),\n",
       " 'EPAM': nan,\n",
       " 'DOC': np.float64(1.2772136363636362),\n",
       " 'APTV': np.float64(0.017198795454545442),\n",
       " 'RVTY': np.float64(0.029213636363636396),\n",
       " 'AMCR': np.float64(0.980413636363636),\n",
       " 'REG': np.float64(0.5628136363636362),\n",
       " 'POOL': np.float64(0.6403136363636361),\n",
       " 'INCY': np.float64(0.454640909090909),\n",
       " 'BXP': np.float64(0.07009848484848484),\n",
       " 'KMX': nan,\n",
       " 'CAG': nan,\n",
       " 'HST': nan,\n",
       " 'JKHY': nan,\n",
       " 'SWK': np.float64(1.0610318181818181),\n",
       " 'DVA': nan,\n",
       " 'CPB': np.float64(0.23053181818181812),\n",
       " 'CHRW': np.float64(0.03767329545454555),\n",
       " 'JNPR': np.float64(0.30281363636363623),\n",
       " 'CPT': np.float64(0.5332136363636362),\n",
       " 'TAP': np.float64(0.11574999999999996),\n",
       " 'NDSN': np.float64(0.006713636363636237),\n",
       " 'PAYC': nan,\n",
       " 'UHS': np.float64(2.0602954545454537),\n",
       " 'NCLH': np.float64(0.19972424242424247),\n",
       " 'DAY': np.float64(1.061031818181818),\n",
       " 'SJM': np.float64(1.1665318181818183),\n",
       " 'TECH': np.float64(0.7570977272727272),\n",
       " 'SOLV': nan,\n",
       " 'ALLE': np.float64(0.013340909090909112),\n",
       " 'BG': np.float64(0.6263257575757575),\n",
       " 'AIZ': np.float64(1.6642499999999998),\n",
       " 'IPG': np.float64(0.10271363636363637),\n",
       " 'BEN': np.float64(0.23751806818181817),\n",
       " 'EMN': np.float64(0.024449090909091035),\n",
       " 'ALB': np.float64(0.22833181818181802),\n",
       " 'MGM': np.float64(0.8242936363636364),\n",
       " 'AOS': np.float64(0.3252136363636364),\n",
       " 'WYNN': np.float64(0.077018),\n",
       " 'PNW': np.float64(0.4689672727272727),\n",
       " 'ENPH': np.float64(0.7059136363636361),\n",
       " 'LKQ': np.float64(0.3847136363636363),\n",
       " 'FRT': np.float64(0.0896939393939393),\n",
       " 'CRL': np.float64(0.4625454545454545),\n",
       " 'GNRC': nan,\n",
       " 'AES': np.float64(0.6791181818181818),\n",
       " 'GL': np.float64(0.3137318181818179),\n",
       " 'LW': nan,\n",
       " 'HSIC': np.float64(0.0530318181818181),\n",
       " 'MKTX': np.float64(0.021158727272727364),\n",
       " 'MTCH': nan,\n",
       " 'TFX': np.float64(4.243913636363636),\n",
       " 'WBA': np.float64(0.057913636363636216),\n",
       " 'HAS': np.float64(0.08206038961038965),\n",
       " 'IVZ': np.float64(0.2030861298701299),\n",
       " 'APA': np.float64(1.383903158357771),\n",
       " 'MOS': np.float64(1.491991465909091),\n",
       " 'PARA': np.float64(0.09089204545454534),\n",
       " 'MHK': np.float64(1.0263875000000002),\n",
       " 'CE': np.float64(0.8340598484848485),\n",
       " 'HII': np.float64(9.543543939393938),\n",
       " 'CZR': np.float64(0.8122371636363637),\n",
       " 'BWA': np.float64(0.03952386363636362),\n",
       " 'QRVO': np.float64(0.28121363636363594),\n",
       " 'FMC': np.float64(0.16172345454545448)}"
      ]
     },
     "execution_count": 28,
     "metadata": {},
     "output_type": "execute_result"
    }
   ],
   "source": [
    "dists"
   ]
  },
  {
   "cell_type": "code",
   "execution_count": 14,
   "metadata": {},
   "outputs": [],
   "source": [
    "def expectation(barycenter):\n",
    "    # This is just the integral from 0 to 1 of the quantile function\n",
    "    x,y = barycenter\n",
    "    x_diff = np.concatenate([np.array(x[0]).reshape(1), np.diff(x)])\n",
    "    return np.sum(x_diff * y)\n"
   ]
  },
  {
   "cell_type": "code",
   "execution_count": null,
   "metadata": {},
   "outputs": [],
   "source": [
    "\n",
    "threshold = 0.01\n",
    "\n",
    "\n",
    "year = 2022\n",
    "quarter = 2\n",
    "ticker = 'PARA'\n",
    "dists = get_dist(ticker, year, quarter, quarterly_actual, quarterly_data)\n",
    "neighbors = [t for t, dist in dists.items() if dist <= threshold]\n",
    "print(len(neighbors))\n",
    "\n",
    "actual = quarterly_actual[ticker, year, quarter]\n",
    "actual_datetime = pd.to_datetime(f'{actual[1]} {actual[2]}', format='%Y-%m-%d %H:%M:%S')\n",
    "\n",
    "sample_list = []\n",
    "for t in neighbors:\n",
    "    raw_data = quarterly_data[t, year, quarter]\n",
    "    filtered_data = raw_data[raw_data['ann_datetime'] < actual_datetime]\n",
    "    # print(t, filtered_data)\n",
    "    # print(t, filtered_data.shape, raw_data.shape)\n",
    "    sample_list.append(filtered_data['value'].values)\n",
    "\n",
    "barycenter = wass_barycenter(sample_list)\n",
    "print(quarterly_data[ticker, year, quarter]['value'].mean(), step_function(barycenter[0], barycenter[1], 0.5), expectation(barycenter))\n",
    "print('Actual:',quarterly_actual[ticker, year, quarter][0])"
   ]
  },
  {
   "cell_type": "markdown",
   "metadata": {},
   "source": [
    "Hyperparamter tuning: We can tune the hyperparameter threshold with for the first 50% of the columns and use them to predict the last 50% of the columns. The target this time will not be reconstructing the original distribution, but rather predicting the actual quarter EPS."
   ]
  },
  {
   "cell_type": "code",
   "execution_count": 15,
   "metadata": {},
   "outputs": [],
   "source": [
    "from hyperopt import hp, fmin, tpe\n",
    "from numpy import half\n",
    "\n",
    "def evaluate_eta_column(eta, ticker, year, quarter, row_dists, quarterly_actual, quarterly_data):\n",
    "    \"\"\"Return the squared error for estimating the actual EPS for the given eta and column.\n",
    "    \"\"\"\n",
    "    neighbors = [t for t, dist in row_dists.items() if dist <= eta]\n",
    "    if len(neighbors) == 0:\n",
    "        # this should never happen because a ticker should always be a neighbor with itself\n",
    "        raise Exception(f\"No neighbors found for {ticker,year,quarter}\")\n",
    "    actual = quarterly_actual[ticker, year, quarter]\n",
    "    if actual is None:\n",
    "        return 0\n",
    "    actual_datetime = pd.to_datetime(f'{actual[1]} {actual[2]}', format='%Y-%m-%d %H:%M:%S')\n",
    "    actual_eps = actual[0]\n",
    "    sample_list = []\n",
    "    for t in neighbors:\n",
    "        raw_data = quarterly_data[t, year, quarter]\n",
    "        filtered_data = raw_data[raw_data['ann_datetime'] < actual_datetime]\n",
    "        # We don't have to worry about empty dataframes since we have already filtered\n",
    "        # to only only use non-empty dataframes when calculating distances\n",
    "        sample_list.append(filtered_data['value'].values)\n",
    "    barycenter = wass_barycenter(sample_list)\n",
    "    barycenter_expectation = expectation(barycenter)\n",
    "    return (barycenter_expectation - actual_eps) ** 2\n",
    "\n",
    "def optimize_eta(ticker, train_cols, quarterly_actual, quarterly_data):\n",
    "    # We will use the first half of the columns to estimate eta\n",
    "    rows, cols = get_rows_cols()\n",
    "    \n",
    "    # Get distances for the first half of the columns\n",
    "    row_dists = dict()\n",
    "    for col in train_cols:\n",
    "        if quarterly_actual.get((ticker, col[0], col[1])) is None:\n",
    "            continue\n",
    "        dists = get_dist(ticker, col[0], col[1], quarterly_actual, quarterly_data)\n",
    "        row_dists[col] = dists\n",
    "    \n",
    "    # Define the objective function\n",
    "    def obj(eta):\n",
    "        error = 0\n",
    "        for col in train_cols:\n",
    "            if quarterly_actual.get((ticker, col[0], col[1])) is None:\n",
    "                continue\n",
    "            error += evaluate_eta_column(eta, ticker, col[0], col[1], row_dists[col], quarterly_actual, quarterly_data)\n",
    "        return error\n",
    "    \n",
    "    # Optimize the objective function\n",
    "    best_eta = fmin(fn=obj, verbose = False, space=hp.uniform('eta', 0, 1), algo=tpe.suggest, max_evals=30)\n",
    "    return best_eta['eta']"
   ]
  },
  {
   "cell_type": "code",
   "execution_count": 57,
   "metadata": {},
   "outputs": [],
   "source": [
    "_, cols = get_rows_cols()\n",
    "\n",
    "train_cols = cols[:len(cols) // 2]\n",
    "eta = optimize_eta('AAPL', train_cols, quarterly_actual, quarterly_data)"
   ]
  },
  {
   "cell_type": "code",
   "execution_count": 134,
   "metadata": {},
   "outputs": [
    {
     "name": "stdout",
     "output_type": "stream",
     "text": [
      "100%|██████████| 30/30 [00:09<00:00,  3.01trial/s, best loss: 1.5399285479662197]\n"
     ]
    }
   ],
   "source": [
    "eta = optimize_eta('BRK.B', quarterly_actual, quarterly_data)"
   ]
  },
  {
   "cell_type": "code",
   "execution_count": 16,
   "metadata": {},
   "outputs": [],
   "source": [
    "def evaluate_eta_test(eta, ticker, test_cols, quarterly_actual, quarterly_data):\n",
    "    \"\"\"Return the squared error for estimating the actual EPS for the given eta and column.\n",
    "    \"\"\"\n",
    "    _, cols = get_rows_cols()\n",
    "    \n",
    "    row_dists = dict()\n",
    "    for col in test_cols:\n",
    "        if quarterly_actual.get((ticker, col[0], col[1])) is None:\n",
    "            continue\n",
    "        dists = get_dist(ticker, col[0], col[1], quarterly_actual, quarterly_data)\n",
    "        row_dists[col] = dists\n",
    "    error = 0\n",
    "    for col in test_cols:\n",
    "        if quarterly_actual.get((ticker, col[0], col[1])) is None:\n",
    "            continue\n",
    "        error += evaluate_eta_column(eta, ticker, col[0], col[1], row_dists[col], quarterly_actual, quarterly_data)\n",
    "    return error\n"
   ]
  },
  {
   "cell_type": "code",
   "execution_count": null,
   "metadata": {},
   "outputs": [],
   "source": [
    "\n",
    "i = 0\n",
    "output_file = 'test_errors.csv'\n",
    "train_cols = cols[:len(cols) // 2]\n",
    "test_cols = cols[len(cols) // 2:]\n",
    "for oftic in tqdm(list(ibes_data.keys())):\n",
    "    try:\n",
    "        eta = optimize_eta(oftic, train_cols, quarterly_actual, quarterly_data)\n",
    "        test_error = evaluate_eta_test(eta, oftic, test_cols, quarterly_actual, quarterly_data)\n",
    "        base_error = evaluate_eta_test(0, oftic, test_cols, quarterly_actual, quarterly_data)\n",
    "        \n",
    "        df = pd.DataFrame({'ticker': [oftic], 'eta': [eta], 'test_error': [test_error], 'base_error': [base_error]})\n",
    "        if i == 0:\n",
    "            # Write header only for the first row\n",
    "            df.to_csv(output_file, mode='w', index=False)\n",
    "        else:\n",
    "            # Append to the file without writing the header\n",
    "            df.to_csv(output_file, mode='a', index=False, header=False)\n",
    "        i += 1\n",
    "    except Exception as e:\n",
    "        print(f\"Error for {oftic}: {e}\")"
   ]
  },
  {
   "cell_type": "code",
   "execution_count": 60,
   "metadata": {},
   "outputs": [],
   "source": [
    "errors = pd.read_csv('test_errors.csv')"
   ]
  },
  {
   "cell_type": "code",
   "execution_count": 55,
   "metadata": {},
   "outputs": [
    {
     "data": {
      "text/plain": [
       "(array([ 11.,  44., 111., 149., 103.,  36.,  11.,   3.,   1.,   1.]),\n",
       " array([-7.23089387, -5.53016508, -3.82943628, -2.12870749, -0.4279787 ,\n",
       "         1.2727501 ,  2.97347889,  4.67420768,  6.37493648,  8.07566527,\n",
       "         9.77639406]),\n",
       " <BarContainer object of 10 artists>)"
      ]
     },
     "execution_count": 55,
     "metadata": {},
     "output_type": "execute_result"
    },
    {
     "data": {
      "image/png": "[encoded data removed]",
      "text/plain": [
       "<Figure size 640x480 with 1 Axes>"
      ]
     },
     "metadata": {},
     "output_type": "display_data"
    }
   ],
   "source": [
    "plt.hist(np.log(errors['test_error']))\n",
    "plt.hist(np.log(errors['base_error']))"
   ]
  },
  {
   "cell_type": "markdown",
   "metadata": {},
   "source": [
    "This is a bit unrealistic since there is so much time between quarters. What would really happen is that the parameters would be updated each timestep using a window (rolling or not rolling) approach.\n",
    "\n",
    "We will try out a few approaches:\n",
    "1. Growing window size\n",
    "2. Rolling window\n",
    "3. Seasonal window (only use the same quarter data)"
   ]
  },
  {
   "cell_type": "code",
   "execution_count": 20,
   "metadata": {},
   "outputs": [
    {
     "name": "stdout",
     "output_type": "stream",
     "text": [
      "[(2020, 1)] (2020, 2)\n"
     ]
    },
    {
     "name": "stderr",
     "output_type": "stream",
     "text": [
      "100%|██████████| 497/497 [06:38<00:00,  1.25it/s]\n"
     ]
    },
    {
     "name": "stdout",
     "output_type": "stream",
     "text": [
      "[(2020, 1), (2020, 2)] (2020, 3)\n"
     ]
    },
    {
     "name": "stderr",
     "output_type": "stream",
     "text": [
      " 81%|████████▏ | 405/497 [25:36<05:49,  3.79s/it]\n"
     ]
    },
    {
     "ename": "KeyboardInterrupt",
     "evalue": "",
     "output_type": "error",
     "traceback": [
      "\u001b[0;31m---------------------------------------------------------------------------\u001b[0m",
      "\u001b[0;31mKeyboardInterrupt\u001b[0m                         Traceback (most recent call last)",
      "Cell \u001b[0;32mIn[20], line 14\u001b[0m\n\u001b[1;32m     11\u001b[0m year, quarter \u001b[38;5;241m=\u001b[39m test_col\n\u001b[1;32m     12\u001b[0m \u001b[38;5;28;01mfor\u001b[39;00m oftic \u001b[38;5;129;01min\u001b[39;00m tqdm(\u001b[38;5;28mlist\u001b[39m(ibes_data\u001b[38;5;241m.\u001b[39mkeys())):\n\u001b[1;32m     13\u001b[0m     \u001b[38;5;66;03m# try:\u001b[39;00m\n\u001b[0;32m---> 14\u001b[0m     eta \u001b[38;5;241m=\u001b[39m \u001b[43moptimize_eta\u001b[49m\u001b[43m(\u001b[49m\u001b[43moftic\u001b[49m\u001b[43m,\u001b[49m\u001b[43m \u001b[49m\u001b[43mtrain_cols\u001b[49m\u001b[43m,\u001b[49m\u001b[43m \u001b[49m\u001b[43mquarterly_actual\u001b[49m\u001b[43m,\u001b[49m\u001b[43m \u001b[49m\u001b[43mquarterly_data\u001b[49m\u001b[43m)\u001b[49m\n\u001b[1;32m     15\u001b[0m     test_error \u001b[38;5;241m=\u001b[39m evaluate_eta_test(eta, oftic, [test_col], quarterly_actual, quarterly_data)\n\u001b[1;32m     16\u001b[0m     base_error \u001b[38;5;241m=\u001b[39m evaluate_eta_test(\u001b[38;5;241m0\u001b[39m, oftic, [test_col], quarterly_actual, quarterly_data)\n",
      "Cell \u001b[0;32mIn[15], line 49\u001b[0m, in \u001b[0;36moptimize_eta\u001b[0;34m(ticker, train_cols, quarterly_actual, quarterly_data)\u001b[0m\n\u001b[1;32m     46\u001b[0m     \u001b[38;5;28;01mreturn\u001b[39;00m error\n\u001b[1;32m     48\u001b[0m \u001b[38;5;66;03m# Optimize the objective function\u001b[39;00m\n\u001b[0;32m---> 49\u001b[0m best_eta \u001b[38;5;241m=\u001b[39m \u001b[43mfmin\u001b[49m\u001b[43m(\u001b[49m\u001b[43mfn\u001b[49m\u001b[38;5;241;43m=\u001b[39;49m\u001b[43mobj\u001b[49m\u001b[43m,\u001b[49m\u001b[43m \u001b[49m\u001b[43mverbose\u001b[49m\u001b[43m \u001b[49m\u001b[38;5;241;43m=\u001b[39;49m\u001b[43m \u001b[49m\u001b[38;5;28;43;01mFalse\u001b[39;49;00m\u001b[43m,\u001b[49m\u001b[43m \u001b[49m\u001b[43mspace\u001b[49m\u001b[38;5;241;43m=\u001b[39;49m\u001b[43mhp\u001b[49m\u001b[38;5;241;43m.\u001b[39;49m\u001b[43muniform\u001b[49m\u001b[43m(\u001b[49m\u001b[38;5;124;43m'\u001b[39;49m\u001b[38;5;124;43meta\u001b[39;49m\u001b[38;5;124;43m'\u001b[39;49m\u001b[43m,\u001b[49m\u001b[43m \u001b[49m\u001b[38;5;241;43m0\u001b[39;49m\u001b[43m,\u001b[49m\u001b[43m \u001b[49m\u001b[38;5;241;43m1\u001b[39;49m\u001b[43m)\u001b[49m\u001b[43m,\u001b[49m\u001b[43m \u001b[49m\u001b[43malgo\u001b[49m\u001b[38;5;241;43m=\u001b[39;49m\u001b[43mtpe\u001b[49m\u001b[38;5;241;43m.\u001b[39;49m\u001b[43msuggest\u001b[49m\u001b[43m,\u001b[49m\u001b[43m \u001b[49m\u001b[43mmax_evals\u001b[49m\u001b[38;5;241;43m=\u001b[39;49m\u001b[38;5;241;43m30\u001b[39;49m\u001b[43m)\u001b[49m\n\u001b[1;32m     50\u001b[0m \u001b[38;5;28;01mreturn\u001b[39;00m best_eta[\u001b[38;5;124m'\u001b[39m\u001b[38;5;124meta\u001b[39m\u001b[38;5;124m'\u001b[39m]\n",
      "File \u001b[0;32m~/miniforge3/envs/llmsim/lib/python3.11/site-packages/hyperopt/fmin.py:586\u001b[0m, in \u001b[0;36mfmin\u001b[0;34m(fn, space, algo, max_evals, timeout, loss_threshold, trials, rstate, allow_trials_fmin, pass_expr_memo_ctrl, catch_eval_exceptions, verbose, return_argmin, points_to_evaluate, max_queue_len, show_progressbar, early_stop_fn, trials_save_file)\u001b[0m\n\u001b[1;32m    583\u001b[0m rval\u001b[38;5;241m.\u001b[39mcatch_eval_exceptions \u001b[38;5;241m=\u001b[39m catch_eval_exceptions\n\u001b[1;32m    585\u001b[0m \u001b[38;5;66;03m# next line is where the fmin is actually executed\u001b[39;00m\n\u001b[0;32m--> 586\u001b[0m \u001b[43mrval\u001b[49m\u001b[38;5;241;43m.\u001b[39;49m\u001b[43mexhaust\u001b[49m\u001b[43m(\u001b[49m\u001b[43m)\u001b[49m\n\u001b[1;32m    588\u001b[0m \u001b[38;5;28;01mif\u001b[39;00m return_argmin:\n\u001b[1;32m    589\u001b[0m     \u001b[38;5;28;01mif\u001b[39;00m \u001b[38;5;28mlen\u001b[39m(trials\u001b[38;5;241m.\u001b[39mtrials) \u001b[38;5;241m==\u001b[39m \u001b[38;5;241m0\u001b[39m:\n",
      "File \u001b[0;32m~/miniforge3/envs/llmsim/lib/python3.11/site-packages/hyperopt/fmin.py:364\u001b[0m, in \u001b[0;36mFMinIter.exhaust\u001b[0;34m(self)\u001b[0m\n\u001b[1;32m    362\u001b[0m \u001b[38;5;28;01mdef\u001b[39;00m \u001b[38;5;21mexhaust\u001b[39m(\u001b[38;5;28mself\u001b[39m):\n\u001b[1;32m    363\u001b[0m     n_done \u001b[38;5;241m=\u001b[39m \u001b[38;5;28mlen\u001b[39m(\u001b[38;5;28mself\u001b[39m\u001b[38;5;241m.\u001b[39mtrials)\n\u001b[0;32m--> 364\u001b[0m     \u001b[38;5;28;43mself\u001b[39;49m\u001b[38;5;241;43m.\u001b[39;49m\u001b[43mrun\u001b[49m\u001b[43m(\u001b[49m\u001b[38;5;28;43mself\u001b[39;49m\u001b[38;5;241;43m.\u001b[39;49m\u001b[43mmax_evals\u001b[49m\u001b[43m \u001b[49m\u001b[38;5;241;43m-\u001b[39;49m\u001b[43m \u001b[49m\u001b[43mn_done\u001b[49m\u001b[43m,\u001b[49m\u001b[43m \u001b[49m\u001b[43mblock_until_done\u001b[49m\u001b[38;5;241;43m=\u001b[39;49m\u001b[38;5;28;43mself\u001b[39;49m\u001b[38;5;241;43m.\u001b[39;49m\u001b[43masynchronous\u001b[49m\u001b[43m)\u001b[49m\n\u001b[1;32m    365\u001b[0m     \u001b[38;5;28mself\u001b[39m\u001b[38;5;241m.\u001b[39mtrials\u001b[38;5;241m.\u001b[39mrefresh()\n\u001b[1;32m    366\u001b[0m     \u001b[38;5;28;01mreturn\u001b[39;00m \u001b[38;5;28mself\u001b[39m\n",
      "File \u001b[0;32m~/miniforge3/envs/llmsim/lib/python3.11/site-packages/hyperopt/fmin.py:300\u001b[0m, in \u001b[0;36mFMinIter.run\u001b[0;34m(self, N, block_until_done)\u001b[0m\n\u001b[1;32m    297\u001b[0m     time\u001b[38;5;241m.\u001b[39msleep(\u001b[38;5;28mself\u001b[39m\u001b[38;5;241m.\u001b[39mpoll_interval_secs)\n\u001b[1;32m    298\u001b[0m \u001b[38;5;28;01melse\u001b[39;00m:\n\u001b[1;32m    299\u001b[0m     \u001b[38;5;66;03m# -- loop over trials and do the jobs directly\u001b[39;00m\n\u001b[0;32m--> 300\u001b[0m     \u001b[38;5;28;43mself\u001b[39;49m\u001b[38;5;241;43m.\u001b[39;49m\u001b[43mserial_evaluate\u001b[49m\u001b[43m(\u001b[49m\u001b[43m)\u001b[49m\n\u001b[1;32m    302\u001b[0m \u001b[38;5;28mself\u001b[39m\u001b[38;5;241m.\u001b[39mtrials\u001b[38;5;241m.\u001b[39mrefresh()\n\u001b[1;32m    303\u001b[0m \u001b[38;5;28;01mif\u001b[39;00m \u001b[38;5;28mself\u001b[39m\u001b[38;5;241m.\u001b[39mtrials_save_file \u001b[38;5;241m!=\u001b[39m \u001b[38;5;124m\"\u001b[39m\u001b[38;5;124m\"\u001b[39m:\n",
      "File \u001b[0;32m~/miniforge3/envs/llmsim/lib/python3.11/site-packages/hyperopt/fmin.py:178\u001b[0m, in \u001b[0;36mFMinIter.serial_evaluate\u001b[0;34m(self, N)\u001b[0m\n\u001b[1;32m    176\u001b[0m ctrl \u001b[38;5;241m=\u001b[39m base\u001b[38;5;241m.\u001b[39mCtrl(\u001b[38;5;28mself\u001b[39m\u001b[38;5;241m.\u001b[39mtrials, current_trial\u001b[38;5;241m=\u001b[39mtrial)\n\u001b[1;32m    177\u001b[0m \u001b[38;5;28;01mtry\u001b[39;00m:\n\u001b[0;32m--> 178\u001b[0m     result \u001b[38;5;241m=\u001b[39m \u001b[38;5;28;43mself\u001b[39;49m\u001b[38;5;241;43m.\u001b[39;49m\u001b[43mdomain\u001b[49m\u001b[38;5;241;43m.\u001b[39;49m\u001b[43mevaluate\u001b[49m\u001b[43m(\u001b[49m\u001b[43mspec\u001b[49m\u001b[43m,\u001b[49m\u001b[43m \u001b[49m\u001b[43mctrl\u001b[49m\u001b[43m)\u001b[49m\n\u001b[1;32m    179\u001b[0m \u001b[38;5;28;01mexcept\u001b[39;00m \u001b[38;5;167;01mException\u001b[39;00m \u001b[38;5;28;01mas\u001b[39;00m e:\n\u001b[1;32m    180\u001b[0m     logger\u001b[38;5;241m.\u001b[39merror(\u001b[38;5;124m\"\u001b[39m\u001b[38;5;124mjob exception: \u001b[39m\u001b[38;5;132;01m%s\u001b[39;00m\u001b[38;5;124m\"\u001b[39m \u001b[38;5;241m%\u001b[39m \u001b[38;5;28mstr\u001b[39m(e))\n",
      "File \u001b[0;32m~/miniforge3/envs/llmsim/lib/python3.11/site-packages/hyperopt/base.py:892\u001b[0m, in \u001b[0;36mDomain.evaluate\u001b[0;34m(self, config, ctrl, attach_attachments)\u001b[0m\n\u001b[1;32m    883\u001b[0m \u001b[38;5;28;01melse\u001b[39;00m:\n\u001b[1;32m    884\u001b[0m     \u001b[38;5;66;03m# -- the \"work\" of evaluating `config` can be written\u001b[39;00m\n\u001b[1;32m    885\u001b[0m     \u001b[38;5;66;03m#    either into the pyll part (self.expr)\u001b[39;00m\n\u001b[1;32m    886\u001b[0m     \u001b[38;5;66;03m#    or the normal Python part (self.fn)\u001b[39;00m\n\u001b[1;32m    887\u001b[0m     pyll_rval \u001b[38;5;241m=\u001b[39m pyll\u001b[38;5;241m.\u001b[39mrec_eval(\n\u001b[1;32m    888\u001b[0m         \u001b[38;5;28mself\u001b[39m\u001b[38;5;241m.\u001b[39mexpr,\n\u001b[1;32m    889\u001b[0m         memo\u001b[38;5;241m=\u001b[39mmemo,\n\u001b[1;32m    890\u001b[0m         print_node_on_error\u001b[38;5;241m=\u001b[39m\u001b[38;5;28mself\u001b[39m\u001b[38;5;241m.\u001b[39mrec_eval_print_node_on_error,\n\u001b[1;32m    891\u001b[0m     )\n\u001b[0;32m--> 892\u001b[0m     rval \u001b[38;5;241m=\u001b[39m \u001b[38;5;28;43mself\u001b[39;49m\u001b[38;5;241;43m.\u001b[39;49m\u001b[43mfn\u001b[49m\u001b[43m(\u001b[49m\u001b[43mpyll_rval\u001b[49m\u001b[43m)\u001b[49m\n\u001b[1;32m    894\u001b[0m \u001b[38;5;28;01mif\u001b[39;00m \u001b[38;5;28misinstance\u001b[39m(rval, (\u001b[38;5;28mfloat\u001b[39m, \u001b[38;5;28mint\u001b[39m, np\u001b[38;5;241m.\u001b[39mnumber)):\n\u001b[1;32m    895\u001b[0m     dict_rval \u001b[38;5;241m=\u001b[39m {\u001b[38;5;124m\"\u001b[39m\u001b[38;5;124mloss\u001b[39m\u001b[38;5;124m\"\u001b[39m: \u001b[38;5;28mfloat\u001b[39m(rval), \u001b[38;5;124m\"\u001b[39m\u001b[38;5;124mstatus\u001b[39m\u001b[38;5;124m\"\u001b[39m: STATUS_OK}\n",
      "Cell \u001b[0;32mIn[15], line 45\u001b[0m, in \u001b[0;36moptimize_eta.<locals>.obj\u001b[0;34m(eta)\u001b[0m\n\u001b[1;32m     43\u001b[0m     \u001b[38;5;28;01mif\u001b[39;00m quarterly_actual\u001b[38;5;241m.\u001b[39mget((ticker, col[\u001b[38;5;241m0\u001b[39m], col[\u001b[38;5;241m1\u001b[39m])) \u001b[38;5;129;01mis\u001b[39;00m \u001b[38;5;28;01mNone\u001b[39;00m:\n\u001b[1;32m     44\u001b[0m         \u001b[38;5;28;01mcontinue\u001b[39;00m\n\u001b[0;32m---> 45\u001b[0m     error \u001b[38;5;241m+\u001b[39m\u001b[38;5;241m=\u001b[39m \u001b[43mevaluate_eta_column\u001b[49m\u001b[43m(\u001b[49m\u001b[43meta\u001b[49m\u001b[43m,\u001b[49m\u001b[43m \u001b[49m\u001b[43mticker\u001b[49m\u001b[43m,\u001b[49m\u001b[43m \u001b[49m\u001b[43mcol\u001b[49m\u001b[43m[\u001b[49m\u001b[38;5;241;43m0\u001b[39;49m\u001b[43m]\u001b[49m\u001b[43m,\u001b[49m\u001b[43m \u001b[49m\u001b[43mcol\u001b[49m\u001b[43m[\u001b[49m\u001b[38;5;241;43m1\u001b[39;49m\u001b[43m]\u001b[49m\u001b[43m,\u001b[49m\u001b[43m \u001b[49m\u001b[43mrow_dists\u001b[49m\u001b[43m[\u001b[49m\u001b[43mcol\u001b[49m\u001b[43m]\u001b[49m\u001b[43m,\u001b[49m\u001b[43m \u001b[49m\u001b[43mquarterly_actual\u001b[49m\u001b[43m,\u001b[49m\u001b[43m \u001b[49m\u001b[43mquarterly_data\u001b[49m\u001b[43m)\u001b[49m\n\u001b[1;32m     46\u001b[0m \u001b[38;5;28;01mreturn\u001b[39;00m error\n",
      "Cell \u001b[0;32mIn[15], line 23\u001b[0m, in \u001b[0;36mevaluate_eta_column\u001b[0;34m(eta, ticker, year, quarter, row_dists, quarterly_actual, quarterly_data)\u001b[0m\n\u001b[1;32m     20\u001b[0m     \u001b[38;5;66;03m# We don't have to worry about empty dataframes since we have already filtered\u001b[39;00m\n\u001b[1;32m     21\u001b[0m     \u001b[38;5;66;03m# to only only use non-empty dataframes when calculating distances\u001b[39;00m\n\u001b[1;32m     22\u001b[0m     sample_list\u001b[38;5;241m.\u001b[39mappend(filtered_data[\u001b[38;5;124m'\u001b[39m\u001b[38;5;124mvalue\u001b[39m\u001b[38;5;124m'\u001b[39m]\u001b[38;5;241m.\u001b[39mvalues)\n\u001b[0;32m---> 23\u001b[0m barycenter \u001b[38;5;241m=\u001b[39m \u001b[43mwass_barycenter\u001b[49m\u001b[43m(\u001b[49m\u001b[43msample_list\u001b[49m\u001b[43m)\u001b[49m\n\u001b[1;32m     24\u001b[0m barycenter_expectation \u001b[38;5;241m=\u001b[39m expectation(barycenter)\n\u001b[1;32m     25\u001b[0m \u001b[38;5;28;01mreturn\u001b[39;00m (barycenter_expectation \u001b[38;5;241m-\u001b[39m actual_eps) \u001b[38;5;241m*\u001b[39m\u001b[38;5;241m*\u001b[39m \u001b[38;5;241m2\u001b[39m\n",
      "Cell \u001b[0;32mIn[11], line 10\u001b[0m, in \u001b[0;36mwass_barycenter\u001b[0;34m(sample_list)\u001b[0m\n\u001b[1;32m      8\u001b[0m     y \u001b[38;5;241m=\u001b[39m np\u001b[38;5;241m.\u001b[39msort(sample_arr)\n\u001b[1;32m      9\u001b[0m     step_functions\u001b[38;5;241m.\u001b[39mappend((x, y))\n\u001b[0;32m---> 10\u001b[0m x_avg, y_avg \u001b[38;5;241m=\u001b[39m \u001b[43maverage_step_function\u001b[49m\u001b[43m(\u001b[49m\u001b[43mstep_functions\u001b[49m\u001b[43m)\u001b[49m\n\u001b[1;32m     11\u001b[0m \u001b[38;5;28;01mreturn\u001b[39;00m (x_avg, y_avg)\n",
      "Cell \u001b[0;32mIn[9], line 51\u001b[0m, in \u001b[0;36maverage_step_function\u001b[0;34m(step_functions)\u001b[0m\n\u001b[1;32m     49\u001b[0m y_values \u001b[38;5;241m=\u001b[39m []\n\u001b[1;32m     50\u001b[0m \u001b[38;5;28;01mfor\u001b[39;00m x, y \u001b[38;5;129;01min\u001b[39;00m step_functions:\n\u001b[0;32m---> 51\u001b[0m     y_val \u001b[38;5;241m=\u001b[39m \u001b[43mstep_function\u001b[49m\u001b[43m(\u001b[49m\u001b[43mx\u001b[49m\u001b[43m,\u001b[49m\u001b[43m \u001b[49m\u001b[43my\u001b[49m\u001b[43m,\u001b[49m\u001b[43m \u001b[49m\u001b[43mx_left\u001b[49m\u001b[43m)\u001b[49m\n\u001b[1;32m     52\u001b[0m     y_values\u001b[38;5;241m.\u001b[39mappend(y_val)\n\u001b[1;32m     53\u001b[0m \u001b[38;5;66;03m# Compute the average y-value for this interval\u001b[39;00m\n",
      "Cell \u001b[0;32mIn[9], line 7\u001b[0m, in \u001b[0;36mstep_function\u001b[0;34m(x_points, y_points, x)\u001b[0m\n\u001b[1;32m      5\u001b[0m \u001b[38;5;28;01mdef\u001b[39;00m \u001b[38;5;21mstep_function\u001b[39m(x_points, y_points, x):\n\u001b[1;32m      6\u001b[0m     \u001b[38;5;66;03m# Find the interval that x falls into\u001b[39;00m\n\u001b[0;32m----> 7\u001b[0m     idx \u001b[38;5;241m=\u001b[39m bisect\u001b[38;5;241m.\u001b[39mbisect_right(x_points, x) \u001b[38;5;241m-\u001b[39m \u001b[38;5;241m1\u001b[39m\n\u001b[1;32m      8\u001b[0m     \u001b[38;5;66;03m# If x is before the first point, return the first y\u001b[39;00m\n\u001b[1;32m      9\u001b[0m     \u001b[38;5;28;01mif\u001b[39;00m idx \u001b[38;5;241m<\u001b[39m \u001b[38;5;241m0\u001b[39m:\n",
      "\u001b[0;31mKeyboardInterrupt\u001b[0m: "
     ]
    }
   ],
   "source": [
    "# Growing window size\n",
    "\n",
    "output_file = 'growing_window.csv'\n",
    "cols = get_rows_cols()[1]\n",
    "\n",
    "for j in range(1, len(cols) - 1):\n",
    "    train_cols = cols[:j]\n",
    "    test_col = cols[j]\n",
    "    print(train_cols, test_col)\n",
    "    i = 0\n",
    "    year, quarter = test_col\n",
    "    for oftic in tqdm(list(ibes_data.keys())):\n",
    "        # try:\n",
    "        eta = optimize_eta(oftic, train_cols, quarterly_actual, quarterly_data)\n",
    "        test_error = evaluate_eta_test(eta, oftic, [test_col], quarterly_actual, quarterly_data)\n",
    "        base_error = evaluate_eta_test(0, oftic, [test_col], quarterly_actual, quarterly_data)\n",
    "        \n",
    "        df = pd.DataFrame({'ticker': [oftic], \n",
    "                            'year': [year],\n",
    "                            'quarter': [quarter],\n",
    "                            'eta': [eta], \n",
    "                            'test_error': [test_error], \n",
    "                            'base_error': [base_error]})\n",
    "        if i == 0:\n",
    "            # Write header only for the first row\n",
    "            df.to_csv(output_file, mode='w', index=False)\n",
    "        else:\n",
    "            # Append to the file without writing the header\n",
    "            df.to_csv(output_file, mode='a', index=False, header=False)\n",
    "        i += 1\n",
    "        # except Exception as e:\n",
    "        #     print(f\"Error for {oftic}: {e}\")"
   ]
  },
  {
   "cell_type": "code",
   "execution_count": 28,
   "metadata": {},
   "outputs": [
    {
     "data": {
      "text/plain": [
       "<matplotlib.legend.Legend at 0x174fc7290>"
      ]
     },
     "execution_count": 28,
     "metadata": {},
     "output_type": "execute_result"
    },
    {
     "data": {
      "image/png": "[encoded data removed]",
      "text/plain": [
       "<Figure size 640x480 with 1 Axes>"
      ]
     },
     "metadata": {},
     "output_type": "display_data"
    }
   ],
   "source": [
    "errors = pd.read_csv('growing_window.csv')\n",
    "test_error = errors['test_error']\n",
    "test_error = test_error[test_error < 0.2]\n",
    "test_error.hist(alpha=0.5)\n",
    "\n",
    "base_error = errors['base_error']\n",
    "base_error = base_error[base_error < 0.2]\n",
    "base_error.hist(alpha=0.5)\n",
    "\n",
    "plt.legend(['Test Error', 'Base Error'])"
   ]
  },
  {
   "cell_type": "code",
   "execution_count": 30,
   "metadata": {},
   "outputs": [
    {
     "name": "stdout",
     "output_type": "stream",
     "text": [
      "[(2020, 1), (2021, 1), (2022, 1), (2023, 1)] (2024, 1)\n"
     ]
    },
    {
     "name": "stderr",
     "output_type": "stream",
     "text": [
      "100%|██████████| 497/497 [41:44<00:00,  5.04s/it]\n"
     ]
    },
    {
     "name": "stdout",
     "output_type": "stream",
     "text": [
      "[(2020, 2), (2021, 2), (2022, 2), (2023, 2)] (2024, 2)\n"
     ]
    },
    {
     "name": "stderr",
     "output_type": "stream",
     "text": [
      " 13%|█▎        | 63/497 [07:26<52:07,  7.21s/it]  "
     ]
    },
    {
     "name": "stdout",
     "output_type": "stream",
     "text": [
      "Error for PFE: No neighbors found for ('PFE', 2024, 2)\n"
     ]
    },
    {
     "name": "stderr",
     "output_type": "stream",
     "text": [
      " 26%|██▌       | 130/497 [15:18<22:25,  3.67s/it]  "
     ]
    },
    {
     "name": "stdout",
     "output_type": "stream",
     "text": [
      "Error for CI: No neighbors found for ('CI', 2024, 2)\n"
     ]
    },
    {
     "name": "stderr",
     "output_type": "stream",
     "text": [
      " 28%|██▊       | 139/497 [16:17<47:40,  7.99s/it]"
     ]
    },
    {
     "name": "stdout",
     "output_type": "stream",
     "text": [
      "Error for ZTS: No neighbors found for ('ZTS', 2024, 2)\n"
     ]
    },
    {
     "name": "stderr",
     "output_type": "stream",
     "text": [
      " 33%|███▎      | 166/497 [19:00<52:51,  9.58s/it]"
     ]
    },
    {
     "name": "stdout",
     "output_type": "stream",
     "text": [
      "Error for OKE: No neighbors found for ('OKE', 2024, 2)\n"
     ]
    },
    {
     "name": "stderr",
     "output_type": "stream",
     "text": [
      " 36%|███▋      | 181/497 [20:48<34:42,  6.59s/it]"
     ]
    },
    {
     "name": "stdout",
     "output_type": "stream",
     "text": [
      "Error for JCI: No neighbors found for ('JCI', 2024, 2)\n"
     ]
    },
    {
     "name": "stderr",
     "output_type": "stream",
     "text": [
      " 48%|████▊     | 238/497 [27:44<39:15,  9.09s/it]"
     ]
    },
    {
     "name": "stdout",
     "output_type": "stream",
     "text": [
      "Error for VRSK: No neighbors found for ('VRSK', 2024, 2)\n"
     ]
    },
    {
     "name": "stderr",
     "output_type": "stream",
     "text": [
      " 87%|████████▋ | 433/497 [54:18<09:21,  8.77s/it]"
     ]
    },
    {
     "name": "stdout",
     "output_type": "stream",
     "text": [
      "Error for EVRG: No neighbors found for ('EVRG', 2024, 2)\n"
     ]
    },
    {
     "name": "stderr",
     "output_type": "stream",
     "text": [
      " 90%|████████▉ | 445/497 [55:54<06:24,  7.40s/it]"
     ]
    },
    {
     "name": "stdout",
     "output_type": "stream",
     "text": [
      "Error for HST: No neighbors found for ('HST', 2024, 2)\n"
     ]
    },
    {
     "name": "stderr",
     "output_type": "stream",
     "text": [
      " 90%|████████▉ | 446/497 [56:05<07:09,  8.43s/it]"
     ]
    },
    {
     "name": "stdout",
     "output_type": "stream",
     "text": [
      "Error for JKHY: No neighbors found for ('JKHY', 2024, 2)\n"
     ]
    },
    {
     "name": "stderr",
     "output_type": "stream",
     "text": [
      "100%|██████████| 497/497 [1:02:27<00:00,  7.54s/it]\n"
     ]
    },
    {
     "name": "stdout",
     "output_type": "stream",
     "text": [
      "[(2020, 3), (2021, 3), (2022, 3), (2023, 3)] (2024, 3)\n"
     ]
    },
    {
     "name": "stderr",
     "output_type": "stream",
     "text": [
      " 45%|████▌     | 226/497 [21:50<17:52,  3.96s/it] "
     ]
    },
    {
     "name": "stdout",
     "output_type": "stream",
     "text": [
      "Error for STZ: No neighbors found for ('STZ', 2024, 3)\n"
     ]
    },
    {
     "name": "stderr",
     "output_type": "stream",
     "text": [
      " 64%|██████▍   | 320/497 [32:07<14:29,  4.91s/it]"
     ]
    },
    {
     "name": "stdout",
     "output_type": "stream",
     "text": [
      "Error for VLTO: No neighbors found for ('VLTO', 2024, 3)\n"
     ]
    },
    {
     "name": "stderr",
     "output_type": "stream",
     "text": [
      " 68%|██████▊   | 338/497 [33:55<14:51,  5.61s/it]"
     ]
    },
    {
     "name": "stdout",
     "output_type": "stream",
     "text": [
      "Error for HUBB: No neighbors found for ('HUBB', 2024, 3)\n"
     ]
    },
    {
     "name": "stderr",
     "output_type": "stream",
     "text": [
      " 78%|███████▊  | 390/497 [39:42<08:48,  4.94s/it]"
     ]
    },
    {
     "name": "stdout",
     "output_type": "stream",
     "text": [
      "Error for PFG: No neighbors found for ('PFG', 2024, 3)\n"
     ]
    },
    {
     "name": "stderr",
     "output_type": "stream",
     "text": [
      " 83%|████████▎ | 413/497 [42:21<10:12,  7.29s/it]"
     ]
    },
    {
     "name": "stdout",
     "output_type": "stream",
     "text": [
      "Error for IEX: No neighbors found for ('IEX', 2024, 3)\n"
     ]
    },
    {
     "name": "stderr",
     "output_type": "stream",
     "text": [
      " 94%|█████████▍| 469/497 [48:22<03:10,  6.80s/it]"
     ]
    },
    {
     "name": "stdout",
     "output_type": "stream",
     "text": [
      "Error for MGM: No neighbors found for ('MGM', 2024, 3)\n"
     ]
    },
    {
     "name": "stderr",
     "output_type": "stream",
     "text": [
      " 99%|█████████▉| 492/497 [51:00<00:27,  5.42s/it]"
     ]
    },
    {
     "name": "stdout",
     "output_type": "stream",
     "text": [
      "Error for CE: No neighbors found for ('CE', 2024, 3)\n"
     ]
    },
    {
     "name": "stderr",
     "output_type": "stream",
     "text": [
      "100%|██████████| 497/497 [51:25<00:00,  6.21s/it]\n"
     ]
    },
    {
     "name": "stdout",
     "output_type": "stream",
     "text": [
      "[(2020, 4), (2021, 4), (2022, 4), (2023, 4)] (2024, 4)\n"
     ]
    },
    {
     "name": "stderr",
     "output_type": "stream",
     "text": [
      "  5%|▌         | 26/497 [02:26<42:47,  5.45s/it] "
     ]
    },
    {
     "name": "stdout",
     "output_type": "stream",
     "text": [
      "Error for ABBV: No neighbors found for ('ABBV', 2024, 4)\n"
     ]
    },
    {
     "name": "stderr",
     "output_type": "stream",
     "text": [
      "  9%|▉         | 47/497 [04:35<50:28,  6.73s/it]"
     ]
    },
    {
     "name": "stdout",
     "output_type": "stream",
     "text": [
      "Error for PM: No neighbors found for ('PM', 2024, 4)\n"
     ]
    },
    {
     "name": "stderr",
     "output_type": "stream",
     "text": [
      " 14%|█▍        | 69/497 [06:39<42:09,  5.91s/it]"
     ]
    },
    {
     "name": "stdout",
     "output_type": "stream",
     "text": [
      "Error for PGR: No neighbors found for ('PGR', 2024, 4)\n"
     ]
    },
    {
     "name": "stderr",
     "output_type": "stream",
     "text": [
      " 21%|██        | 102/497 [09:53<44:39,  6.78s/it]"
     ]
    },
    {
     "name": "stdout",
     "output_type": "stream",
     "text": [
      "Error for MO: No neighbors found for ('MO', 2024, 4)\n"
     ]
    },
    {
     "name": "stderr",
     "output_type": "stream",
     "text": [
      " 38%|███▊      | 189/497 [17:31<19:20,  3.77s/it]"
     ]
    },
    {
     "name": "stdout",
     "output_type": "stream",
     "text": [
      "Error for MNST: No neighbors found for ('MNST', 2024, 4)\n"
     ]
    },
    {
     "name": "stderr",
     "output_type": "stream",
     "text": [
      " 51%|█████▏    | 255/497 [24:25<25:56,  6.43s/it]"
     ]
    },
    {
     "name": "stdout",
     "output_type": "stream",
     "text": [
      "Error for IQV: No neighbors found for ('IQV', 2024, 4)\n"
     ]
    },
    {
     "name": "stderr",
     "output_type": "stream",
     "text": [
      " 66%|██████▋   | 330/497 [32:16<13:20,  4.79s/it]"
     ]
    },
    {
     "name": "stdout",
     "output_type": "stream",
     "text": [
      "Error for CPAY: No neighbors found for ('CPAY', 2024, 4)\n"
     ]
    },
    {
     "name": "stderr",
     "output_type": "stream",
     "text": [
      " 91%|█████████ | 450/497 [45:07<06:42,  8.57s/it]"
     ]
    },
    {
     "name": "stdout",
     "output_type": "stream",
     "text": [
      "Error for CHRW: No neighbors found for ('CHRW', 2024, 4)\n"
     ]
    },
    {
     "name": "stderr",
     "output_type": "stream",
     "text": [
      " 93%|█████████▎| 461/497 [46:04<02:17,  3.82s/it]"
     ]
    },
    {
     "name": "stdout",
     "output_type": "stream",
     "text": [
      "Error for SOLV: No neighbors found for ('SOLV', 2024, 4)\n"
     ]
    },
    {
     "name": "stderr",
     "output_type": "stream",
     "text": [
      " 96%|█████████▌| 477/497 [47:46<02:05,  6.28s/it]"
     ]
    },
    {
     "name": "stdout",
     "output_type": "stream",
     "text": [
      "Error for GNRC: No neighbors found for ('GNRC', 2024, 4)\n"
     ]
    },
    {
     "name": "stderr",
     "output_type": "stream",
     "text": [
      "100%|██████████| 497/497 [49:48<00:00,  6.01s/it]\n"
     ]
    }
   ],
   "source": [
    "# Let's try the seasonal tuning now\n",
    "\n",
    "output_file = 'seasonal_test.csv'\n",
    "\n",
    "for quarter in range(1, 5):\n",
    "    train_cols = [(y, quarter) for y in range(2020, 2024)]\n",
    "    \n",
    "    test_col = (2024, quarter)\n",
    "    print(train_cols, test_col)\n",
    "    i = 0\n",
    "    \n",
    "    for oftic in tqdm(list(ibes_data.keys())):\n",
    "        try:\n",
    "            eta = optimize_eta(oftic, train_cols, quarterly_actual, quarterly_data)\n",
    "            test_error = evaluate_eta_test(eta, oftic, [test_col], quarterly_actual, quarterly_data)\n",
    "            base_error = evaluate_eta_test(0, oftic, [test_col], quarterly_actual, quarterly_data)\n",
    "            \n",
    "            df = pd.DataFrame({'ticker': [oftic],\n",
    "                                'year': [2024],\n",
    "                                'quarter': [quarter],\n",
    "                                'eta': [eta],\n",
    "                                'test_error': [test_error],\n",
    "                                'base_error': [base_error]})\n",
    "            if i == 0:\n",
    "                # Write header only for the first row\n",
    "                df.to_csv(output_file, mode='w', index=False)\n",
    "            else:\n",
    "                # Append to the file without writing the header\n",
    "                df.to_csv(output_file, mode='a', index=False, header=False)\n",
    "            i += 1\n",
    "        except Exception as e:\n",
    "            print(f\"Error for {oftic}: {e}\")"
   ]
  },
  {
   "cell_type": "code",
   "execution_count": 37,
   "metadata": {},
   "outputs": [
    {
     "name": "stdout",
     "output_type": "stream",
     "text": [
      "The LCM of [12, 18, 24] is 72\n"
     ]
    }
   ],
   "source": [
    "import math\n",
    "from functools import reduce\n",
    "\n",
    "def lcm(a, b):\n",
    "    return abs(a*b) // math.gcd(a, b)\n",
    "\n",
    "def lcm_list(numbers):\n",
    "    return reduce(lcm, numbers)\n",
    "\n",
    "# Example usage\n",
    "numbers = [12, 18, 24]\n",
    "result = lcm_list(numbers)\n",
    "print(f\"The LCM of {numbers} is {result}\")"
   ]
  },
  {
   "cell_type": "code",
   "execution_count": 34,
   "metadata": {},
   "outputs": [],
   "source": [
    "num_samples = [quarterly_data[t, 2024, 1].shape[0] for t in ibes_data.keys() if quarterly_data.get((t, 2024, 1)) is not None]"
   ]
  },
  {
   "cell_type": "code",
   "execution_count": 42,
   "metadata": {},
   "outputs": [
    {
     "data": {
      "text/plain": [
       "164249358725037825439200"
      ]
     },
     "execution_count": 42,
     "metadata": {},
     "output_type": "execute_result"
    }
   ],
   "source": [
    "lcm_list(num_samples)"
   ]
  },
  {
   "cell_type": "code",
   "execution_count": 43,
   "metadata": {},
   "outputs": [
    {
     "data": {
      "text/plain": [
       "77.12023392028715"
      ]
     },
     "execution_count": 43,
     "metadata": {},
     "output_type": "execute_result"
    }
   ],
   "source": [
    "math.log2(lcm_list(num_samples))"
   ]
  },
  {
   "cell_type": "code",
   "execution_count": 32,
   "metadata": {},
   "outputs": [
    {
     "data": {
      "text/plain": [
       "(29, 2)"
      ]
     },
     "execution_count": 32,
     "metadata": {},
     "output_type": "execute_result"
    }
   ],
   "source": [
    "quarterly_data['AAPL', 2024, 1].shape"
   ]
  }
 ],
 "metadata": {
  "kernelspec": {
   "display_name": "llmsim",
   "language": "python",
   "name": "python3"
  },
  "language_info": {
   "codemirror_mode": {
    "name": "ipython",
    "version": 3
   },
   "file_extension": ".py",
   "mimetype": "text/x-python",
   "name": "python",
   "nbconvert_exporter": "python",
   "pygments_lexer": "ipython3",
   "version": "3.11.10"
  }
 },
 "nbformat": 4,
 "nbformat_minor": 2
}
