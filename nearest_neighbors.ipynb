{
 "cells": [
  {
   "cell_type": "code",
   "execution_count": 3,
   "id": "4244ccd6-a5b4-4d80-bcde-741964c3fd32",
   "metadata": {
    "tags": []
   },
   "outputs": [],
   "source": [
    "from itertools import product\n",
    "import numpy as np"
   ]
  },
  {
   "cell_type": "code",
   "execution_count": 4,
   "id": "b282967d-db23-4179-a355-e2ab003a837e",
   "metadata": {
    "tags": []
   },
   "outputs": [],
   "source": [
    "def wasserstein2(u: np.array, v: np.array):\n",
    "    \"\"\"\n",
    "    Returns the squared 2-Wasserstein distance between two\n",
    "    empirical distributions represented by arrays.\n",
    "    Assumes the arrays of equal size.\n",
    "    \"\"\"\n",
    "    assert len(u) == len(v)\n",
    "    \n",
    "    u_sorted = np.sort(u)\n",
    "    v_sorted = np.sort(v)\n",
    "    \n",
    "    return np.sum(np.power(u_sorted - v_sorted,2)) / len(u)"
   ]
  },
  {
   "cell_type": "code",
   "execution_count": 58,
   "id": "e8e89e41-2120-429d-a520-e2338447adf2",
   "metadata": {
    "tags": []
   },
   "outputs": [],
   "source": [
    "r = 3\n",
    "c = 3\n",
    "n = 100\n",
    "\n",
    "data_table = [[0 for i in range(c)] for j in range(r)]\n",
    "\n",
    "np.random.seed(0)\n",
    "\n",
    "# Table of n x m Gaussians with columns having same variance and rows having same means\n",
    "\n",
    "# means = np.linspace(-10,10,num=r) # means\n",
    "# stds = np.linspace(1, 20, num=c) # variances\n",
    "means = [0] * r # means\n",
    "stds = [1, 2, 1] # variances\n",
    "\n",
    "for i, j in product(range(r),range(c)):\n",
    "    data_table[i][j] = np.random.normal(means[i],stds[j], n)"
   ]
  },
  {
   "cell_type": "code",
   "execution_count": 64,
   "id": "808c8ee5-70c4-4b91-a226-44b747e41be9",
   "metadata": {
    "tags": []
   },
   "outputs": [
    {
     "data": {
      "image/png": "[encoded data removed]",
      "text/plain": [
       "<Figure size 640x480 with 9 Axes>"
      ]
     },
     "metadata": {},
     "output_type": "display_data"
    }
   ],
   "source": [
    "import matplotlib.pyplot as plt\n",
    "\n",
    "fig, axs = plt.subplots(r, c)\n",
    "\n",
    "for i in range(r):\n",
    "    for j in range(c):\n",
    "        axs[i, j].hist(data_table[i][j], bins=n // 10)"
   ]
  },
  {
   "cell_type": "code",
   "execution_count": 60,
   "id": "67c93990-5ede-4ded-a616-acb1fa7a331f",
   "metadata": {
    "tags": []
   },
   "outputs": [
    {
     "name": "stdout",
     "output_type": "stream",
     "text": [
      "0 0 0.05980801553448501 1.0078822447165796\n",
      "0 1 0.1640259414956747 2.069333994876845\n",
      "0 2 -0.05923226055966314 0.9520026189951111\n",
      "1 0 -0.19679670654591028 0.9293551189400339\n",
      "1 1 -0.025128431677836054 2.0743464226204735\n",
      "1 2 -0.20293097988992734 1.0169771787257058\n",
      "2 0 -0.13494963016348158 1.0030129643138403\n",
      "2 1 -0.2471985670456201 1.8832778073001464\n",
      "2 2 -0.028199131755383324 0.9299670866405886\n"
     ]
    }
   ],
   "source": [
    "for i, j in product(range(r),range(c)):\n",
    "    print(i,j,np.mean(data_table[i][j]), np.std(data_table[i][j]))"
   ]
  },
  {
   "cell_type": "code",
   "execution_count": 67,
   "id": "0e09a0a5-a316-40e3-9e8f-bd29191ddcc5",
   "metadata": {
    "tags": []
   },
   "outputs": [
    {
     "data": {
      "text/plain": [
       "1.1287208910401585"
      ]
     },
     "execution_count": 67,
     "metadata": {},
     "output_type": "execute_result"
    }
   ],
   "source": [
    "dissim(get_col(data_table, 0), get_col(data_table, 1))"
   ]
  },
  {
   "cell_type": "code",
   "execution_count": 68,
   "id": "407af01f-2c59-4240-8064-94756ef082d6",
   "metadata": {
    "tags": []
   },
   "outputs": [
    {
     "data": {
      "text/plain": [
       "0.03370404333464019"
      ]
     },
     "execution_count": 68,
     "metadata": {},
     "output_type": "execute_result"
    }
   ],
   "source": [
    "dissim(get_col(data_table, 0), get_col(data_table, 2))"
   ]
  },
  {
   "cell_type": "code",
   "execution_count": null,
   "id": "f8fdc48f-59cc-40dd-8237-5eb7b661df3e",
   "metadata": {},
   "outputs": [],
   "source": [
    "dissim(data_table[0], data_table[1])"
   ]
  },
  {
   "cell_type": "code",
   "execution_count": 50,
   "id": "c0400f81-c8a5-44f8-8e1f-eadcb861567a",
   "metadata": {
    "tags": []
   },
   "outputs": [],
   "source": [
    "def dissim(list1: list[np.array], list2: list[np.array]) -> float:\n",
    "    size = 0\n",
    "    distance = 0\n",
    "    for ind in range(len(list1)):\n",
    "        if len(list1[ind]) > 0 and len(list2[ind]) > 0: # both are observed\n",
    "            distance += wasserstein2(list1[ind],list2[ind])\n",
    "            size += 1\n",
    "    if size == 0:\n",
    "        return float('inf')\n",
    "    return distance / size\n",
    "\n",
    "def get_col(table, col):\n",
    "    return [table[i][col] for i in range(len(table))]\n",
    "\n",
    "def barycenter(lists):\n",
    "    # assumes that each list has the same number of samples\n",
    "    for i in range(len(lists)):\n",
    "        for j in range(i+1,len(lists)):\n",
    "            assert len(lists[i]) == len(lists[j])\n",
    "    \n",
    "    sorted_data = [np.sort(l) for l in lists]\n",
    "    \n",
    "    sum_data = 0\n",
    "    for l in sorted_data:\n",
    "        sum_data += l\n",
    "    \n",
    "    return sum_data / len(lists)"
   ]
  },
  {
   "cell_type": "code",
   "execution_count": 63,
   "id": "88661e33-404f-4163-b962-0e0e26cfbdce",
   "metadata": {
    "tags": []
   },
   "outputs": [
    {
     "data": {
      "text/plain": [
       "(-0.33841541258380153, 1.861516333228331)"
      ]
     },
     "execution_count": 63,
     "metadata": {},
     "output_type": "execute_result"
    }
   ],
   "source": [
    "row1_bc = barycenter(data_table[1:][0] + get_col(data_table, 0)[1:][0])\n",
    "\n",
    "np.mean(row1_bc), np.std(row1_bc)"
   ]
  },
  {
   "cell_type": "code",
   "execution_count": 114,
   "id": "9a1b058a-4722-459b-8d14-f7479d36cc05",
   "metadata": {
    "tags": []
   },
   "outputs": [
    {
     "data": {
      "text/plain": [
       "15630.549614796368"
      ]
     },
     "execution_count": 114,
     "metadata": {},
     "output_type": "execute_result"
    }
   ],
   "source": [
    "dissim(get_col(data_table, 0), get_col(data_table, 1))"
   ]
  },
  {
   "cell_type": "code",
   "execution_count": 105,
   "id": "d21d2add-faa4-4d1b-8bfa-bbd39c5d915f",
   "metadata": {
    "tags": []
   },
   "outputs": [
    {
     "data": {
      "text/plain": [
       "15880.66126213654"
      ]
     },
     "execution_count": 105,
     "metadata": {},
     "output_type": "execute_result"
    }
   ],
   "source": [
    "dissim(data_table[0], data_table[1])"
   ]
  },
  {
   "cell_type": "code",
   "execution_count": 100,
   "id": "5298e2dd-1802-483f-9d9c-91a5f336fe13",
   "metadata": {
    "tags": []
   },
   "outputs": [],
   "source": [
    "from copy import deepcopy\n",
    "\n",
    "Z = deepcopy(data_table)\n",
    "\n",
    "Z[0][0] = []"
   ]
  },
  {
   "cell_type": "code",
   "execution_count": null,
   "id": "3f681f71-a031-49d8-9e33-adc4a157ae7e",
   "metadata": {},
   "outputs": [],
   "source": [
    "# Let's try to recreate the (0,0) entry in data_table from Z\n"
   ]
  }
 ],
 "metadata": {
  "kernelspec": {
   "display_name": "Python 3 (ipykernel)",
   "language": "python",
   "name": "python3"
  },
  "language_info": {
   "codemirror_mode": {
    "name": "ipython",
    "version": 3
   },
   "file_extension": ".py",
   "mimetype": "text/x-python",
   "name": "python",
   "nbconvert_exporter": "python",
   "pygments_lexer": "ipython3",
   "version": "3.11.5"
  }
 },
 "nbformat": 4,
 "nbformat_minor": 5
}
