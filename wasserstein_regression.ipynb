{
 "cells": [
  {
   "cell_type": "markdown",
   "metadata": {},
   "source": [
    "Here, we implement Wasserstein regression using PyTorch. We use PyTorch so that we can utilize the AutoGrad framework to calculate gradients since I do not know a closed-form solution for Wasserstein regression similar to scalar linear regression.\n",
    "\n",
    "If this does not work since some of the operations do not let the gradients pass through such as `torch.unique` or `torch.searchsorted`, we will use SPSA to estimate the gradients."
   ]
  },
  {
   "cell_type": "code",
   "execution_count": 304,
   "metadata": {},
   "outputs": [],
   "source": [
    "import torch # will use for AutoGrad\n",
    "import numpy as np\n",
    "import pandas as pd\n",
    "import matplotlib.pyplot as plt"
   ]
  },
  {
   "cell_type": "code",
   "execution_count": 9,
   "metadata": {},
   "outputs": [
    {
     "data": {
      "text/plain": [
       "tensor([0, 1, 1, 1, 1])"
      ]
     },
     "execution_count": 9,
     "metadata": {},
     "output_type": "execute_result"
    }
   ],
   "source": [
    "torch.cat([torch.tensor(0).reshape(1), torch.diff(torch.tensor([1,2,3,4,5]))])"
   ]
  },
  {
   "cell_type": "code",
   "execution_count": 380,
   "metadata": {},
   "outputs": [
    {
     "data": {
      "text/plain": [
       "tensor([1., 1., 2.], grad_fn=<MvBackward0>)"
      ]
     },
     "execution_count": 380,
     "metadata": {},
     "output_type": "execute_result"
    }
   ],
   "source": [
    "def empirical_quantile_function(samples):\n",
    "    \"\"\"\n",
    "    Returns a function that computes the empirical quantile function for the given 1D samples.\n",
    "\n",
    "    Args:\n",
    "        samples (torch.Tensor): A 1D tensor of samples from a distribution. Assumes is sorted.\n",
    "\n",
    "    Returns:\n",
    "        function: A function that takes a tensor of quantiles (q) and returns the corresponding quantile values.\n",
    "    \"\"\"\n",
    "    samples_diff = torch.cat([samples[0].reshape(1), torch.diff(samples)])\n",
    "    def quantile_function(q):\n",
    "        \"\"\"\n",
    "        Computes the empirical quantile for the given quantiles.\n",
    "\n",
    "        Args:\n",
    "            q (torch.Tensor): A tensor of quantiles (values between 0 and 1).\n",
    "\n",
    "        Returns:\n",
    "            torch.Tensor: The corresponding quantile values.\n",
    "        \"\"\"\n",
    "        # Compute the empirical CDF values\n",
    "        n = len(samples)\n",
    "        cdf = torch.arange(1, n + 1, dtype=torch.float32) / n\n",
    "        # Use broadcasting to calculate the Heaviside contributions\n",
    "        heaviside_matrix = torch.heaviside(q.unsqueeze(1) - cdf.unsqueeze(0), torch.tensor(0.0))\n",
    "        # Add a column of ones to the left of the Heaviside matrix\n",
    "        first_col = torch.ones(heaviside_matrix.shape[0]).reshape(-1, 1)\n",
    "        heaviside_matrix = torch.cat([first_col, heaviside_matrix], dim=1)\n",
    "        # Remove the last column of Heaviside_matrix\n",
    "        heaviside_matrix = heaviside_matrix[:, :-1]\n",
    "        # Compute quantile values by summing contributions\n",
    "        quantile_values = (heaviside_matrix @ samples_diff)\n",
    "\n",
    "        return quantile_values\n",
    "    return quantile_function\n",
    "\n",
    "# Example usage\n",
    "samples = torch.tensor([1.0, 2.0]).requires_grad_(True)\n",
    "quantile_fn = empirical_quantile_function(samples)\n",
    "quantiles = torch.tensor([0.1, 0.5, 1.0])\n",
    "result = quantile_fn(quantiles)\n",
    "result"
   ]
  },
  {
   "cell_type": "code",
   "execution_count": 410,
   "metadata": {},
   "outputs": [
    {
     "data": {
      "text/plain": [
       "<matplotlib.legend.Legend at 0x335c06a10>"
      ]
     },
     "execution_count": 410,
     "metadata": {},
     "output_type": "execute_result"
    },
    {
     "data": {
      "image/png": "[encoded data removed]",
      "text/plain": [
       "<Figure size 640x480 with 1 Axes>"
      ]
     },
     "metadata": {},
     "output_type": "display_data"
    }
   ],
   "source": [
    "samples = torch.tensor([1.0, 2.0, 5.0])\n",
    "q_func = empirical_quantile_function(samples)\n",
    "x = torch.linspace(0,1,1000)\n",
    "\n",
    "# quantiles_torch = torch.quantile(samples, x, interpolation='midpoint')\n",
    "quantiles_npy = np.quantile(samples.numpy(), x.numpy(), interpolation='inverted_cdf')\n",
    "y = q_func(x)\n",
    "\n",
    "plt.figure()\n",
    "x_npy = x.numpy()\n",
    "plt.plot(x_npy, y.detach().numpy())\n",
    "# plt.plot(x_npy, quantiles_torch.detach().numpy())\n",
    "plt.plot(x_npy, quantiles_npy, linestyle='--')\n",
    "plt.legend(['Empirical Quantile Function', 'Numpy Quantile'])"
   ]
  },
  {
   "cell_type": "code",
   "execution_count": 411,
   "metadata": {},
   "outputs": [
    {
     "data": {
      "text/plain": [
       "tensor(2.)"
      ]
     },
     "execution_count": 411,
     "metadata": {},
     "output_type": "execute_result"
    }
   ],
   "source": [
    "def step_function(x_points, y_points, x):\n",
    "    # Find the interval that x falls into\n",
    "    idx = torch.searchsorted(x_points, x, right = True) - 1\n",
    "    # If x is before the first point, return the first y\n",
    "    if idx < 0:\n",
    "        return y_points[0]\n",
    "    # If x is beyond the last point, return the last y\n",
    "    elif idx >= len(y_points):\n",
    "        return y_points[-1]\n",
    "    # Otherwise, return the y corresponding to the interval\n",
    "    return y_points[idx]\n",
    "\n",
    "val = step_function(x,y, 0.5)\n",
    "val"
   ]
  },
  {
   "cell_type": "code",
   "execution_count": 57,
   "metadata": {},
   "outputs": [],
   "source": [
    "val.backward()"
   ]
  },
  {
   "cell_type": "code",
   "execution_count": 426,
   "metadata": {},
   "outputs": [
    {
     "data": {
      "text/plain": [
       "tensor(1., grad_fn=<DivBackward0>)"
      ]
     },
     "execution_count": 426,
     "metadata": {},
     "output_type": "execute_result"
    }
   ],
   "source": [
    "def squared_difference_integral(quantile_func1, quantile_func2, N = 1000):\n",
    "    quantiles = torch.linspace(0,1,N)\n",
    "    return torch.sum((quantile_func1(quantiles) - quantile_func2(quantiles)) ** 2) / N\n",
    "\n",
    "# Example usage\n",
    "samples1 = torch.tensor([1.0, 2.0]).requires_grad_(True)\n",
    "samples2 = torch.tensor([2.0, 3.0]).requires_grad_(True)\n",
    "\n",
    "q1 = empirical_quantile_function(samples1)\n",
    "q2 = empirical_quantile_function(samples2)\n",
    "\n",
    "W2 = squared_difference_integral(q1, q2)\n",
    "W2"
   ]
  },
  {
   "cell_type": "code",
   "execution_count": 713,
   "metadata": {},
   "outputs": [
    {
     "name": "stdout",
     "output_type": "stream",
     "text": [
      "tensor([2., 2., 3.], grad_fn=<SumBackward1>)\n",
      "2\n",
      "tensor([1.5000, 1.5000, 2.5000], grad_fn=<SumBackward1>)\n",
      "tensor([1.5000, 1.5000, 2.5000], grad_fn=<SumBackward1>)\n"
     ]
    }
   ],
   "source": [
    "def linear_combination(quantile_fns, weights):\n",
    "    def lin_comb_fn(q):\n",
    "        # Compute the quantile values for each function\n",
    "        quantile_values = torch.stack([fn(q) for fn in quantile_fns])\n",
    "        # Compute the weighted sum of quantile values\n",
    "        lin_comb_values = torch.sum(weights.unsqueeze(1) * quantile_values, dim=0)\n",
    "\n",
    "        return lin_comb_values\n",
    "\n",
    "    return lin_comb_fn\n",
    "\n",
    "def barycenter_threshold(quantile_fns, threshold, distances):\n",
    "    if len(quantile_fns) != len(distances):\n",
    "        raise ValueError(\"The number of quantile functions must match the number of distances.\")\n",
    "    quantile_fns = [fn for (fn,dist) in zip(quantile_fns, distances) if dist <= threshold]\n",
    "    print(len(quantile_fns))\n",
    "    if len(quantile_fns) == 0:\n",
    "        raise ValueError(\"All distances are greater than the threshold.\")\n",
    "    weights = torch.tensor([1/len(quantile_fns)] * len(quantile_fns))\n",
    "    return linear_combination(quantile_fns, weights)\n",
    "\n",
    "def barycenter_threshold_soft(quantile_fns, threshold, distances, sharpness=100):\n",
    "    if len(quantile_fns) != len(distances):\n",
    "        raise ValueError(\"The number of quantile functions must match the number of distances.\")\n",
    "    x = torch.sigmoid((threshold - distances) * sharpness)\n",
    "    weights = x / torch.sum(x)\n",
    "    return linear_combination(quantile_fns, weights)\n",
    "\n",
    "# Example usage\n",
    "samples1 = torch.tensor([1.0, 2.0]).requires_grad_(True)\n",
    "samples2 = torch.tensor([2.0, 3.0]).requires_grad_(True)\n",
    "samples3 = torch.tensor([3.0, 4.0]).requires_grad_(True)\n",
    "\n",
    "q1 = empirical_quantile_function(samples1)\n",
    "q2 = empirical_quantile_function(samples2)\n",
    "q3 = empirical_quantile_function(samples3)\n",
    "\n",
    "quantile_fns = [q1, q2, q3]\n",
    "weights = torch.tensor([1/3, 1/3, 1/3])\n",
    "lin_comb_fn = linear_combination(quantile_fns, weights)\n",
    "\n",
    "quantiles = torch.tensor([0.1, 0.5, 1.0])\n",
    "print(lin_comb_fn(quantiles))\n",
    "\n",
    "barycenter_fn = barycenter_threshold(quantile_fns, 1.0, torch.tensor([0.5, 0.9, 1.5]))\n",
    "print(barycenter_fn(quantiles))\n",
    "\n",
    "barycenter_fn_soft = barycenter_threshold_soft(quantile_fns, 1.0, torch.tensor([0.5, 0.9, 1.5]), sharpness=100)\n",
    "print(barycenter_fn_soft(quantiles))"
   ]
  },
  {
   "cell_type": "code",
   "execution_count": 415,
   "metadata": {},
   "outputs": [
    {
     "data": {
      "text/plain": [
       "tensor([1., 2., 2., 2., 2., 2., 2., 2., 2., 2., 2., 2., 2., 2., 2., 2., 2., 2.,\n",
       "        2., 2., 2., 2., 2., 2., 2., 2., 2., 2., 2., 2., 2., 2., 2., 2., 2., 2.,\n",
       "        2., 2., 2., 2., 2., 2., 2., 2., 2., 2., 2., 2., 2., 2., 5., 5., 5., 5.,\n",
       "        5., 5., 5., 5., 5., 5., 5., 5., 5., 5., 5., 5., 5., 5., 5., 5., 5., 5.,\n",
       "        5., 5., 5., 5., 5., 5., 5., 5., 5., 5., 5., 5., 5., 5., 5., 5., 5., 5.,\n",
       "        5., 5., 5., 5., 5., 5., 5., 5., 5., 5.], grad_fn=<SqueezeBackward4>)"
      ]
     },
     "execution_count": 415,
     "metadata": {},
     "output_type": "execute_result"
    }
   ],
   "source": [
    "x = torch.linspace(0, 1, 100)\n",
    "samples = torch.tensor([1.0, 2.0, 5.0]).requires_grad_(True)\n",
    "q = torch.quantile(samples, x, interpolation='higher')\n",
    "q"
   ]
  },
  {
   "cell_type": "code",
   "execution_count": 416,
   "metadata": {},
   "outputs": [
    {
     "name": "stdout",
     "output_type": "stream",
     "text": [
      "tensor(2.6647, grad_fn=<DivBackward1>)\n",
      "tensor(2.6667, grad_fn=<MeanBackward0>)\n"
     ]
    }
   ],
   "source": [
    "def expectation(quantile_func, N = 1000):\n",
    "    x = torch.linspace(0, 1, N)\n",
    "    quantiles = quantile_func(x)\n",
    "    return torch.trapezoid(quantiles, x=x)\n",
    "\n",
    "samples = torch.tensor([1.0, 2.0, 5.0]).requires_grad_(True)\n",
    "q_func = empirical_quantile_function(samples)\n",
    "\n",
    "E = expectation(q_func)\n",
    "print(E)\n",
    "print(torch.mean(samples))"
   ]
  },
  {
   "cell_type": "code",
   "execution_count": 383,
   "metadata": {},
   "outputs": [],
   "source": [
    "E.backward()"
   ]
  },
  {
   "cell_type": "markdown",
   "metadata": {},
   "source": [
    "We should be ready now to implement the Wasserstein regression for the WRDS dataset."
   ]
  },
  {
   "cell_type": "code",
   "execution_count": 146,
   "metadata": {},
   "outputs": [
    {
     "data": {
      "text/plain": [
       "tensor(6.)"
      ]
     },
     "execution_count": 146,
     "metadata": {},
     "output_type": "execute_result"
    }
   ],
   "source": [
    "torch.norm(torch.tensor([1.0,2.0,3.0]), p = 1)"
   ]
  },
  {
   "cell_type": "code",
   "execution_count": 147,
   "metadata": {},
   "outputs": [],
   "source": [
    "import pandas as pd\n",
    "import numpy as np\n",
    "import matplotlib.pyplot as plt\n",
    "from tqdm import tqdm\n",
    "import pickle\n",
    "import scipy as sp"
   ]
  },
  {
   "cell_type": "code",
   "execution_count": 155,
   "metadata": {},
   "outputs": [],
   "source": [
    "with open('quarterly_actual.pkl', 'rb') as f:\n",
    "    quarterly_actual = pickle.load(f)\n",
    "    \n",
    "with open('quarterly_data.pkl', 'rb') as f:\n",
    "    quarterly_data = pickle.load(f)\n",
    "    \n",
    "with open('ibes_tickers.pkl', 'rb') as f:\n",
    "    ibes_tickers = pickle.load(f)"
   ]
  },
  {
   "cell_type": "code",
   "execution_count": 384,
   "metadata": {},
   "outputs": [
    {
     "data": {
      "text/html": [
       "<div>\n",
       "<style scoped>\n",
       "    .dataframe tbody tr th:only-of-type {\n",
       "        vertical-align: middle;\n",
       "    }\n",
       "\n",
       "    .dataframe tbody tr th {\n",
       "        vertical-align: top;\n",
       "    }\n",
       "\n",
       "    .dataframe thead th {\n",
       "        text-align: right;\n",
       "    }\n",
       "</style>\n",
       "<table border=\"1\" class=\"dataframe\">\n",
       "  <thead>\n",
       "    <tr style=\"text-align: right;\">\n",
       "      <th></th>\n",
       "      <th>value</th>\n",
       "      <th>ann_datetime</th>\n",
       "    </tr>\n",
       "  </thead>\n",
       "  <tbody>\n",
       "    <tr>\n",
       "      <th>622</th>\n",
       "      <td>2.040</td>\n",
       "      <td>2023-11-02 20:51:00</td>\n",
       "    </tr>\n",
       "    <tr>\n",
       "      <th>623</th>\n",
       "      <td>2.084</td>\n",
       "      <td>2023-11-02 22:00:00</td>\n",
       "    </tr>\n",
       "    <tr>\n",
       "      <th>624</th>\n",
       "      <td>2.120</td>\n",
       "      <td>2023-11-02 23:10:00</td>\n",
       "    </tr>\n",
       "    <tr>\n",
       "      <th>625</th>\n",
       "      <td>2.080</td>\n",
       "      <td>2023-11-02 22:54:00</td>\n",
       "    </tr>\n",
       "    <tr>\n",
       "      <th>626</th>\n",
       "      <td>2.080</td>\n",
       "      <td>2023-11-02 23:04:00</td>\n",
       "    </tr>\n",
       "  </tbody>\n",
       "</table>\n",
       "</div>"
      ],
      "text/plain": [
       "     value        ann_datetime\n",
       "622  2.040 2023-11-02 20:51:00\n",
       "623  2.084 2023-11-02 22:00:00\n",
       "624  2.120 2023-11-02 23:10:00\n",
       "625  2.080 2023-11-02 22:54:00\n",
       "626  2.080 2023-11-02 23:04:00"
      ]
     },
     "execution_count": 384,
     "metadata": {},
     "output_type": "execute_result"
    }
   ],
   "source": [
    "quarterly_data['AAPL', 2024, 1].head()"
   ]
  },
  {
   "cell_type": "markdown",
   "metadata": {},
   "source": [
    "Let's optimize for AAPL for 1 column: 2024 Q1"
   ]
  },
  {
   "cell_type": "code",
   "execution_count": 173,
   "metadata": {},
   "outputs": [],
   "source": [
    "import torch.optim as optim"
   ]
  },
  {
   "cell_type": "code",
   "execution_count": 606,
   "metadata": {},
   "outputs": [],
   "source": [
    "year = 2023\n",
    "quarters = [1,2,3,4]\n",
    "ticker = 'MSFT'\n",
    "\n",
    "quantile_funcs = dict()\n",
    "tickers_used_list = []\n",
    "for quarter in quarters:\n",
    "    actual_eps, actual_date, actual_time = quarterly_actual[ticker, year, quarter]\n",
    "    actual_datetime = pd.to_datetime(actual_date + ' ' + actual_time, format = '%Y-%m-%d %H:%M:%S')\n",
    "    tickers_used = set()\n",
    "    for oftic,_ in ibes_tickers:\n",
    "        data = quarterly_data[oftic, year, quarter]\n",
    "        if data is None:\n",
    "            continue\n",
    "        data = data[data['ann_datetime'] < actual_datetime]\n",
    "        if len(data) == 0:\n",
    "            continue\n",
    "        quantile_funcs[oftic, year, quarter] = empirical_quantile_function(torch.tensor(data['value'].sort_values().values).float())\n",
    "        tickers_used.add(oftic)\n",
    "    tickers_used_list.append(tickers_used)\n",
    "\n",
    "tickers_intersection = set.intersection(*tickers_used_list)\n",
    "\n",
    "delete_keys = []\n",
    "for key in quantile_funcs:\n",
    "    if key[0] not in tickers_intersection:\n",
    "        delete_keys.append(key)\n",
    "for key in delete_keys:\n",
    "    del quantile_funcs[key]\n",
    "\n",
    "weights = torch.tensor([1/len(tickers_intersection) for _ in tickers_intersection], requires_grad = True)\n",
    "\n",
    "# Optimize weights\n",
    "optimizer = optim.Adam([weights], lr = 0.01)"
   ]
  },
  {
   "cell_type": "code",
   "execution_count": 592,
   "metadata": {},
   "outputs": [
    {
     "name": "stderr",
     "output_type": "stream",
     "text": [
      "100%|██████████| 200/200 [00:14<00:00, 13.88it/s, loss=6.03e-8] \n"
     ]
    }
   ],
   "source": [
    "l1_hyper = 0\n",
    "# l2_hyper = 10.0\n",
    "with tqdm(range(200)) as tepoch:\n",
    "    for i in tepoch:\n",
    "        optimizer.zero_grad()\n",
    "        loss = torch.tensor(0.0)\n",
    "        for quarter in [1,2,3]: # leave out Q4\n",
    "            barycenter_fn = linear_combination([quantile_funcs[oftic,year,quarter] for oftic in tickers_intersection], weights)\n",
    "            mean = expectation(barycenter_fn)\n",
    "            l1_loss = l1_hyper * torch.norm(weights, p = 1)\n",
    "            # l2_loss = l2_hyper * (weights @ weights)\n",
    "            loss += ((mean - actual_eps) ** 2) + l1_loss\n",
    "        # loss = (torch.abs((mean - actual_eps)) / actual_eps)\n",
    "        # loss = (mean - actual_eps) ** 2\n",
    "        loss.backward()\n",
    "        optimizer.step()\n",
    "        \n",
    "        tepoch.set_postfix(loss=loss.item())"
   ]
  },
  {
   "cell_type": "markdown",
   "metadata": {},
   "source": [
    "For estimation using multiple columns, we will need to check for missing data in each column and remove any rows with missing data across all columns to ensure that the weights make sense."
   ]
  },
  {
   "cell_type": "code",
   "execution_count": 494,
   "metadata": {},
   "outputs": [],
   "source": [
    "def get_rows_cols():\n",
    "    cols = [(year, quarter) for year in range(2020, 2025) for quarter in range(1, 5)]\n",
    "    rows = [t[0] for t in ibes_tickers]\n",
    "    return rows, cols\n",
    "\n",
    "rows, cols = get_rows_cols()\n",
    "\n",
    "train_cols = cols[:len(cols) // 2]\n",
    "test_col = cols[len(cols) // 2]"
   ]
  },
  {
   "cell_type": "code",
   "execution_count": 593,
   "metadata": {},
   "outputs": [
    {
     "name": "stdout",
     "output_type": "stream",
     "text": [
      "Quarter 1\n",
      "Actual EPS:   2.99\n",
      "DistNN EPS:   2.989712715148926\n",
      "Baseline EPS: 2.3238478260869564\n",
      "DistNN Relative Error:   9.608508116798475e-05\n",
      "Baseline Relative Error: 0.22279336920168688\n",
      "\n",
      "Quarter 2\n",
      "Actual EPS:   2.99\n",
      "DistNN EPS:   2.9897260665893555\n",
      "Baseline EPS: 2.231512820512821\n",
      "DistNN Relative Error:   9.161971684079617e-05\n",
      "Baseline Relative Error: 0.25367464196895617\n",
      "\n",
      "Quarter 3\n",
      "Actual EPS:   2.99\n",
      "DistNN EPS:   2.9896926879882812\n",
      "Baseline EPS: 2.547977777777778\n",
      "DistNN Relative Error:   0.00010278312402078882\n",
      "Baseline Relative Error: 0.1478335191378669\n",
      "\n",
      "Quarter 4\n",
      "Actual EPS:   2.99\n",
      "DistNN EPS:   3.120115280151367\n",
      "Baseline EPS: 2.64274358974359\n",
      "DistNN Relative Error:   0.04351681098341942\n",
      "Baseline Relative Error: 0.11613926764428441\n",
      "\n"
     ]
    },
    {
     "name": "stderr",
     "output_type": "stream",
     "text": [
      "/var/folders/zc/6nw_r5b13ws3wfcpdxz6bzcw0000gn/T/ipykernel_14816/3029424349.py:10: DeprecationWarning: __array_wrap__ must accept context and return_scalar arguments (positionally) in the future. (Deprecated NumPy 2.0)\n",
      "  print(f'DistNN Relative Error:   {np.abs(mean - actual_eps) / actual_eps}')\n"
     ]
    }
   ],
   "source": [
    "with torch.no_grad():\n",
    "    for quarter in quarters:\n",
    "        barycenter_fn = linear_combination([quantile_funcs[oftic,year,quarter] for oftic in tickers_intersection], weights)\n",
    "        mean = expectation(barycenter_fn)\n",
    "        print(f'Quarter {quarter}')\n",
    "        print(f'Actual EPS:   {actual_eps}')\n",
    "        print(f'DistNN EPS:   {mean}')\n",
    "        baseline_eps = quarterly_data[ticker, year, quarter][\"value\"].mean()\n",
    "        print(f'Baseline EPS: {baseline_eps}')\n",
    "        print(f'DistNN Relative Error:   {np.abs(mean - actual_eps) / actual_eps}')\n",
    "        print(f'Baseline Relative Error: {np.abs(baseline_eps - actual_eps) / actual_eps}')\n",
    "        print()"
   ]
  },
  {
   "cell_type": "code",
   "execution_count": 594,
   "metadata": {},
   "outputs": [
    {
     "data": {
      "text/plain": [
       "<BarContainer object of 491 artists>"
      ]
     },
     "execution_count": 594,
     "metadata": {},
     "output_type": "execute_result"
    },
    {
     "data": {
      "image/png": "[encoded data removed]",
      "text/plain": [
       "<Figure size 1000x500 with 1 Axes>"
      ]
     },
     "metadata": {},
     "output_type": "display_data"
    }
   ],
   "source": [
    "plt.figure(figsize = (10,5))\n",
    "plt.bar(list(tickers_intersection), weights.detach().numpy())"
   ]
  },
  {
   "cell_type": "code",
   "execution_count": 597,
   "metadata": {},
   "outputs": [],
   "source": [
    "large_inds = np.where(np.abs(weights.detach().numpy()) > 0.01)[0]"
   ]
  },
  {
   "cell_type": "code",
   "execution_count": 598,
   "metadata": {},
   "outputs": [
    {
     "data": {
      "text/plain": [
       "array(['ALL', 'INTC', 'RCL', 'VTR', 'STX'], dtype='<U5')"
      ]
     },
     "execution_count": 598,
     "metadata": {},
     "output_type": "execute_result"
    }
   ],
   "source": [
    "np.array(list(tickers_intersection))[large_inds]"
   ]
  },
  {
   "cell_type": "markdown",
   "metadata": {},
   "source": [
    "We will now implement the differentiable Dist-NN algorithm."
   ]
  },
  {
   "cell_type": "code",
   "execution_count": 747,
   "metadata": {},
   "outputs": [],
   "source": [
    "year = 2023\n",
    "quarters = [1,2,3,4]\n",
    "ticker = 'AAPL'\n",
    "\n",
    "quantile_funcs = dict()\n",
    "quantile_means = dict()\n",
    "dist_dict = dict()\n",
    "tickers_used_list = []\n",
    "for quarter in quarters:\n",
    "    actual_eps, actual_date, actual_time = quarterly_actual[ticker, year, quarter]\n",
    "    actual_datetime = pd.to_datetime(actual_date + ' ' + actual_time, format = '%Y-%m-%d %H:%M:%S')\n",
    "    tickers_used = set()\n",
    "    data = quarterly_data[ticker, year, quarter]\n",
    "    mean = data['value'].mean()\n",
    "    quantile_func = empirical_quantile_function(torch.tensor(data['value'].sort_values().values).float())\n",
    "    for oftic,_ in ibes_tickers:\n",
    "        data = quarterly_data[oftic, year, quarter]\n",
    "        if data is None:\n",
    "            continue\n",
    "        data = data[data['ann_datetime'] < actual_datetime]\n",
    "        if len(data) == 0:\n",
    "            continue\n",
    "        mean = data['value'].mean()\n",
    "        quantile_means[oftic, year, quarter] = torch.tensor([mean])\n",
    "        quantile_funcs[oftic, year, quarter] = empirical_quantile_function(torch.tensor(data['value'].sort_values().values).float())\n",
    "        dist_dict[oftic, year, quarter] = squared_difference_integral(quantile_func, quantile_funcs[oftic, year, quarter])\n",
    "        tickers_used.add(oftic)\n",
    "    tickers_used_list.append(tickers_used)\n",
    "\n",
    "tickers_intersection = set.intersection(*tickers_used_list)\n",
    "\n",
    "delete_keys = []\n",
    "for key in quantile_funcs:\n",
    "    if key[0] not in tickers_intersection:\n",
    "        delete_keys.append(key)\n",
    "for key in delete_keys:\n",
    "    del quantile_funcs[key]\n",
    "    del dist_dict[key]\n",
    "    del quantile_means[key]"
   ]
  },
  {
   "cell_type": "code",
   "execution_count": 603,
   "metadata": {},
   "outputs": [
    {
     "name": "stderr",
     "output_type": "stream",
     "text": [
      "100%|██████████| 200/200 [00:08<00:00, 22.49it/s, loss=0.25]\n"
     ]
    }
   ],
   "source": [
    "distance_threshold = torch.tensor([1.0]).requires_grad_(True)\n",
    "\n",
    "# Optimize distance threshold\n",
    "optimizer = optim.Adam([distance_threshold], lr = 0.1)\n",
    "\n",
    "l1_hyper = 0\n",
    "# l2_hyper = 10.0\n",
    "with tqdm(range(200)) as tepoch:\n",
    "    for i in tepoch:\n",
    "        optimizer.zero_grad()\n",
    "        loss = torch.tensor(0.0)\n",
    "        for quarter in [1,2,3]: # leave out Q4\n",
    "            quantile_func_quarter = [quantile_funcs[oftic,year,quarter] for oftic in tickers_intersection]\n",
    "            dist_dict_quarter = [dist_dict[oftic,year,quarter] for oftic in tickers_intersection]\n",
    "            barycenter_fn = barycenter_threshold(quantile_func_quarter, distance_threshold, dist_dict_quarter)\n",
    "            mean = expectation(barycenter_fn)\n",
    "            l1_loss = l1_hyper * torch.norm(weights, p = 1)\n",
    "            # l2_loss = l2_hyper * (weights @ weights)\n",
    "            loss += ((mean - actual_eps) ** 2) + l1_loss\n",
    "        # loss = (torch.abs((mean - actual_eps)) / actual_eps)\n",
    "        # loss = (mean - actual_eps) ** 2\n",
    "        loss.backward()\n",
    "        optimizer.step()\n",
    "        \n",
    "        tepoch.set_postfix(loss=loss.item())"
   ]
  },
  {
   "cell_type": "code",
   "execution_count": 605,
   "metadata": {},
   "outputs": [
    {
     "name": "stdout",
     "output_type": "stream",
     "text": [
      "Quarter 1\n",
      "Actual EPS:   1.46\n",
      "DistNN EPS:   1.710982084274292\n",
      "Baseline EPS: 1.9916607142857143\n",
      "DistNN Relative Error:   0.1719055026769638\n",
      "Baseline Relative Error: 0.3641511741682975\n",
      "\n",
      "Quarter 2\n",
      "Actual EPS:   1.46\n",
      "DistNN EPS:   1.2676317691802979\n",
      "Baseline EPS: 1.430366666666667\n",
      "DistNN Relative Error:   0.13175909221172333\n",
      "Baseline Relative Error: 0.02029680365296778\n",
      "\n",
      "Quarter 3\n",
      "Actual EPS:   1.46\n",
      "DistNN EPS:   1.0724635124206543\n",
      "Baseline EPS: 1.1925142857142856\n",
      "DistNN Relative Error:   0.26543596386909485\n",
      "Baseline Relative Error: 0.18320939334637967\n",
      "\n",
      "Quarter 4\n",
      "Actual EPS:   1.46\n",
      "DistNN EPS:   1.2612287998199463\n",
      "Baseline EPS: 1.3881142857142859\n",
      "DistNN Relative Error:   0.13614468276500702\n",
      "Baseline Relative Error: 0.0492367906066535\n",
      "\n"
     ]
    },
    {
     "name": "stderr",
     "output_type": "stream",
     "text": [
      "/var/folders/zc/6nw_r5b13ws3wfcpdxz6bzcw0000gn/T/ipykernel_14816/1805892018.py:12: DeprecationWarning: __array_wrap__ must accept context and return_scalar arguments (positionally) in the future. (Deprecated NumPy 2.0)\n",
      "  print(f'DistNN Relative Error:   {np.abs(mean - actual_eps) / actual_eps}')\n"
     ]
    }
   ],
   "source": [
    "with torch.no_grad():\n",
    "    for quarter in quarters:\n",
    "        quantile_func_quarter = [quantile_funcs[oftic,year,quarter] for oftic in tickers_intersection]\n",
    "        dist_dict_quarter = [dist_dict[oftic,year,quarter] for oftic in tickers_intersection]\n",
    "        barycenter_fn = barycenter_threshold(quantile_func_quarter, distance_threshold, dist_dict_quarter)\n",
    "        mean = expectation(barycenter_fn)\n",
    "        print(f'Quarter {quarter}')\n",
    "        print(f'Actual EPS:   {actual_eps}')\n",
    "        print(f'DistNN EPS:   {mean}')\n",
    "        baseline_eps = quarterly_data[ticker, year, quarter][\"value\"].mean()\n",
    "        print(f'Baseline EPS: {baseline_eps}')\n",
    "        print(f'DistNN Relative Error:   {np.abs(mean - actual_eps) / actual_eps}')\n",
    "        print(f'Baseline Relative Error: {np.abs(baseline_eps - actual_eps) / actual_eps}')\n",
    "        print()"
   ]
  },
  {
   "cell_type": "markdown",
   "metadata": {},
   "source": [
    "As expected, the thresholding operation is not differentiable. We will have to go with the Sigmoid approximation for the thresholding operation."
   ]
  },
  {
   "cell_type": "code",
   "execution_count": 756,
   "metadata": {},
   "outputs": [
    {
     "name": "stderr",
     "output_type": "stream",
     "text": [
      "100%|██████████| 400/400 [00:21<00:00, 18.18it/s, eta=0.235, loss=0.00955]\n"
     ]
    }
   ],
   "source": [
    "distance_threshold = torch.tensor([1.0]).requires_grad_(True)\n",
    "actual_eps, _, _ = quarterly_actual[ticker, year, quarter]\n",
    "actual_eps = torch.tensor([actual_eps])\n",
    "\n",
    "# Optimize distance threshold\n",
    "optimizer = optim.Adam([distance_threshold], lr = 1.0)\n",
    "\n",
    "with tqdm(range(400)) as tepoch:\n",
    "    for i in tepoch:\n",
    "        optimizer.zero_grad()\n",
    "        loss = torch.tensor(0.0).reshape(1)\n",
    "        for quarter in [2,3]: # leave out Q4\n",
    "            # Average distances\n",
    "            avg_dists = dict()\n",
    "            for oftic in tickers_intersection:\n",
    "                for j in range(1,quarter + 1):\n",
    "                    if oftic not in avg_dists:\n",
    "                        avg_dists[oftic] = 0\n",
    "                    avg_dists[oftic] += dist_dict[oftic,year,j]\n",
    "                avg_dists[oftic] /= quarter - 1\n",
    "            # Compute the barycenter\n",
    "            quantile_func_quarter = [quantile_funcs[oftic,year,quarter] for oftic in tickers_intersection]\n",
    "            dist_dict_quarter = torch.cat([avg_dists[oftic].reshape(1) for oftic in tickers_intersection])\n",
    "            barycenter_fn = barycenter_threshold_soft(quantile_func_quarter, \n",
    "                                                    distance_threshold, \n",
    "                                                    dist_dict_quarter,\n",
    "                                                    sharpness = 2)\n",
    "            mean = expectation(barycenter_fn) # + quantile_means[ticker, year, quarter]\n",
    "            loss += (mean - actual_eps) ** 2\n",
    "        # loss = (torch.abs((mean - actual_eps)) / actual_eps)\n",
    "        # loss = (mean - actual_eps) ** 2\n",
    "        loss.backward()\n",
    "        optimizer.step()\n",
    "        \n",
    "        with torch.no_grad():\n",
    "            distance_threshold.clamp_(min = 0.0)\n",
    "        \n",
    "        tepoch.set_postfix(loss=loss.item(), eta = distance_threshold.item())"
   ]
  },
  {
   "cell_type": "code",
   "execution_count": 757,
   "metadata": {},
   "outputs": [
    {
     "name": "stdout",
     "output_type": "stream",
     "text": [
      "Eta: 0.2345086634159088\n",
      "36\n",
      "Quarter 2\n",
      "Actual EPS:   1.46\n",
      "DistNN EPS:   1.5803914070129395\n",
      "Baseline EPS: 1.430366666666667\n",
      "DistNN Relative Error:   0.08245986781708184\n",
      "Baseline Relative Error: 0.02029680365296778\n",
      "\n",
      "30\n",
      "Quarter 3\n",
      "Actual EPS:   1.46\n",
      "DistNN EPS:   1.4581787586212158\n",
      "Baseline EPS: 1.1925142857142856\n",
      "DistNN Relative Error:   0.001247425601906948\n",
      "Baseline Relative Error: 0.18320939334637967\n",
      "\n",
      "46\n",
      "Quarter 4\n",
      "Actual EPS:   1.46\n",
      "DistNN EPS:   1.478105902671814\n",
      "Baseline EPS: 1.3881142857142859\n",
      "DistNN Relative Error:   0.012401303199872604\n",
      "Baseline Relative Error: 0.0492367906066535\n",
      "\n"
     ]
    },
    {
     "name": "stderr",
     "output_type": "stream",
     "text": [
      "/var/folders/zc/6nw_r5b13ws3wfcpdxz6bzcw0000gn/T/ipykernel_14816/3378692418.py:24: DeprecationWarning: __array_wrap__ must accept context and return_scalar arguments (positionally) in the future. (Deprecated NumPy 2.0)\n",
      "  print(f'DistNN Relative Error:   {(np.abs(mean - actual_eps) / actual_eps).item()}')\n",
      "/var/folders/zc/6nw_r5b13ws3wfcpdxz6bzcw0000gn/T/ipykernel_14816/3378692418.py:25: DeprecationWarning: __array_wrap__ must accept context and return_scalar arguments (positionally) in the future. (Deprecated NumPy 2.0)\n",
      "  print(f'Baseline Relative Error: {(np.abs(baseline_eps - actual_eps) / actual_eps).item()}')\n"
     ]
    }
   ],
   "source": [
    "with torch.no_grad():\n",
    "    print(f'Eta: {distance_threshold.item()}')\n",
    "    for quarter in [2,3,4]:\n",
    "        quantile_func_quarter = [quantile_funcs[oftic,year,quarter] for oftic in tickers_intersection]\n",
    "        # Average distances\n",
    "        avg_dists = dict()\n",
    "        for oftic in tickers_intersection:\n",
    "            for j in range(1,quarter + 1):\n",
    "                if oftic not in avg_dists:\n",
    "                    avg_dists[oftic] = 0\n",
    "                avg_dists[oftic] += dist_dict[oftic,year,j]\n",
    "            avg_dists[oftic] /= quarter - 1\n",
    "        # Compute the barycenter\n",
    "        quantile_func_quarter = [quantile_funcs[oftic,year,quarter] for oftic in tickers_intersection]\n",
    "        dist_dict_quarter = torch.cat([avg_dists[oftic].reshape(1) for oftic in tickers_intersection])\n",
    "        \n",
    "        barycenter_fn = barycenter_threshold(quantile_func_quarter, distance_threshold, dist_dict_quarter) # Use hard threshold\n",
    "        mean = expectation(barycenter_fn) # + torch.tensor(quantile_means[ticker, year, quarter])\n",
    "        print(f'Quarter {quarter}')\n",
    "        print(f'Actual EPS:   {actual_eps.item()}')\n",
    "        print(f'DistNN EPS:   {mean.item()}')\n",
    "        baseline_eps = quarterly_data[ticker, year, quarter][\"value\"].mean()\n",
    "        print(f'Baseline EPS: {baseline_eps.item()}')\n",
    "        print(f'DistNN Relative Error:   {(np.abs(mean - actual_eps) / actual_eps).item()}')\n",
    "        print(f'Baseline Relative Error: {(np.abs(baseline_eps - actual_eps) / actual_eps).item()}')\n",
    "        print()"
   ]
  }
 ],
 "metadata": {
  "kernelspec": {
   "display_name": "llmsim",
   "language": "python",
   "name": "python3"
  },
  "language_info": {
   "codemirror_mode": {
    "name": "ipython",
    "version": 3
   },
   "file_extension": ".py",
   "mimetype": "text/x-python",
   "name": "python",
   "nbconvert_exporter": "python",
   "pygments_lexer": "ipython3",
   "version": "3.11.10"
  }
 },
 "nbformat": 4,
 "nbformat_minor": 2
}
