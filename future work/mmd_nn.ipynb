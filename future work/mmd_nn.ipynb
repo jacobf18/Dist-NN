{
 "cells": [
  {
   "cell_type": "code",
   "execution_count": 1,
   "id": "cfd5b6d7-48d1-4d83-b5a2-8932b70d443d",
   "metadata": {
    "tags": []
   },
   "outputs": [],
   "source": [
    "from itertools import product\n",
    "import numpy as np\n",
    "import matplotlib.pyplot as plt\n",
    "from tqdm import tqdm\n",
    "import scipy\n",
    "\n",
    "import warnings\n",
    "warnings.filterwarnings(\"ignore\")"
   ]
  },
  {
   "cell_type": "code",
   "execution_count": 126,
   "id": "7ea532ee-1888-4a9d-bc03-6fb2547cf2c6",
   "metadata": {},
   "outputs": [
    {
     "ename": "ValueError",
     "evalue": "matmul: Input operand 1 has a mismatch in its core dimension 0, with gufunc signature (n?,k),(k,m?)->(n?,m?) (size 3 is different from 1)",
     "output_type": "error",
     "traceback": [
      "\u001b[0;31m---------------------------------------------------------------------------\u001b[0m",
      "\u001b[0;31mValueError\u001b[0m                                Traceback (most recent call last)",
      "Cell \u001b[0;32mIn[126], line 4\u001b[0m\n\u001b[1;32m      1\u001b[0m x \u001b[38;5;241m=\u001b[39m np\u001b[38;5;241m.\u001b[39mones((\u001b[38;5;241m5\u001b[39m,\u001b[38;5;241m3\u001b[39m))\n\u001b[1;32m      2\u001b[0m y \u001b[38;5;241m=\u001b[39m np\u001b[38;5;241m.\u001b[39mones((\u001b[38;5;241m5\u001b[39m,\u001b[38;5;241m3\u001b[39m)) \u001b[38;5;241m*\u001b[39m \u001b[38;5;241m2\u001b[39m\n\u001b[0;32m----> 4\u001b[0m x[:,:,\u001b[38;5;28;01mNone\u001b[39;00m] \u001b[38;5;241m@\u001b[39m x[:,:,\u001b[38;5;28;01mNone\u001b[39;00m]\u001b[38;5;241m.\u001b[39mT\n",
      "\u001b[0;31mValueError\u001b[0m: matmul: Input operand 1 has a mismatch in its core dimension 0, with gufunc signature (n?,k),(k,m?)->(n?,m?) (size 3 is different from 1)"
     ]
    }
   ],
   "source": [
    "x = np.ones((5,3))\n",
    "y = np.ones((5,3)) * 2\n",
    "\n",
    "x[:,:,None] @ x[:,:,None].T"
   ]
  },
  {
   "cell_type": "code",
   "execution_count": 137,
   "id": "04752f45-5faf-4b2a-8e89-a3b55ded1635",
   "metadata": {},
   "outputs": [
    {
     "data": {
      "text/plain": [
       "array([[1., 1., 1., 1., 1.],\n",
       "       [1., 1., 1., 1., 1.],\n",
       "       [1., 1., 1., 1., 1.],\n",
       "       [1., 1., 1., 1., 1.],\n",
       "       [1., 1., 1., 1., 1.]])"
      ]
     },
     "execution_count": 137,
     "metadata": {},
     "output_type": "execute_result"
    }
   ],
   "source": [
    "x = np.ones(5)\n",
    "y = np.ones(5) * 2\n",
    "\n",
    "x[:,None] @ x[:,None].T"
   ]
  },
  {
   "cell_type": "code",
   "execution_count": 2,
   "id": "18a460cb-6e3a-4821-bcad-ed70fbd11caa",
   "metadata": {
    "tags": []
   },
   "outputs": [],
   "source": [
    "def MMD(x: np.ndarray, y: np.ndarray, kernel: str):\n",
    "    \"\"\"Emprical maximum mean discrepancy. The lower the result\n",
    "       the more evidence that distributions are the same.\n",
    "\n",
    "       Both samples are d-dimensional\n",
    "\n",
    "    Args:\n",
    "        x: first samples, distribution P\n",
    "        y: second samples, distribution Q\n",
    "        kernel: kernel type such as \"multiscale\" or \"rbf\"\n",
    "    \"\"\"\n",
    "    xx, yy, zz = x[:,:,None] @ x[:,:,None].T, y[:,:,None] @ y[:,:,None].T, x[:,:,None] @ y[:,:,None].T\n",
    "    rx = np.broadcast_to(np.expand_dims(np.diag(xx), 0), xx.shape)\n",
    "    ry = np.broadcast_to(np.expand_dims(np.diag(yy), 0), yy.shape)\n",
    "\n",
    "    dxx = rx.T + rx - 2. * xx\n",
    "    dyy = ry.T + ry - 2. * yy\n",
    "    dxy = rx.T + ry - 2. * zz\n",
    "    \n",
    "    XX = np.zeros(xx.shape)\n",
    "    YY = np.zeros(yy.shape)\n",
    "    XY = np.zeros(xx.shape)\n",
    "\n",
    "    if kernel == \"multiscale\":\n",
    "        bandwidth_range = [0.2, 0.5, 0.9, 1.3]\n",
    "        for a in bandwidth_range:\n",
    "            XX += a**2 * (a**2 + dxx)**-1\n",
    "            YY += a**2 * (a**2 + dyy)**-1\n",
    "            XY += a**2 * (a**2 + dxy)**-1\n",
    "\n",
    "    if kernel == \"rbf\":\n",
    "        bandwidth_range = [10, 15, 20, 50]\n",
    "        for a in bandwidth_range:\n",
    "            XX += np.exp(-0.5*dxx/a)\n",
    "            YY += np.exp(-0.5*dyy/a)\n",
    "            XY += np.exp(-0.5*dxy/a)\n",
    "\n",
    "    return np.mean(XX + YY - 2. * XY)"
   ]
  },
  {
   "cell_type": "code",
   "execution_count": 77,
   "id": "82a06706-9136-4b3b-bb9d-df4de94a2e2e",
   "metadata": {
    "tags": []
   },
   "outputs": [
    {
     "data": {
      "text/plain": [
       "6.072698104628811"
      ]
     },
     "execution_count": 77,
     "metadata": {},
     "output_type": "execute_result"
    }
   ],
   "source": [
    "MMD(np.array([1,2,3]), np.array([1000,1000,10000]), 'rbf')"
   ]
  },
  {
   "cell_type": "code",
   "execution_count": 78,
   "id": "88d62c64-fcac-494c-9fc8-c3123b35de24",
   "metadata": {
    "tags": []
   },
   "outputs": [],
   "source": [
    "def normal_ppf(mean, std):\n",
    "    return lambda q, mean = mean, std = std : norm.ppf(q, loc = mean, scale = std)\n",
    "\n",
    "def get_user_user_distances_row(data_table, mask, row):\n",
    "    rows, cols, samples = data_table.shape\n",
    "    dists = np.zeros(rows)\n",
    "    for i in range(rows):\n",
    "        if i == row:\n",
    "            dists[i] = np.inf\n",
    "            continue\n",
    "        dist = 0\n",
    "        count = 0\n",
    "        for j in range(cols):\n",
    "            if mask[row,j] == 1 and mask[i,j] == 1:\n",
    "                dist += MMD(data_table[row,j,:], data_table[i,j,:], 'rbf')\n",
    "                count += 1\n",
    "        dists[i] = dist / count\n",
    "    return dists\n",
    "\n",
    "def estimate_row(data_table, mask, col, row_dists, eta):\n",
    "    \"\"\"\n",
    "    Vectorized version of nearest neighbors.\n",
    "    Assumes data_table is a 3D numpy array.\n",
    "    Assumes mask is a 2D numpy array.\n",
    "    \n",
    "    Assumes data is already sorted.\n",
    "    \"\"\"\n",
    "    NN = row_dists < eta # threshold to get nearest neighbors\n",
    "    \n",
    "    if np.sum(NN) > 0:\n",
    "        masked = (NN * mask[:,col]) == 1 # need the ==1 to convert back to booleans\n",
    "        return np.concatenate(data_table[masked,col,:])\n",
    "    else:\n",
    "        return [0]\n",
    "\n",
    "def generate_table(num_rows, num_cols, num_samples):\n",
    "    # Table of n x m Gaussians with columns having same variance and rows having same means\n",
    "    true_dists = {}\n",
    "    mean_rows = np.random.uniform(-5,5,num_rows)\n",
    "    std_cols = np.random.uniform(1,5,num_rows)\n",
    "    data_table = np.zeros((num_rows, num_cols, num_samples))\n",
    "\n",
    "    for i, j in product(range(num_rows), range(num_cols)):\n",
    "        data_table[i,j,:] = np.sort(np.random.normal(mean_rows[i], std_cols[j], num_samples))\n",
    "        true_dists[i,j] = normal_ppf(mean_rows[i], std_cols[j])\n",
    "    \n",
    "    return data_table, true_dists, mean_rows, std_cols\n",
    "\n",
    "def empirical_mmd():\n",
    "    pass\n",
    "\n",
    "def simulate_nn_location_scale(num_rows: int, num_cols: int, num_samples: int, n_runs: int):\n",
    "    np.random.seed(0)\n",
    "    error_est = []\n",
    "    error_observed = []\n",
    "\n",
    "    for _ in tqdm(range(n_runs)):\n",
    "        data_table, true_dists, mean_rows, std_cols = generate_table(num_rows, num_cols, num_samples)\n",
    "\n",
    "        # Generate mask\n",
    "        mask = np.ones((num_rows,num_cols)).astype(int)\n",
    "        mask[0,0] = 0\n",
    "        \n",
    "        # eta = search_eta(data_table, mask, 3)\n",
    "        eta = 1.0\n",
    "\n",
    "        # Get user distances for just one row\n",
    "        d = get_user_user_distances_row(data_table, mask, 0)\n",
    "        est_dist = estimate_row(data_table, mask, 0, d, 0.1)\n",
    "        \n",
    "        # error_est.append(empirical_quantile(est_dist), true_dists[0,0])\n",
    "        # error_observed.append(wasserstein2(empirical_quantile(data_table[0,0]), true_dists[0,0]))\n",
    "\n",
    "    return error_est, error_observed"
   ]
  },
  {
   "cell_type": "code",
   "execution_count": 114,
   "id": "4ecf8df0-0dd9-4ba8-af7c-3522f5b57c45",
   "metadata": {},
   "outputs": [
    {
     "data": {
      "text/plain": [
       "<matplotlib.lines.Line2D at 0x31a2dd0d0>"
      ]
     },
     "execution_count": 114,
     "metadata": {},
     "output_type": "execute_result"
    },
    {
     "data": {
      "image/png": "[encoded data removed]",
      "text/plain": [
       "<Figure size 640x480 with 1 Axes>"
      ]
     },
     "metadata": {},
     "output_type": "display_data"
    }
   ],
   "source": [
    "data1 = np.random.normal(-5,1,30)\n",
    "data2 = np.random.normal(5,1,30)\n",
    "\n",
    "plt.ecdf(data1)\n",
    "plt.ecdf(data2)\n",
    "plt.ecdf(np.concatenate([data1, data2]))"
   ]
  },
  {
   "cell_type": "code",
   "execution_count": 119,
   "id": "f0eb45bb-24c6-4e15-917e-8ab727f1d280",
   "metadata": {},
   "outputs": [
    {
     "data": {
      "text/plain": [
       "<matplotlib.legend.Legend at 0x31a0607d0>"
      ]
     },
     "execution_count": 119,
     "metadata": {},
     "output_type": "execute_result"
    },
    {
     "data": {
      "image/png": "[encoded data removed]",
      "text/plain": [
       "<Figure size 640x480 with 1 Axes>"
      ]
     },
     "metadata": {},
     "output_type": "display_data"
    }
   ],
   "source": [
    "M = 100\n",
    "N = 20\n",
    "n = 30\n",
    "data_table, true_dists, mean_rows, std_cols = generate_table(M,N,n)\n",
    "mask = np.ones((M,N)).astype(int)\n",
    "mask[0,0] = 0\n",
    "d = get_user_user_distances_row(data_table, mask, 0)\n",
    "\n",
    "est_dist = estimate_row(data_table, mask, 0, d, 100)\n",
    "\n",
    "est_dist = np.sort(est_dist)\n",
    "\n",
    "plt.ecdf(est_dist, linewidth=3)\n",
    "x_min = np.min(est_dist)\n",
    "x_max = np.max(est_dist)\n",
    "x = np.linspace(x_min, x_max, num = 1000)\n",
    "y = scipy.stats.norm.cdf(x, mean_rows[0], std_cols[0])\n",
    "sample = np.random.normal(mean_rows[0], std_cols[0], n)\n",
    "plt.ecdf(sample)\n",
    "plt.plot(x,y, '-', c='k')\n",
    "\n",
    "plt.legend([\"Synthetic Sample\", \"Random Sample\", \"True Distribution\"])"
   ]
  }
 ],
 "metadata": {
  "kernelspec": {
   "display_name": "Python 3 (ipykernel)",
   "language": "python",
   "name": "python3"
  },
  "language_info": {
   "codemirror_mode": {
    "name": "ipython",
    "version": 3
   },
   "file_extension": ".py",
   "mimetype": "text/x-python",
   "name": "python",
   "nbconvert_exporter": "python",
   "pygments_lexer": "ipython3",
   "version": "3.11.5"
  }
 },
 "nbformat": 4,
 "nbformat_minor": 5
}
