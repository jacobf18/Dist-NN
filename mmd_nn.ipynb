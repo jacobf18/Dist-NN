{
 "cells": [
  {
   "cell_type": "code",
   "execution_count": 1,
   "id": "cfd5b6d7-48d1-4d83-b5a2-8932b70d443d",
   "metadata": {
    "tags": []
   },
   "outputs": [],
   "source": [
    "from itertools import product\n",
    "import numpy as np\n",
    "import matplotlib.pyplot as plt\n",
    "from tqdm import tqdm\n",
    "import scipy\n",
    "\n",
    "import warnings\n",
    "warnings.filterwarnings(\"ignore\")"
   ]
  },
  {
   "cell_type": "code",
   "execution_count": 2,
   "id": "6e1a969c-164d-4a39-aff5-919c4c4c4f0d",
   "metadata": {
    "tags": []
   },
   "outputs": [],
   "source": [
    "a = np.array([1,2,3])"
   ]
  },
  {
   "cell_type": "code",
   "execution_count": 3,
   "id": "627974d0-b82d-47b5-8c49-994307d0bab5",
   "metadata": {
    "tags": []
   },
   "outputs": [
    {
     "data": {
      "text/plain": [
       "array([[1, 4, 9],\n",
       "       [1, 4, 9],\n",
       "       [1, 4, 9]])"
      ]
     },
     "execution_count": 3,
     "metadata": {},
     "output_type": "execute_result"
    }
   ],
   "source": [
    "aa = a[:,None] @ a[:,None].T\n",
    "np.broadcast_to(np.expand_dims(np.diag(aa), 0), aa.shape)"
   ]
  },
  {
   "cell_type": "code",
   "execution_count": 4,
   "id": "18a460cb-6e3a-4821-bcad-ed70fbd11caa",
   "metadata": {
    "tags": []
   },
   "outputs": [],
   "source": [
    "def MMD(x: np.ndarray, y: np.ndarray, kernel: str):\n",
    "    \"\"\"Emprical maximum mean discrepancy. The lower the result\n",
    "       the more evidence that distributions are the same.\n",
    "\n",
    "    Args:\n",
    "        x: first sample, distribution P\n",
    "        y: second sample, distribution Q\n",
    "        kernel: kernel type such as \"multiscale\" or \"rbf\"\n",
    "    \"\"\"\n",
    "    xx, yy, zz = x[:,None] @ x[:,None].T, y[:,None] @ y[:,None].T, x[:,None] @ y[:,None].T\n",
    "    rx = np.broadcast_to(np.expand_dims(np.diag(xx), 0), xx.shape)\n",
    "    ry = np.broadcast_to(np.expand_dims(np.diag(yy), 0), yy.shape)\n",
    "\n",
    "    dxx = rx.T + rx - 2. * xx\n",
    "    dyy = ry.T + ry - 2. * yy\n",
    "    dxy = rx.T + ry - 2. * zz\n",
    "    \n",
    "    XX = np.zeros(xx.shape)\n",
    "    YY = np.zeros(xx.shape)\n",
    "    XY = np.zeros(xx.shape)\n",
    "\n",
    "    if kernel == \"multiscale\":\n",
    "        bandwidth_range = [0.2, 0.5, 0.9, 1.3]\n",
    "        for a in bandwidth_range:\n",
    "            XX += a**2 * (a**2 + dxx)**-1\n",
    "            YY += a**2 * (a**2 + dyy)**-1\n",
    "            XY += a**2 * (a**2 + dxy)**-1\n",
    "\n",
    "    if kernel == \"rbf\":\n",
    "        bandwidth_range = [10, 15, 20, 50]\n",
    "        for a in bandwidth_range:\n",
    "            XX += np.exp(-0.5*dxx/a)\n",
    "            YY += np.exp(-0.5*dyy/a)\n",
    "            XY += np.exp(-0.5*dxy/a)\n",
    "\n",
    "    return np.mean(XX + YY - 2. * XY)"
   ]
  },
  {
   "cell_type": "code",
   "execution_count": 5,
   "id": "82a06706-9136-4b3b-bb9d-df4de94a2e2e",
   "metadata": {
    "tags": []
   },
   "outputs": [
    {
     "data": {
      "text/plain": [
       "6.072698104628811"
      ]
     },
     "execution_count": 5,
     "metadata": {},
     "output_type": "execute_result"
    }
   ],
   "source": [
    "MMD(np.array([1,2,3]), np.array([1000,1000,10000]), 'rbf')"
   ]
  },
  {
   "cell_type": "code",
   "execution_count": 1,
   "id": "88d62c64-fcac-494c-9fc8-c3123b35de24",
   "metadata": {
    "tags": []
   },
   "outputs": [],
   "source": [
    "def simulate_nn_location_scale(M: int, N: int, n: int, n_runs: int):\n",
    "    np.random.seed(0)\n",
    "    error_est = []\n",
    "    error_observed = []\n",
    "\n",
    "    for _ in tqdm(range(n_runs)):\n",
    "        true_dists = {}\n",
    "\n",
    "        # Table of n x m Gaussians with columns having same variance and rows having same means\n",
    "        mean_rows = np.random.uniform(-5,5,M)\n",
    "        std_cols = np.random.uniform(1,5,N)\n",
    "        \n",
    "        data_table = np.zeros((M, N, n))\n",
    "\n",
    "        for i, j in product(range(M), range(N)):\n",
    "            data_table[i,j,:] = np.sort(np.random.normal(mean_rows[i], std_cols[j], n))\n",
    "            true_dists[i,j] = normal_ppf(mean_rows[i], std_cols[j])\n",
    "\n",
    "        mask = np.ones((M,N)).astype(int)\n",
    "        mask[0,0] = 0\n",
    "        \n",
    "        eta = search_eta(data_table, mask, 3)\n",
    "        \n",
    "        est_data_table = {}\n",
    "\n",
    "        d = get_user_user_distances_fast(data_table, mask)\n",
    "        est_data_table[0,0] = estimate_fast(data_table, mask, 0,0, d, eta)\n",
    "        \n",
    "        error_est.append(wasserstein2(empirical_quantile(est_data_table[0,0]), true_dists[0,0]))\n",
    "        error_observed.append(wasserstein2(empirical_quantile(data_table[0,0]), true_dists[0,0]))\n",
    "\n",
    "    return error_est, error_observed"
   ]
  },
  {
   "cell_type": "code",
   "execution_count": null,
   "id": "93af210d-2148-4e26-97e5-92ac0b4b17aa",
   "metadata": {},
   "outputs": [],
   "source": []
  }
 ],
 "metadata": {
  "kernelspec": {
   "display_name": "Python 3 (ipykernel)",
   "language": "python",
   "name": "python3"
  },
  "language_info": {
   "codemirror_mode": {
    "name": "ipython",
    "version": 3
   },
   "file_extension": ".py",
   "mimetype": "text/x-python",
   "name": "python",
   "nbconvert_exporter": "python",
   "pygments_lexer": "ipython3",
   "version": "3.11.5"
  }
 },
 "nbformat": 4,
 "nbformat_minor": 5
}
