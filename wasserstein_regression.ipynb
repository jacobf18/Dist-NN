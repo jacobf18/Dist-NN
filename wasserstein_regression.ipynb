{
 "cells": [
  {
   "cell_type": "markdown",
   "metadata": {},
   "source": [
    "Here, we implement Wasserstein regression using PyTorch. We use PyTorch so that we can utilize the AutoGrad framework to calculate gradients since I do not know a closed-form solution for Wasserstein regression similar to scalar linear regression.\n",
    "\n",
    "If this does not work since some of the operations do not let the gradients pass through such as `torch.unique` or `torch.searchsorted`, we will use SPSA to estimate the gradients."
   ]
  },
  {
   "cell_type": "code",
   "execution_count": 73,
   "metadata": {},
   "outputs": [],
   "source": [
    "import torch # will use for AutoGrad\n",
    "import numpy as np\n",
    "import pandas as pd\n",
    "import matplotlib.pyplot as plt"
   ]
  },
  {
   "cell_type": "code",
   "execution_count": 74,
   "metadata": {},
   "outputs": [
    {
     "data": {
      "text/plain": [
       "tensor([1., 1., 2.], grad_fn=<MvBackward0>)"
      ]
     },
     "execution_count": 74,
     "metadata": {},
     "output_type": "execute_result"
    }
   ],
   "source": [
    "def empirical_quantile_function(samples):\n",
    "    \"\"\"\n",
    "    Returns a function that computes the empirical quantile function for the given 1D samples.\n",
    "\n",
    "    Args:\n",
    "        samples (torch.Tensor): A 1D tensor of samples from a distribution. Assumes is sorted.\n",
    "\n",
    "    Returns:\n",
    "        function: A function that takes a tensor of quantiles (q) and returns the corresponding quantile values.\n",
    "    \"\"\"\n",
    "    samples_diff = torch.cat([samples[0].reshape(1), torch.diff(samples)])\n",
    "    def quantile_function(q):\n",
    "        \"\"\"\n",
    "        Computes the empirical quantile for the given quantiles.\n",
    "\n",
    "        Args:\n",
    "            q (torch.Tensor): A tensor of quantiles (values between 0 and 1).\n",
    "\n",
    "        Returns:\n",
    "            torch.Tensor: The corresponding quantile values.\n",
    "        \"\"\"\n",
    "        # Compute the empirical CDF values\n",
    "        n = len(samples)\n",
    "        cdf = torch.arange(1, n + 1, dtype=torch.float32) / n\n",
    "        # Use broadcasting to calculate the Heaviside contributions\n",
    "        heaviside_matrix = torch.heaviside(q.unsqueeze(1) - cdf.unsqueeze(0), torch.tensor(0.0))\n",
    "        # Add a column of ones to the left of the Heaviside matrix\n",
    "        first_col = torch.ones(heaviside_matrix.shape[0]).reshape(-1, 1)\n",
    "        heaviside_matrix = torch.cat([first_col, heaviside_matrix], dim=1)\n",
    "        # Remove the last column of Heaviside_matrix\n",
    "        heaviside_matrix = heaviside_matrix[:, :-1]\n",
    "        # Compute quantile values by summing contributions\n",
    "        quantile_values = (heaviside_matrix @ samples_diff)\n",
    "\n",
    "        return quantile_values\n",
    "    return quantile_function\n",
    "\n",
    "# Example usage\n",
    "samples = torch.tensor([1.0, 2.0]).requires_grad_(True)\n",
    "quantile_fn = empirical_quantile_function(samples)\n",
    "quantiles = torch.tensor([0.1, 0.5, 1.0])\n",
    "result = quantile_fn(quantiles)\n",
    "result"
   ]
  },
  {
   "cell_type": "code",
   "execution_count": 75,
   "metadata": {},
   "outputs": [
    {
     "data": {
      "text/plain": [
       "<matplotlib.legend.Legend at 0x16adb7850>"
      ]
     },
     "execution_count": 75,
     "metadata": {},
     "output_type": "execute_result"
    },
    {
     "data": {
      "image/png": "[encoded data removed]",
      "text/plain": [
       "<Figure size 640x480 with 1 Axes>"
      ]
     },
     "metadata": {},
     "output_type": "display_data"
    }
   ],
   "source": [
    "samples = torch.tensor([1.0, 2.0, 5.0])\n",
    "q_func = empirical_quantile_function(samples)\n",
    "x = torch.linspace(0,1,1000)\n",
    "\n",
    "# quantiles_torch = torch.quantile(samples, x, interpolation='midpoint')\n",
    "quantiles_npy = np.quantile(samples.numpy(), x.numpy(), interpolation='inverted_cdf')\n",
    "y = q_func(x)\n",
    "\n",
    "plt.figure()\n",
    "x_npy = x.numpy()\n",
    "plt.plot(x_npy, y.detach().numpy())\n",
    "# plt.plot(x_npy, quantiles_torch.detach().numpy())\n",
    "plt.plot(x_npy, quantiles_npy, linestyle='--')\n",
    "plt.legend(['Empirical Quantile Function', 'Numpy Quantile'])"
   ]
  },
  {
   "cell_type": "code",
   "execution_count": 76,
   "metadata": {},
   "outputs": [
    {
     "data": {
      "text/plain": [
       "tensor(2.)"
      ]
     },
     "execution_count": 76,
     "metadata": {},
     "output_type": "execute_result"
    }
   ],
   "source": [
    "def step_function(x_points, y_points, x):\n",
    "    # Find the interval that x falls into\n",
    "    idx = torch.searchsorted(x_points, x, right = True) - 1\n",
    "    # If x is before the first point, return the first y\n",
    "    if idx < 0:\n",
    "        return y_points[0]\n",
    "    # If x is beyond the last point, return the last y\n",
    "    elif idx >= len(y_points):\n",
    "        return y_points[-1]\n",
    "    # Otherwise, return the y corresponding to the interval\n",
    "    return y_points[idx]\n",
    "\n",
    "val = step_function(x,y, 0.5)\n",
    "val"
   ]
  },
  {
   "cell_type": "code",
   "execution_count": 77,
   "metadata": {},
   "outputs": [
    {
     "data": {
      "text/plain": [
       "tensor(1., grad_fn=<DivBackward0>)"
      ]
     },
     "execution_count": 77,
     "metadata": {},
     "output_type": "execute_result"
    }
   ],
   "source": [
    "def squared_difference_integral(quantile_func1, quantile_func2, N = 1000):\n",
    "    quantiles = torch.linspace(0,1,N)\n",
    "    return torch.sum((quantile_func1(quantiles) - quantile_func2(quantiles)) ** 2) / N\n",
    "\n",
    "# Example usage\n",
    "samples1 = torch.tensor([1.0, 2.0]).requires_grad_(True)\n",
    "samples2 = torch.tensor([2.0, 3.0]).requires_grad_(True)\n",
    "\n",
    "q1 = empirical_quantile_function(samples1)\n",
    "q2 = empirical_quantile_function(samples2)\n",
    "\n",
    "W2 = squared_difference_integral(q1, q2)\n",
    "W2"
   ]
  },
  {
   "cell_type": "code",
   "execution_count": 78,
   "metadata": {},
   "outputs": [
    {
     "name": "stdout",
     "output_type": "stream",
     "text": [
      "tensor([2., 2., 3.], grad_fn=<SumBackward1>)\n",
      "2\n",
      "tensor([1.5000, 1.5000, 2.5000], grad_fn=<SumBackward1>)\n",
      "tensor([1.5000, 1.5000, 2.5000], grad_fn=<SumBackward1>)\n"
     ]
    }
   ],
   "source": [
    "def linear_combination(quantile_fns, weights):\n",
    "    def lin_comb_fn(q):\n",
    "        # Compute the quantile values for each function\n",
    "        quantile_values = torch.stack([fn(q) for fn in quantile_fns])\n",
    "        # Compute the weighted sum of quantile values\n",
    "        lin_comb_values = torch.sum(weights.unsqueeze(1) * quantile_values, dim=0)\n",
    "        return lin_comb_values\n",
    "    return lin_comb_fn\n",
    "\n",
    "def barycenter_threshold(quantile_fns, threshold, distances):\n",
    "    if len(quantile_fns) != len(distances):\n",
    "        raise ValueError(\"The number of quantile functions must match the number of distances.\")\n",
    "    quantile_fns = [fn for (fn,dist) in zip(quantile_fns, distances) if dist <= threshold]\n",
    "    print(len(quantile_fns))\n",
    "    if len(quantile_fns) == 0:\n",
    "        raise ValueError(\"All distances are greater than the threshold.\")\n",
    "    weights = torch.tensor([1/len(quantile_fns)] * len(quantile_fns))\n",
    "    return linear_combination(quantile_fns, weights)\n",
    "\n",
    "def barycenter_threshold_soft(quantile_fns, threshold, distances, sharpness=100):\n",
    "    if len(quantile_fns) != len(distances):\n",
    "        raise ValueError(\"The number of quantile functions must match the number of distances.\")\n",
    "    x = torch.sigmoid((threshold - distances) * sharpness)\n",
    "    weights = x / torch.sum(x)\n",
    "    return linear_combination(quantile_fns, weights)\n",
    "\n",
    "# Example usage\n",
    "samples1 = torch.tensor([1.0, 2.0]).requires_grad_(True)\n",
    "samples2 = torch.tensor([2.0, 3.0]).requires_grad_(True)\n",
    "samples3 = torch.tensor([3.0, 4.0]).requires_grad_(True)\n",
    "\n",
    "q1 = empirical_quantile_function(samples1)\n",
    "q2 = empirical_quantile_function(samples2)\n",
    "q3 = empirical_quantile_function(samples3)\n",
    "\n",
    "quantile_fns = [q1, q2, q3]\n",
    "weights = torch.tensor([1/3, 1/3, 1/3])\n",
    "lin_comb_fn = linear_combination(quantile_fns, weights)\n",
    "\n",
    "quantiles = torch.tensor([0.1, 0.5, 1.0])\n",
    "print(lin_comb_fn(quantiles))\n",
    "\n",
    "barycenter_fn = barycenter_threshold(quantile_fns, 1.0, torch.tensor([0.5, 0.9, 1.5]))\n",
    "print(barycenter_fn(quantiles))\n",
    "\n",
    "barycenter_fn_soft = barycenter_threshold_soft(quantile_fns, 1.0, torch.tensor([0.5, 0.9, 1.5]), sharpness=100)\n",
    "print(barycenter_fn_soft(quantiles))"
   ]
  },
  {
   "cell_type": "code",
   "execution_count": 79,
   "metadata": {},
   "outputs": [
    {
     "data": {
      "text/plain": [
       "tensor([1., 2., 2., 2., 2., 2., 2., 2., 2., 2., 2., 2., 2., 2., 2., 2., 2., 2.,\n",
       "        2., 2., 2., 2., 2., 2., 2., 2., 2., 2., 2., 2., 2., 2., 2., 2., 2., 2.,\n",
       "        2., 2., 2., 2., 2., 2., 2., 2., 2., 2., 2., 2., 2., 2., 5., 5., 5., 5.,\n",
       "        5., 5., 5., 5., 5., 5., 5., 5., 5., 5., 5., 5., 5., 5., 5., 5., 5., 5.,\n",
       "        5., 5., 5., 5., 5., 5., 5., 5., 5., 5., 5., 5., 5., 5., 5., 5., 5., 5.,\n",
       "        5., 5., 5., 5., 5., 5., 5., 5., 5., 5.], grad_fn=<SqueezeBackward4>)"
      ]
     },
     "execution_count": 79,
     "metadata": {},
     "output_type": "execute_result"
    }
   ],
   "source": [
    "x = torch.linspace(0, 1, 100)\n",
    "samples = torch.tensor([1.0, 2.0, 5.0]).requires_grad_(True)\n",
    "q = torch.quantile(samples, x, interpolation='higher')\n",
    "q"
   ]
  },
  {
   "cell_type": "code",
   "execution_count": 80,
   "metadata": {},
   "outputs": [
    {
     "name": "stdout",
     "output_type": "stream",
     "text": [
      "tensor(2.6647, grad_fn=<DivBackward1>)\n",
      "tensor(2.6667, grad_fn=<MeanBackward0>)\n"
     ]
    }
   ],
   "source": [
    "def expectation(quantile_func, N = 1000):\n",
    "    x = torch.linspace(0, 1, N)\n",
    "    quantiles = quantile_func(x)\n",
    "    return torch.trapezoid(quantiles, x=x)\n",
    "\n",
    "samples = torch.tensor([1.0, 2.0, 5.0]).requires_grad_(True)\n",
    "q_func = empirical_quantile_function(samples)\n",
    "\n",
    "E = expectation(q_func)\n",
    "print(E)\n",
    "print(torch.mean(samples))"
   ]
  },
  {
   "cell_type": "code",
   "execution_count": 81,
   "metadata": {},
   "outputs": [],
   "source": [
    "E.backward()"
   ]
  },
  {
   "cell_type": "markdown",
   "metadata": {},
   "source": [
    "We should be ready now to implement the Wasserstein regression for the WRDS dataset."
   ]
  },
  {
   "cell_type": "code",
   "execution_count": 82,
   "metadata": {},
   "outputs": [],
   "source": [
    "import pandas as pd\n",
    "import numpy as np\n",
    "import matplotlib.pyplot as plt\n",
    "from tqdm import tqdm\n",
    "import pickle\n",
    "import scipy as sp"
   ]
  },
  {
   "cell_type": "code",
   "execution_count": 83,
   "metadata": {},
   "outputs": [],
   "source": [
    "with open('quarterly_actual.pkl', 'rb') as f:\n",
    "    quarterly_actual = pickle.load(f)\n",
    "    \n",
    "with open('quarterly_data.pkl', 'rb') as f:\n",
    "    quarterly_data = pickle.load(f)\n",
    "    \n",
    "with open('ibes_tickers.pkl', 'rb') as f:\n",
    "    ibes_tickers = pickle.load(f)\n",
    "    \n",
    "def get_rows_cols():\n",
    "    cols = [(year, quarter) for year in range(2020, 2025) for quarter in range(1, 5)]\n",
    "    rows = [t[0] for t in ibes_tickers]\n",
    "    return rows, cols"
   ]
  },
  {
   "cell_type": "code",
   "execution_count": 84,
   "metadata": {},
   "outputs": [
    {
     "data": {
      "text/html": [
       "<div>\n",
       "<style scoped>\n",
       "    .dataframe tbody tr th:only-of-type {\n",
       "        vertical-align: middle;\n",
       "    }\n",
       "\n",
       "    .dataframe tbody tr th {\n",
       "        vertical-align: top;\n",
       "    }\n",
       "\n",
       "    .dataframe thead th {\n",
       "        text-align: right;\n",
       "    }\n",
       "</style>\n",
       "<table border=\"1\" class=\"dataframe\">\n",
       "  <thead>\n",
       "    <tr style=\"text-align: right;\">\n",
       "      <th></th>\n",
       "      <th>value</th>\n",
       "      <th>ann_datetime</th>\n",
       "    </tr>\n",
       "  </thead>\n",
       "  <tbody>\n",
       "    <tr>\n",
       "      <th>622</th>\n",
       "      <td>2.040</td>\n",
       "      <td>2023-11-02 20:51:00</td>\n",
       "    </tr>\n",
       "    <tr>\n",
       "      <th>623</th>\n",
       "      <td>2.084</td>\n",
       "      <td>2023-11-02 22:00:00</td>\n",
       "    </tr>\n",
       "    <tr>\n",
       "      <th>624</th>\n",
       "      <td>2.120</td>\n",
       "      <td>2023-11-02 23:10:00</td>\n",
       "    </tr>\n",
       "    <tr>\n",
       "      <th>625</th>\n",
       "      <td>2.080</td>\n",
       "      <td>2023-11-02 22:54:00</td>\n",
       "    </tr>\n",
       "    <tr>\n",
       "      <th>626</th>\n",
       "      <td>2.080</td>\n",
       "      <td>2023-11-02 23:04:00</td>\n",
       "    </tr>\n",
       "  </tbody>\n",
       "</table>\n",
       "</div>"
      ],
      "text/plain": [
       "     value        ann_datetime\n",
       "622  2.040 2023-11-02 20:51:00\n",
       "623  2.084 2023-11-02 22:00:00\n",
       "624  2.120 2023-11-02 23:10:00\n",
       "625  2.080 2023-11-02 22:54:00\n",
       "626  2.080 2023-11-02 23:04:00"
      ]
     },
     "execution_count": 84,
     "metadata": {},
     "output_type": "execute_result"
    }
   ],
   "source": [
    "quarterly_data['AAPL', 2024, 1].head()"
   ]
  },
  {
   "cell_type": "markdown",
   "metadata": {},
   "source": [
    "Let's optimize for AAPL for 1 column: 2024 Q1"
   ]
  },
  {
   "cell_type": "code",
   "execution_count": 85,
   "metadata": {},
   "outputs": [],
   "source": [
    "import torch.optim as optim\n",
    "from torch.optim.lr_scheduler import ExponentialLR"
   ]
  },
  {
   "cell_type": "code",
   "execution_count": 117,
   "metadata": {},
   "outputs": [],
   "source": [
    "ticker = 'EBAY'\n",
    "\n",
    "_, cols = get_rows_cols()\n",
    "train_cols = cols[:10]\n",
    "test_col = cols[10]\n",
    "\n",
    "quantile_funcs = dict()\n",
    "tickers_used_list = []\n",
    "for col in cols:\n",
    "    year, quarter = col\n",
    "    _, actual_date, actual_time = quarterly_actual[ticker, year, quarter]\n",
    "    actual_datetime = pd.to_datetime(actual_date + ' ' + actual_time, format = '%Y-%m-%d %H:%M:%S')\n",
    "    tickers_used = set()\n",
    "    for oftic,_ in ibes_tickers:\n",
    "        data = quarterly_data[oftic, year, quarter]\n",
    "        if data is None:\n",
    "            continue\n",
    "        data = data[data['ann_datetime'] < actual_datetime]\n",
    "        if len(data) == 0:\n",
    "            continue\n",
    "        quantile_funcs[oftic, year, quarter] = empirical_quantile_function(torch.tensor(data['value'].sort_values().values).float())\n",
    "        tickers_used.add(oftic)\n",
    "    tickers_used_list.append(tickers_used)\n",
    "\n",
    "tickers_intersection = set.intersection(*tickers_used_list)\n",
    "\n",
    "delete_keys = []\n",
    "for key in quantile_funcs:\n",
    "    if key[0] not in tickers_intersection:\n",
    "        delete_keys.append(key)\n",
    "for key in delete_keys:\n",
    "    del quantile_funcs[key]"
   ]
  },
  {
   "cell_type": "code",
   "execution_count": 120,
   "metadata": {},
   "outputs": [
    {
     "name": "stderr",
     "output_type": "stream",
     "text": [
      "100%|██████████| 500/500 [01:28<00:00,  5.63it/s, loss=0.524] \n"
     ]
    }
   ],
   "source": [
    "weights = torch.tensor([1/len(tickers_intersection) for _ in tickers_intersection], requires_grad = True)\n",
    "optimizer = optim.Adam([weights], lr = 1.0)\n",
    "# scheduler = ExponentialLR(optimizer, gamma=0.95)\n",
    "\n",
    "l1_hyper = 0.1\n",
    "l2_hyper = 0.1\n",
    "\n",
    "with tqdm(range(500)) as tepoch:\n",
    "    for _ in tepoch:\n",
    "        optimizer.zero_grad()\n",
    "        loss = torch.tensor(0.0)\n",
    "        for col in train_cols: # leave out Q4\n",
    "            year, quarter = col\n",
    "            actual_eps, _, _ = quarterly_actual[ticker, year, quarter]\n",
    "            barycenter_fn = linear_combination([quantile_funcs[oftic,year,quarter] for oftic in tickers_intersection], weights)\n",
    "            mean = expectation(barycenter_fn)\n",
    "            loss += ((mean - actual_eps) ** 2)\n",
    "        # loss = (torch.abs((mean - actual_eps)) / actual_eps)\n",
    "        # loss = (mean - actual_eps) ** 2\n",
    "        l1_loss = l1_hyper * torch.norm(weights, p = 1)\n",
    "        l2_loss = l2_hyper * (weights @ weights)\n",
    "        loss += l1_loss + l2_loss\n",
    "        \n",
    "        loss.backward()\n",
    "        optimizer.step()\n",
    "        # scheduler.step()\n",
    "        \n",
    "        tepoch.set_postfix(loss=loss.item())"
   ]
  },
  {
   "cell_type": "markdown",
   "metadata": {},
   "source": [
    "For estimation using multiple columns, we will need to check for missing data in each column and remove any rows with missing data across all columns to ensure that the weights make sense."
   ]
  },
  {
   "cell_type": "code",
   "execution_count": 121,
   "metadata": {},
   "outputs": [
    {
     "name": "stdout",
     "output_type": "stream",
     "text": [
      "Year, Quarter: (2020, 1)\n",
      "Actual EPS:   0.8100\n",
      "DistNN EPS:   0.7866\n",
      "Baseline EPS: 0.7613\n",
      "DistNN Relative Error:   2.8855%\n",
      "Baseline Relative Error: 6.0082%\n",
      "\n",
      "Year, Quarter: (2020, 2)\n",
      "Actual EPS:   0.7700\n",
      "DistNN EPS:   0.8139\n",
      "Baseline EPS: 0.7211\n",
      "DistNN Relative Error:   5.7072%\n",
      "Baseline Relative Error: 6.3506%\n",
      "\n",
      "Year, Quarter: (2020, 3)\n",
      "Actual EPS:   1.0800\n",
      "DistNN EPS:   1.0916\n",
      "Baseline EPS: 0.9308\n",
      "DistNN Relative Error:   1.0709%\n",
      "Baseline Relative Error: 13.8155%\n",
      "\n",
      "Year, Quarter: (2020, 4)\n",
      "Actual EPS:   0.8500\n",
      "DistNN EPS:   0.8429\n",
      "Baseline EPS: 0.8112\n",
      "DistNN Relative Error:   0.8382%\n",
      "Baseline Relative Error: 4.5609%\n",
      "\n",
      "Year, Quarter: (2021, 1)\n",
      "Actual EPS:   0.8600\n",
      "DistNN EPS:   0.8661\n",
      "Baseline EPS: 0.8229\n",
      "DistNN Relative Error:   0.7085%\n",
      "Baseline Relative Error: 4.3196%\n",
      "\n",
      "Year, Quarter: (2021, 2)\n",
      "Actual EPS:   1.0900\n",
      "DistNN EPS:   1.0949\n",
      "Baseline EPS: 1.0627\n",
      "DistNN Relative Error:   0.4492%\n",
      "Baseline Relative Error: 2.5066%\n",
      "\n",
      "Year, Quarter: (2021, 3)\n",
      "Actual EPS:   0.9900\n",
      "DistNN EPS:   0.9629\n",
      "Baseline EPS: 0.9322\n",
      "DistNN Relative Error:   2.7376%\n",
      "Baseline Relative Error: 5.8384%\n",
      "\n",
      "Year, Quarter: (2021, 4)\n",
      "Actual EPS:   0.9000\n",
      "DistNN EPS:   0.9119\n",
      "Baseline EPS: 0.8674\n",
      "DistNN Relative Error:   1.3238%\n",
      "Baseline Relative Error: 3.6263%\n",
      "\n",
      "Year, Quarter: (2022, 1)\n",
      "Actual EPS:   1.0500\n",
      "DistNN EPS:   1.0657\n",
      "Baseline EPS: 0.9846\n",
      "DistNN Relative Error:   1.4921%\n",
      "Baseline Relative Error: 6.2324%\n",
      "\n",
      "Year, Quarter: (2022, 2)\n",
      "Actual EPS:   1.0500\n",
      "DistNN EPS:   1.0289\n",
      "Baseline EPS: 1.0252\n",
      "DistNN Relative Error:   2.0130%\n",
      "Baseline Relative Error: 2.3590%\n",
      "\n",
      "Year, Quarter: (2022, 3)\n",
      "Actual EPS:   0.9900\n",
      "DistNN EPS:   3.1193\n",
      "Baseline EPS: 0.8726\n",
      "DistNN Relative Error:   215.0823%\n",
      "Baseline Relative Error: 11.8561%\n",
      "\n"
     ]
    },
    {
     "name": "stderr",
     "output_type": "stream",
     "text": [
      "/var/folders/zc/6nw_r5b13ws3wfcpdxz6bzcw0000gn/T/ipykernel_12359/4238938964.py:12: DeprecationWarning: __array_wrap__ must accept context and return_scalar arguments (positionally) in the future. (Deprecated NumPy 2.0)\n",
      "  print(f'DistNN Relative Error:   {np.abs(mean - actual_eps) / actual_eps * 100:.4f}%')\n"
     ]
    }
   ],
   "source": [
    "with torch.no_grad():\n",
    "    for col in train_cols + [test_col]:\n",
    "        year, quarter = col\n",
    "        barycenter_fn = linear_combination([quantile_funcs[oftic,year,quarter] for oftic in tickers_intersection], weights)\n",
    "        mean = expectation(barycenter_fn)\n",
    "        actual_eps, _, _ = quarterly_actual[ticker, year, quarter]\n",
    "        print(f'Year, Quarter: {year, quarter}')\n",
    "        print(f'Actual EPS:   {actual_eps:.4f}')\n",
    "        print(f'DistNN EPS:   {mean:.4f}')\n",
    "        baseline_eps = quarterly_data[ticker, year, quarter][\"value\"].mean()\n",
    "        print(f'Baseline EPS: {baseline_eps:.4f}')\n",
    "        print(f'DistNN Relative Error:   {np.abs(mean - actual_eps) / actual_eps * 100:.4f}%')\n",
    "        print(f'Baseline Relative Error: {np.abs(baseline_eps - actual_eps) / actual_eps * 100:.4f}%')\n",
    "        print()"
   ]
  },
  {
   "cell_type": "code",
   "execution_count": 39,
   "metadata": {},
   "outputs": [
    {
     "data": {
      "text/plain": [
       "<BarContainer object of 491 artists>"
      ]
     },
     "execution_count": 39,
     "metadata": {},
     "output_type": "execute_result"
    },
    {
     "data": {
      "image/png": "[encoded data removed]",
      "text/plain": [
       "<Figure size 1000x500 with 1 Axes>"
      ]
     },
     "metadata": {},
     "output_type": "display_data"
    }
   ],
   "source": [
    "plt.figure(figsize = (10,5))\n",
    "plt.bar(list(tickers_intersection), weights.detach().numpy())"
   ]
  },
  {
   "cell_type": "code",
   "execution_count": 40,
   "metadata": {},
   "outputs": [],
   "source": [
    "large_inds = np.where(np.abs(weights.detach().numpy()) > 0.01)[0]"
   ]
  },
  {
   "cell_type": "code",
   "execution_count": 41,
   "metadata": {},
   "outputs": [
    {
     "data": {
      "text/plain": [
       "array(['LEN', 'EQT', 'HES', 'EA', 'MRNA', 'PNW', 'CTVA', 'UBER', 'TRV',\n",
       "       'MU', 'RCL', 'MPC', 'EXPE', 'ARE', 'AON', 'NFLX', 'BKNG', 'TPL',\n",
       "       'CF', 'WYNN', 'ZBRA', 'MRK', 'DLTR', 'FMC', 'LOW', 'POOL', 'OXY',\n",
       "       'WDC', 'TSN', 'INTU', 'DAL', 'LYV', 'CVX', 'MGM', 'BR', 'ALL',\n",
       "       'VLO', 'MLM', 'ALB', 'MHK', 'HUM', 'EL', 'WTW', 'FDX', 'UAL',\n",
       "       'TSCO', 'ATO', 'AZO', 'GS', 'KLAC', 'NCLH'], dtype='<U5')"
      ]
     },
     "execution_count": 41,
     "metadata": {},
     "output_type": "execute_result"
    }
   ],
   "source": [
    "np.array(list(tickers_intersection))[large_inds]"
   ]
  },
  {
   "cell_type": "markdown",
   "metadata": {},
   "source": [
    "We will now implement the differentiable Dist-NN algorithm."
   ]
  },
  {
   "cell_type": "code",
   "execution_count": null,
   "metadata": {},
   "outputs": [],
   "source": [
    "rows, cols = get_rows_cols()\n",
    "\n",
    "train_cols = cols[:16]\n",
    "test_cols = cols[16:]\n",
    "\n",
    "ticker = 'COST'\n",
    "\n",
    "quantile_funcs = dict()\n",
    "quantile_means = dict()\n",
    "dist_dict = dict()\n",
    "\n",
    "for year,quarter in cols:\n",
    "    actual = quarterly_actual[ticker, year, quarter]\n",
    "    if actual is None:\n",
    "        continue\n",
    "    _, actual_date, actual_time = actual\n",
    "    actual_datetime = pd.to_datetime(actual_date + ' ' + actual_time, format = '%Y-%m-%d %H:%M:%S')\n",
    "    data = quarterly_data[ticker, year, quarter]\n",
    "    mean = data['value'].mean()\n",
    "    quantile_func = empirical_quantile_function(torch.tensor(data['value'].sort_values().values).float())\n",
    "    for oftic,_ in ibes_tickers:\n",
    "        data = quarterly_data[oftic, year, quarter]\n",
    "        if data is None:\n",
    "            quantile_funcs[oftic, year, quarter] = None\n",
    "            dist_dict[oftic, year, quarter] = None\n",
    "            continue\n",
    "        data = data[data['ann_datetime'] < actual_datetime]\n",
    "        if len(data) == 0:\n",
    "            quantile_funcs[oftic, year, quarter] = None\n",
    "            dist_dict[oftic, year, quarter] = None\n",
    "            continue\n",
    "        mean = data['value'].mean()\n",
    "        quantile_means[oftic, year, quarter] = torch.tensor([mean])\n",
    "        quantile_funcs[oftic, year, quarter] = empirical_quantile_function(torch.tensor(data['value'].sort_values().values).float())\n",
    "        dist_dict[oftic, year, quarter] = squared_difference_integral(quantile_func, quantile_funcs[oftic, year, quarter])"
   ]
  },
  {
   "cell_type": "code",
   "execution_count": 603,
   "metadata": {},
   "outputs": [
    {
     "name": "stderr",
     "output_type": "stream",
     "text": [
      "100%|██████████| 200/200 [00:08<00:00, 22.49it/s, loss=0.25]\n"
     ]
    }
   ],
   "source": [
    "distance_threshold = torch.tensor([1.0]).requires_grad_(True)\n",
    "\n",
    "# Optimize distance threshold\n",
    "optimizer = optim.Adam([distance_threshold], lr = 0.1)\n",
    "\n",
    "l1_hyper = 0\n",
    "# l2_hyper = 10.0\n",
    "with tqdm(range(200)) as tepoch:\n",
    "    for i in tepoch:\n",
    "        optimizer.zero_grad()\n",
    "        loss = torch.tensor(0.0)\n",
    "        for quarter in [1,2,3]: # leave out Q4\n",
    "            quantile_func_quarter = [quantile_funcs[oftic,year,quarter] for oftic in tickers_intersection]\n",
    "            dist_dict_quarter = [dist_dict[oftic,year,quarter] for oftic in tickers_intersection]\n",
    "            barycenter_fn = barycenter_threshold(quantile_func_quarter, distance_threshold, dist_dict_quarter)\n",
    "            mean = expectation(barycenter_fn)\n",
    "            l1_loss = l1_hyper * torch.norm(weights, p = 1)\n",
    "            # l2_loss = l2_hyper * (weights @ weights)\n",
    "            loss += ((mean - actual_eps) ** 2) + l1_loss\n",
    "        # loss = (torch.abs((mean - actual_eps)) / actual_eps)\n",
    "        # loss = (mean - actual_eps) ** 2\n",
    "        loss.backward()\n",
    "        optimizer.step()\n",
    "        \n",
    "        tepoch.set_postfix(loss=loss.item())"
   ]
  },
  {
   "cell_type": "code",
   "execution_count": null,
   "metadata": {},
   "outputs": [
    {
     "name": "stdout",
     "output_type": "stream",
     "text": [
      "Quarter 1\n",
      "Actual EPS:   1.46\n",
      "DistNN EPS:   1.710982084274292\n",
      "Baseline EPS: 1.9916607142857143\n",
      "DistNN Relative Error:   0.1719055026769638\n",
      "Baseline Relative Error: 0.3641511741682975\n",
      "\n",
      "Quarter 2\n",
      "Actual EPS:   1.46\n",
      "DistNN EPS:   1.2676317691802979\n",
      "Baseline EPS: 1.430366666666667\n",
      "DistNN Relative Error:   0.13175909221172333\n",
      "Baseline Relative Error: 0.02029680365296778\n",
      "\n",
      "Quarter 3\n",
      "Actual EPS:   1.46\n",
      "DistNN EPS:   1.0724635124206543\n",
      "Baseline EPS: 1.1925142857142856\n",
      "DistNN Relative Error:   0.26543596386909485\n",
      "Baseline Relative Error: 0.18320939334637967\n",
      "\n",
      "Quarter 4\n",
      "Actual EPS:   1.46\n",
      "DistNN EPS:   1.2612287998199463\n",
      "Baseline EPS: 1.3881142857142859\n",
      "DistNN Relative Error:   0.13614468276500702\n",
      "Baseline Relative Error: 0.0492367906066535\n",
      "\n"
     ]
    },
    {
     "name": "stderr",
     "output_type": "stream",
     "text": [
      "/var/folders/zc/6nw_r5b13ws3wfcpdxz6bzcw0000gn/T/ipykernel_14816/1805892018.py:12: DeprecationWarning: __array_wrap__ must accept context and return_scalar arguments (positionally) in the future. (Deprecated NumPy 2.0)\n",
      "  print(f'DistNN Relative Error:   {np.abs(mean - actual_eps) / actual_eps}')\n"
     ]
    }
   ],
   "source": [
    "with torch.no_grad():\n",
    "    for quarter in quarters:\n",
    "        quantile_func_quarter = [quantile_funcs[oftic,year,quarter] for oftic in tickers_intersection]\n",
    "        dist_dict_quarter = [dist_dict[oftic,year,quarter] for oftic in tickers_intersection]\n",
    "        barycenter_fn = barycenter_threshold(quantile_func_quarter, distance_threshold, dist_dict_quarter)\n",
    "        mean = expectation(barycenter_fn)\n",
    "        print(f'Quarter {quarter}')\n",
    "        print(f'Actual EPS:   {actual_eps}')\n",
    "        print(f'DistNN EPS:   {mean}')\n",
    "        baseline_eps = quarterly_data[ticker, year, quarter][\"value\"].mean()\n",
    "        print(f'Baseline EPS: {baseline_eps}')\n",
    "        print(f'DistNN Relative Error:   {np.abs(mean - actual_eps) / actual_eps}')\n",
    "        print(f'Baseline Relative Error: {np.abs(baseline_eps - actual_eps) / actual_eps}')\n",
    "        print()"
   ]
  },
  {
   "cell_type": "markdown",
   "metadata": {},
   "source": [
    "As expected, the thresholding operation is not differentiable. We will have to go with the Sigmoid approximation for the thresholding operation."
   ]
  },
  {
   "cell_type": "code",
   "execution_count": null,
   "metadata": {},
   "outputs": [
    {
     "name": "stderr",
     "output_type": "stream",
     "text": [
      "100%|██████████| 200/200 [01:05<00:00,  3.06it/s, best_loss=4.23, best_threshold=0, eta=1.27, loss=4.75]     \n"
     ]
    }
   ],
   "source": [
    "starting_value = 5.0\n",
    "distance_threshold = torch.tensor([starting_value]).requires_grad_(True)\n",
    "\n",
    "# Optimize distance threshold\n",
    "optimizer = optim.Adam([distance_threshold], lr = 1.0)\n",
    "scheduler = ExponentialLR(optimizer, gamma=0.95)\n",
    "repeats = 0\n",
    "max_repeats = 10\n",
    "best_threshold = None\n",
    "best_loss = np.inf\n",
    "avg_dists_dict = dict()\n",
    "for i in range(3, len(train_cols)):\n",
    "    for oftic,_ in ibes_tickers:\n",
    "        num_added = 0\n",
    "        year, quarter = train_cols[i]\n",
    "        for j in range(0,i + 1):\n",
    "            y,q = train_cols[j]\n",
    "            if dist_dict[oftic,y,q] is None:\n",
    "                continue\n",
    "            if avg_dists_dict.get((oftic, y, q)) is None:\n",
    "                avg_dists_dict[oftic,y,q] = 0.0\n",
    "            avg_dists_dict[oftic,y,q] += dist_dict[oftic,y,q]\n",
    "            num_added += 1\n",
    "        if num_added == 0 or quantile_funcs[oftic,year,quarter] is None:\n",
    "            avg_dists_dict[oftic,year,quarter] = None\n",
    "        else:\n",
    "            avg_dists_dict[oftic,year,quarter] /= num_added\n",
    "\n",
    "with tqdm(range(200)) as tepoch:\n",
    "    for _ in tepoch:\n",
    "        optimizer.zero_grad()\n",
    "        loss = torch.tensor(0.0).reshape(1)\n",
    "        for i in range(3,len(train_cols)): # leave out Q4\n",
    "            year, quarter = train_cols[i]\n",
    "            \n",
    "            actual_eps, _, _ = quarterly_actual[ticker, year, quarter]\n",
    "            actual_eps = torch.tensor([actual_eps])\n",
    "            \n",
    "            # Compute the barycenter\n",
    "            quantile_func_quarter = [quantile_funcs[oftic,year,quarter] \n",
    "                                     for oftic,_  in ibes_tickers if avg_dists_dict[oftic,year,quarter] is not None]\n",
    "            dist_dict_quarter = torch.cat([avg_dists_dict[oftic,year,quarter].reshape(1) \n",
    "                                           for oftic,_  in ibes_tickers if avg_dists_dict[oftic,year,quarter] is not None])\n",
    "            \n",
    "            barycenter_fn = barycenter_threshold_soft(quantile_func_quarter, \n",
    "                                                    distance_threshold, \n",
    "                                                    dist_dict_quarter,\n",
    "                                                    sharpness = 1.0)\n",
    "            mean = expectation(barycenter_fn) # + quantile_means[ticker, year, quarter]\n",
    "            loss += (mean - actual_eps) ** 2\n",
    "        # loss = (torch.abs((mean - actual_eps)) / actual_eps)\n",
    "        # loss = (mean - actual_eps) ** 2\n",
    "        loss.backward()\n",
    "        optimizer.step()\n",
    "        \n",
    "        scheduler.step()\n",
    "        \n",
    "        with torch.no_grad():\n",
    "            distance_threshold.clamp_(min = 0.0)\n",
    "            repeats += 1\n",
    "            if repeats > max_repeats:\n",
    "                distance_threshold.set_(torch.tensor([np.random.uniform(0.0, 20.0)]))\n",
    "                optimizer = optim.Adam([distance_threshold], lr = 1.0)\n",
    "                scheduler = ExponentialLR(optimizer, gamma=0.99)\n",
    "                repeats = 0\n",
    "            if loss.item() < best_loss:\n",
    "                best_loss = loss.item()\n",
    "                best_threshold = distance_threshold.clone()\n",
    "        \n",
    "        tepoch.set_postfix(loss=loss.item(), eta = distance_threshold.item(), best_loss = best_loss, best_threshold = best_threshold.item())"
   ]
  },
  {
   "cell_type": "code",
   "execution_count": null,
   "metadata": {},
   "outputs": [
    {
     "name": "stdout",
     "output_type": "stream",
     "text": [
      "Eta: 0.0\n",
      "1\n",
      "Quarter 2\n",
      "Actual EPS:   1.89\n",
      "DistNN EPS:   2.040175437927246\n",
      "Baseline EPS: 2.0402321428571426\n",
      "DistNN Relative Error:   0.07945790886878967\n",
      "Baseline Relative Error: 0.07948790627362048\n",
      "\n",
      "1\n",
      "Quarter 3\n",
      "Actual EPS:   3.04\n",
      "DistNN EPS:   2.783177137374878\n",
      "Baseline EPS: 2.783190476190476\n",
      "DistNN Relative Error:   0.08448119461536407\n",
      "Baseline Relative Error: 0.08447681704260653\n",
      "\n",
      "1\n",
      "Quarter 4\n",
      "Actual EPS:   2.3\n",
      "DistNN EPS:   1.9956094026565552\n",
      "Baseline EPS: 1.9956379310344827\n",
      "DistNN Relative Error:   0.13234372437000275\n",
      "Baseline Relative Error: 0.13233133433283353\n",
      "\n",
      "1\n",
      "Quarter 1\n",
      "Actual EPS:   2.14\n",
      "DistNN EPS:   2.4179255962371826\n",
      "Baseline EPS: 2.418162162162163\n",
      "DistNN Relative Error:   0.12987171113491058\n",
      "Baseline Relative Error: 0.1299823187673658\n",
      "\n",
      "1\n",
      "Quarter 2\n",
      "Actual EPS:   2.75\n",
      "DistNN EPS:   2.2944555282592773\n",
      "Baseline EPS: 2.2945\n",
      "DistNN Relative Error:   0.16565252840518951\n",
      "Baseline Relative Error: 0.16563636363636355\n",
      "\n",
      "1\n",
      "Quarter 3\n",
      "Actual EPS:   3.9\n",
      "DistNN EPS:   3.467787027359009\n",
      "Baseline EPS: 3.4677999999999995\n",
      "DistNN Relative Error:   0.1108238622546196\n",
      "Baseline Relative Error: 0.11082051282051292\n",
      "\n",
      "1\n",
      "Quarter 4\n",
      "Actual EPS:   2.98\n",
      "DistNN EPS:   2.5716633796691895\n",
      "Baseline EPS: 2.5717058823529415\n",
      "DistNN Relative Error:   0.13702571392059326\n",
      "Baseline Relative Error: 0.13701144887485184\n",
      "\n",
      "1\n",
      "Quarter 1\n",
      "Actual EPS:   2.92\n",
      "DistNN EPS:   2.707636833190918\n",
      "Baseline EPS: 2.7076046511627907\n",
      "DistNN Relative Error:   0.07272713631391525\n",
      "Baseline Relative Error: 0.07273813316342782\n",
      "\n",
      "1\n",
      "Quarter 2\n",
      "Actual EPS:   3.17\n",
      "DistNN EPS:   3.010165214538574\n",
      "Baseline EPS: 3.0103000000000004\n",
      "DistNN Relative Error:   0.050421092659235\n",
      "Baseline Relative Error: 0.0503785488958989\n",
      "\n",
      "1\n",
      "Quarter 3\n",
      "Actual EPS:   4.2\n",
      "DistNN EPS:   4.0854363441467285\n",
      "Baseline EPS: 4.085333333333333\n",
      "DistNN Relative Error:   0.027277017012238503\n",
      "Baseline Relative Error: 0.027301587301587465\n",
      "\n",
      "1\n",
      "Quarter 4\n",
      "Actual EPS:   3.1\n",
      "DistNN EPS:   3.1088945865631104\n",
      "Baseline EPS: 3.109\n",
      "DistNN Relative Error:   0.002869252348318696\n",
      "Baseline Relative Error: 0.0029032258064515797\n",
      "\n",
      "1\n",
      "Quarter 1\n",
      "Actual EPS:   3.3\n",
      "DistNN EPS:   3.2009050846099854\n",
      "Baseline EPS: 3.2009230769230768\n",
      "DistNN Relative Error:   0.030028747394680977\n",
      "Baseline Relative Error: 0.03002331002331002\n",
      "\n",
      "1\n",
      "Quarter 2\n",
      "Actual EPS:   2.93\n",
      "DistNN EPS:   3.3062262535095215\n",
      "Baseline EPS: 3.3061799999999995\n",
      "DistNN Relative Error:   0.12840484082698822\n",
      "Baseline Relative Error: 0.12838907849829326\n",
      "\n",
      "1\n",
      "Quarter 3\n",
      "Actual EPS:   4.86\n",
      "DistNN EPS:   4.762989044189453\n",
      "Baseline EPS: 4.763021739130435\n",
      "DistNN Relative Error:   0.019961128011345863\n",
      "Baseline Relative Error: 0.01995437466451956\n",
      "\n",
      "1\n",
      "Quarter 4\n",
      "Actual EPS:   3.58\n",
      "DistNN EPS:   3.4209694862365723\n",
      "Baseline EPS: 3.4209285714285715\n",
      "DistNN Relative Error:   0.04442191123962402\n",
      "Baseline Relative Error: 0.04443335993615322\n",
      "\n",
      "1\n",
      "Quarter 1\n",
      "Actual EPS:   3.92\n",
      "DistNN EPS:   3.5966134071350098\n",
      "Baseline EPS: 3.596604166666667\n",
      "DistNN Relative Error:   0.08249659836292267\n",
      "Baseline Relative Error: 0.08249893707482987\n",
      "\n",
      "1\n",
      "Quarter 2\n",
      "Actual EPS:   3.78\n",
      "DistNN EPS:   3.6617653369903564\n",
      "Baseline EPS: 3.6617560975609758\n",
      "DistNN Relative Error:   0.031279005110263824\n",
      "Baseline Relative Error: 0.03128145567169949\n",
      "\n"
     ]
    },
    {
     "name": "stderr",
     "output_type": "stream",
     "text": [
      "/var/folders/zc/6nw_r5b13ws3wfcpdxz6bzcw0000gn/T/ipykernel_12359/4223105982.py:35: DeprecationWarning: __array_wrap__ must accept context and return_scalar arguments (positionally) in the future. (Deprecated NumPy 2.0)\n",
      "  print(f'DistNN Relative Error:   {(np.abs(mean - actual_eps) / actual_eps).item()}')\n"
     ]
    },
    {
     "ename": "KeyError",
     "evalue": "('AAPL', 2024, 3)",
     "output_type": "error",
     "traceback": [
      "\u001b[0;31m---------------------------------------------------------------------------\u001b[0m",
      "\u001b[0;31mKeyError\u001b[0m                                  Traceback (most recent call last)",
      "Cell \u001b[0;32mIn[58], line 5\u001b[0m\n\u001b[1;32m      3\u001b[0m \u001b[38;5;28;01mfor\u001b[39;00m i \u001b[38;5;129;01min\u001b[39;00m \u001b[38;5;28mrange\u001b[39m(\u001b[38;5;241m1\u001b[39m,\u001b[38;5;28mlen\u001b[39m(cols)):\n\u001b[1;32m      4\u001b[0m     year,quarter \u001b[38;5;241m=\u001b[39m cols[i]\n\u001b[0;32m----> 5\u001b[0m     quantile_func_quarter \u001b[38;5;241m=\u001b[39m \u001b[43m[\u001b[49m\u001b[43mquantile_funcs\u001b[49m\u001b[43m[\u001b[49m\u001b[43moftic\u001b[49m\u001b[43m,\u001b[49m\u001b[43myear\u001b[49m\u001b[43m,\u001b[49m\u001b[43mquarter\u001b[49m\u001b[43m]\u001b[49m\u001b[43m \u001b[49m\u001b[38;5;28;43;01mfor\u001b[39;49;00m\u001b[43m \u001b[49m\u001b[43moftic\u001b[49m\u001b[43m,\u001b[49m\u001b[43m_\u001b[49m\u001b[43m \u001b[49m\u001b[38;5;129;43;01min\u001b[39;49;00m\u001b[43m \u001b[49m\u001b[43mibes_tickers\u001b[49m\u001b[43m]\u001b[49m\n\u001b[1;32m      6\u001b[0m     \u001b[38;5;66;03m# Average distances\u001b[39;00m\n\u001b[1;32m      7\u001b[0m     avg_dists \u001b[38;5;241m=\u001b[39m \u001b[38;5;28mdict\u001b[39m()\n",
      "Cell \u001b[0;32mIn[58], line 5\u001b[0m, in \u001b[0;36m<listcomp>\u001b[0;34m(.0)\u001b[0m\n\u001b[1;32m      3\u001b[0m \u001b[38;5;28;01mfor\u001b[39;00m i \u001b[38;5;129;01min\u001b[39;00m \u001b[38;5;28mrange\u001b[39m(\u001b[38;5;241m1\u001b[39m,\u001b[38;5;28mlen\u001b[39m(cols)):\n\u001b[1;32m      4\u001b[0m     year,quarter \u001b[38;5;241m=\u001b[39m cols[i]\n\u001b[0;32m----> 5\u001b[0m     quantile_func_quarter \u001b[38;5;241m=\u001b[39m [\u001b[43mquantile_funcs\u001b[49m\u001b[43m[\u001b[49m\u001b[43moftic\u001b[49m\u001b[43m,\u001b[49m\u001b[43myear\u001b[49m\u001b[43m,\u001b[49m\u001b[43mquarter\u001b[49m\u001b[43m]\u001b[49m \u001b[38;5;28;01mfor\u001b[39;00m oftic,_ \u001b[38;5;129;01min\u001b[39;00m ibes_tickers]\n\u001b[1;32m      6\u001b[0m     \u001b[38;5;66;03m# Average distances\u001b[39;00m\n\u001b[1;32m      7\u001b[0m     avg_dists \u001b[38;5;241m=\u001b[39m \u001b[38;5;28mdict\u001b[39m()\n",
      "\u001b[0;31mKeyError\u001b[0m: ('AAPL', 2024, 3)"
     ]
    }
   ],
   "source": [
    "with torch.no_grad():\n",
    "    print(f'Eta: {best_threshold.item()}')\n",
    "    for i in range(1,len(cols)):\n",
    "        year,quarter = cols[i]\n",
    "        quantile_func_quarter = [quantile_funcs[oftic,year,quarter] for oftic,_ in ibes_tickers]\n",
    "        # Average distances\n",
    "        avg_dists = dict()\n",
    "        for oftic,_ in ibes_tickers:\n",
    "            num_added = 0\n",
    "            for j in range(0,i):\n",
    "                y,q = cols[j]\n",
    "                if oftic not in avg_dists:\n",
    "                    avg_dists[oftic] = 0\n",
    "                if dist_dict[oftic,y,q] is None:\n",
    "                    continue\n",
    "                avg_dists[oftic] += dist_dict[oftic,y,q]\n",
    "                num_added += 1\n",
    "            if num_added == 0 or quantile_funcs[oftic,year,quarter] is None:\n",
    "                avg_dists[oftic] = None\n",
    "            else:\n",
    "                avg_dists[oftic] /= num_added\n",
    "            \n",
    "        # Compute the barycenter\n",
    "        quantile_func_quarter = [quantile_funcs[oftic,year,quarter] for oftic,_ in ibes_tickers if avg_dists[oftic] is not None]\n",
    "        dist_dict_quarter = torch.cat([avg_dists[oftic].reshape(1) for oftic,_ in ibes_tickers if avg_dists[oftic] is not None])\n",
    "        \n",
    "        barycenter_fn = barycenter_threshold(quantile_func_quarter, best_threshold, dist_dict_quarter) # Use hard threshold\n",
    "        mean = expectation(barycenter_fn) # + torch.tensor(quantile_means[ticker, year, quarter])\n",
    "        actual_eps, _, _ = quarterly_actual[ticker, year, quarter]\n",
    "        print(f'Quarter {quarter}')\n",
    "        print(f'Actual EPS:   {actual_eps.item()}')\n",
    "        print(f'DistNN EPS:   {mean.item()}')\n",
    "        baseline_eps = quarterly_data[ticker, year, quarter][\"value\"].mean()\n",
    "        print(f'Baseline EPS: {baseline_eps.item()}')\n",
    "        print(f'DistNN Relative Error:   {(np.abs(mean - actual_eps) / actual_eps).item()}')\n",
    "        print(f'Baseline Relative Error: {(np.abs(baseline_eps - actual_eps) / actual_eps).item()}')\n",
    "        print()"
   ]
  }
 ],
 "metadata": {
  "kernelspec": {
   "display_name": "llmsim",
   "language": "python",
   "name": "python3"
  },
  "language_info": {
   "codemirror_mode": {
    "name": "ipython",
    "version": 3
   },
   "file_extension": ".py",
   "mimetype": "text/x-python",
   "name": "python",
   "nbconvert_exporter": "python",
   "pygments_lexer": "ipython3",
   "version": "3.11.10"
  }
 },
 "nbformat": 4,
 "nbformat_minor": 2
}
