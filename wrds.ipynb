{
 "cells": [
  {
   "cell_type": "code",
   "execution_count": 1,
   "metadata": {},
   "outputs": [],
   "source": [
    "import wrds\n",
    "import pandas as pd\n",
    "import numpy as np\n",
    "import ot\n",
    "import matplotlib.pyplot as plt\n",
    "from tqdm import tqdm\n",
    "import pickle\n",
    "import scipy as sp"
   ]
  },
  {
   "cell_type": "code",
   "execution_count": 3,
   "metadata": {},
   "outputs": [
    {
     "name": "stdout",
     "output_type": "stream",
     "text": [
      "WRDS recommends setting up a .pgpass file.\n",
      "Created .pgpass file successfully.\n",
      "You can create this file yourself at any time with the create_pgpass_file() function.\n",
      "Loading library list...\n",
      "Done\n"
     ]
    }
   ],
   "source": [
    "conn = wrds.Connection()"
   ]
  },
  {
   "cell_type": "code",
   "execution_count": 2,
   "metadata": {},
   "outputs": [
    {
     "data": {
      "text/plain": [
       "['AAPL', 'NVDA', 'MSFT', 'AMZN', 'GOOGL']"
      ]
     },
     "execution_count": 2,
     "metadata": {},
     "output_type": "execute_result"
    }
   ],
   "source": [
    "sp500_tickers = []\n",
    "with open('sp500.txt', 'r') as f:\n",
    "    for line in f:\n",
    "        sp500_tickers.append(line.strip())\n",
    "sp500_tickers[:5]"
   ]
  },
  {
   "cell_type": "code",
   "execution_count": 6,
   "metadata": {},
   "outputs": [
    {
     "name": "stderr",
     "output_type": "stream",
     "text": [
      " 76%|███████▌  | 381/501 [00:18<00:05, 22.90it/s]"
     ]
    },
    {
     "name": "stdout",
     "output_type": "stream",
     "text": [
      "No data for VRSN\n"
     ]
    },
    {
     "name": "stderr",
     "output_type": "stream",
     "text": [
      " 78%|███████▊  | 393/501 [00:19<00:04, 22.09it/s]"
     ]
    },
    {
     "name": "stdout",
     "output_type": "stream",
     "text": [
      "No data for L\n"
     ]
    },
    {
     "name": "stderr",
     "output_type": "stream",
     "text": [
      " 83%|████████▎ | 414/501 [00:19<00:03, 24.16it/s]"
     ]
    },
    {
     "name": "stdout",
     "output_type": "stream",
     "text": [
      "No data for NWS\n"
     ]
    },
    {
     "name": "stderr",
     "output_type": "stream",
     "text": [
      "100%|██████████| 501/501 [00:23<00:00, 21.23it/s]"
     ]
    },
    {
     "name": "stdout",
     "output_type": "stream",
     "text": [
      "No data for AMTM\n"
     ]
    },
    {
     "name": "stderr",
     "output_type": "stream",
     "text": [
      "\n"
     ]
    }
   ],
   "source": [
    "ibes_tickers = []\n",
    "for t in tqdm(sp500_tickers):\n",
    "    try:\n",
    "        data = conn.raw_sql(f\"\"\"SELECT ticker, oftic, cname, estimator, analys, FPI, MEASURE, VALUE, FPEDATS, ANNDATS, ANNTIMS, ACTUAL, ANNDATS_ACT, ANNTIMS_ACT\n",
    "                         FROM tr_ibes.det_epsus\n",
    "                         WHERE oftic = '{t}'\n",
    "                         and anndats >= '01/01/2024'\n",
    "                         and fpi = '6'\n",
    "                         \"\"\")\n",
    "        if data.shape[0] == 0:\n",
    "            print(f\"No data for {t}\")\n",
    "        else:\n",
    "            ibes_ticker = data['ticker'].iloc[0]\n",
    "            ibes_tickers.append((t, ibes_ticker))\n",
    "        # print(t, data.shape)\n",
    "    except Exception as e:\n",
    "        print(f\"Error for {t}: {e}\")"
   ]
  },
  {
   "cell_type": "code",
   "execution_count": 17,
   "metadata": {},
   "outputs": [
    {
     "name": "stderr",
     "output_type": "stream",
     "text": [
      "100%|██████████| 497/497 [00:29<00:00, 16.78it/s]\n"
     ]
    }
   ],
   "source": [
    "for oftic, ibes in tqdm(ibes_tickers):\n",
    "    data = conn.raw_sql(f\"\"\"SELECT ticker, oftic, cname, estimator, analys, FPI, MEASURE, VALUE, FPEDATS, ANNDATS, ANNTIMS, ACTUAL, ANNDATS_ACT, ANNTIMS_ACT\n",
    "                         FROM tr_ibes.det_epsus\n",
    "                         WHERE ticker = '{ibes}'\n",
    "                         and anndats >= '01/01/2020'\n",
    "                         and fpi = '6'\n",
    "                         \"\"\")\n",
    "    data.to_csv(f\"data/ibes/{oftic}.csv\", index=False)"
   ]
  },
  {
   "cell_type": "code",
   "execution_count": null,
   "metadata": {},
   "outputs": [],
   "source": [
    "with open('ibes_tickers.pkl', 'wb') as f:\n",
    "    pickle.dump(ibes_tickers, f)"
   ]
  },
  {
   "cell_type": "code",
   "execution_count": 3,
   "metadata": {},
   "outputs": [
    {
     "name": "stderr",
     "output_type": "stream",
     "text": [
      "100%|██████████| 497/497 [00:00<00:00, 932.84it/s]\n"
     ]
    }
   ],
   "source": [
    "with open('ibes_tickers.pkl', 'rb') as f:\n",
    "    ibes_tickers = pickle.load(f)\n",
    "    \n",
    "ibes_data = dict()\n",
    "for oftic, ibes in tqdm(ibes_tickers):\n",
    "    data = pd.read_csv(f\"data/ibes/{oftic}.csv\")\n",
    "    ibes_data[oftic] = data"
   ]
  },
  {
   "cell_type": "code",
   "execution_count": 4,
   "metadata": {},
   "outputs": [
    {
     "data": {
      "text/html": [
       "<div>\n",
       "<style scoped>\n",
       "    .dataframe tbody tr th:only-of-type {\n",
       "        vertical-align: middle;\n",
       "    }\n",
       "\n",
       "    .dataframe tbody tr th {\n",
       "        vertical-align: top;\n",
       "    }\n",
       "\n",
       "    .dataframe thead th {\n",
       "        text-align: right;\n",
       "    }\n",
       "</style>\n",
       "<table border=\"1\" class=\"dataframe\">\n",
       "  <thead>\n",
       "    <tr style=\"text-align: right;\">\n",
       "      <th></th>\n",
       "      <th>ticker</th>\n",
       "      <th>oftic</th>\n",
       "      <th>cname</th>\n",
       "      <th>estimator</th>\n",
       "      <th>analys</th>\n",
       "      <th>fpi</th>\n",
       "      <th>measure</th>\n",
       "      <th>value</th>\n",
       "      <th>fpedats</th>\n",
       "      <th>anndats</th>\n",
       "      <th>anntims</th>\n",
       "      <th>actual</th>\n",
       "      <th>anndats_act</th>\n",
       "      <th>anntims_act</th>\n",
       "    </tr>\n",
       "  </thead>\n",
       "  <tbody>\n",
       "    <tr>\n",
       "      <th>0</th>\n",
       "      <td>AAPL</td>\n",
       "      <td>AAPL</td>\n",
       "      <td>APPLE</td>\n",
       "      <td>1267.0</td>\n",
       "      <td>193808.0</td>\n",
       "      <td>6</td>\n",
       "      <td>EPS</td>\n",
       "      <td>1.1500</td>\n",
       "      <td>2019-12-31</td>\n",
       "      <td>2020-01-03</td>\n",
       "      <td>00:49:00</td>\n",
       "      <td>1.2475</td>\n",
       "      <td>2020-01-28</td>\n",
       "      <td>16:30:00</td>\n",
       "    </tr>\n",
       "    <tr>\n",
       "      <th>1</th>\n",
       "      <td>AAPL</td>\n",
       "      <td>AAPL</td>\n",
       "      <td>APPLE</td>\n",
       "      <td>3374.0</td>\n",
       "      <td>110208.0</td>\n",
       "      <td>6</td>\n",
       "      <td>EPS</td>\n",
       "      <td>1.1775</td>\n",
       "      <td>2019-12-31</td>\n",
       "      <td>2020-01-05</td>\n",
       "      <td>12:10:00</td>\n",
       "      <td>1.2475</td>\n",
       "      <td>2020-01-28</td>\n",
       "      <td>16:30:00</td>\n",
       "    </tr>\n",
       "    <tr>\n",
       "      <th>2</th>\n",
       "      <td>AAPL</td>\n",
       "      <td>AAPL</td>\n",
       "      <td>APPLE</td>\n",
       "      <td>930.0</td>\n",
       "      <td>191412.0</td>\n",
       "      <td>6</td>\n",
       "      <td>EPS</td>\n",
       "      <td>1.1775</td>\n",
       "      <td>2019-12-31</td>\n",
       "      <td>2020-01-09</td>\n",
       "      <td>07:00:00</td>\n",
       "      <td>1.2475</td>\n",
       "      <td>2020-01-28</td>\n",
       "      <td>16:30:00</td>\n",
       "    </tr>\n",
       "    <tr>\n",
       "      <th>3</th>\n",
       "      <td>AAPL</td>\n",
       "      <td>AAPL</td>\n",
       "      <td>APPLE</td>\n",
       "      <td>2301.0</td>\n",
       "      <td>83036.0</td>\n",
       "      <td>6</td>\n",
       "      <td>EPS</td>\n",
       "      <td>1.1450</td>\n",
       "      <td>2019-12-31</td>\n",
       "      <td>2020-01-09</td>\n",
       "      <td>13:00:00</td>\n",
       "      <td>1.2475</td>\n",
       "      <td>2020-01-28</td>\n",
       "      <td>16:30:00</td>\n",
       "    </tr>\n",
       "    <tr>\n",
       "      <th>4</th>\n",
       "      <td>AAPL</td>\n",
       "      <td>AAPL</td>\n",
       "      <td>APPLE</td>\n",
       "      <td>79.0</td>\n",
       "      <td>108299.0</td>\n",
       "      <td>6</td>\n",
       "      <td>EPS</td>\n",
       "      <td>1.1175</td>\n",
       "      <td>2019-12-31</td>\n",
       "      <td>2020-01-13</td>\n",
       "      <td>06:34:00</td>\n",
       "      <td>1.2475</td>\n",
       "      <td>2020-01-28</td>\n",
       "      <td>16:30:00</td>\n",
       "    </tr>\n",
       "  </tbody>\n",
       "</table>\n",
       "</div>"
      ],
      "text/plain": [
       "  ticker oftic  cname  estimator    analys  fpi measure   value     fpedats  \\\n",
       "0   AAPL  AAPL  APPLE     1267.0  193808.0    6     EPS  1.1500  2019-12-31   \n",
       "1   AAPL  AAPL  APPLE     3374.0  110208.0    6     EPS  1.1775  2019-12-31   \n",
       "2   AAPL  AAPL  APPLE      930.0  191412.0    6     EPS  1.1775  2019-12-31   \n",
       "3   AAPL  AAPL  APPLE     2301.0   83036.0    6     EPS  1.1450  2019-12-31   \n",
       "4   AAPL  AAPL  APPLE       79.0  108299.0    6     EPS  1.1175  2019-12-31   \n",
       "\n",
       "      anndats   anntims  actual anndats_act anntims_act  \n",
       "0  2020-01-03  00:49:00  1.2475  2020-01-28    16:30:00  \n",
       "1  2020-01-05  12:10:00  1.2475  2020-01-28    16:30:00  \n",
       "2  2020-01-09  07:00:00  1.2475  2020-01-28    16:30:00  \n",
       "3  2020-01-09  13:00:00  1.2475  2020-01-28    16:30:00  \n",
       "4  2020-01-13  06:34:00  1.2475  2020-01-28    16:30:00  "
      ]
     },
     "execution_count": 4,
     "metadata": {},
     "output_type": "execute_result"
    }
   ],
   "source": [
    "ibes_data['AAPL'].head()"
   ]
  },
  {
   "cell_type": "code",
   "execution_count": 5,
   "metadata": {},
   "outputs": [
    {
     "data": {
      "text/plain": [
       "array(['2020-01-28', '2020-04-30', '2020-07-30', '2020-10-29',\n",
       "       '2021-01-27', '2021-04-28', '2021-07-27', '2021-10-28',\n",
       "       '2022-01-27', '2022-04-28', '2022-07-28', '2022-10-27',\n",
       "       '2023-02-02', '2023-05-04', '2023-08-03', '2023-11-02',\n",
       "       '2024-02-01', '2024-05-02', '2024-08-01', '2024-10-31'],\n",
       "      dtype=object)"
      ]
     },
     "execution_count": 5,
     "metadata": {},
     "output_type": "execute_result"
    }
   ],
   "source": [
    "ibes_data['AAPL']['anndats_act'].dropna().unique()"
   ]
  },
  {
   "cell_type": "code",
   "execution_count": 10,
   "metadata": {},
   "outputs": [
    {
     "data": {
      "text/plain": [
       "array(['2020-02-13', '2020-05-21', '2020-08-19', '2020-11-18',\n",
       "       '2021-02-24', '2021-05-26', '2021-08-18', '2021-11-17',\n",
       "       '2022-02-16', '2022-05-25', '2022-08-24', '2022-11-16',\n",
       "       '2023-02-22', '2023-05-24', '2023-08-23', '2023-11-21',\n",
       "       '2024-02-21', '2024-05-22', '2024-08-28'], dtype=object)"
      ]
     },
     "execution_count": 10,
     "metadata": {},
     "output_type": "execute_result"
    }
   ],
   "source": [
    "ibes_data['NVDA']['anndats_act'].dropna().unique()"
   ]
  },
  {
   "cell_type": "code",
   "execution_count": 161,
   "metadata": {},
   "outputs": [
    {
     "name": "stdout",
     "output_type": "stream",
     "text": [
      "NVDA (19,)\n",
      "AVGO (19,)\n",
      "WMT (19,)\n",
      "ORCL (19,)\n",
      "COST (19,)\n",
      "CRM (18,)\n",
      "CSCO (19,)\n",
      "ACN (19,)\n",
      "ABT (19,)\n",
      "ADBE (19,)\n",
      "PLTR (17,)\n",
      "INTU (19,)\n",
      "QCOM (19,)\n",
      "ANET (19,)\n",
      "LOW (19,)\n",
      "TJX (19,)\n",
      "PANW (19,)\n",
      "DE (19,)\n",
      "NKE (19,)\n",
      "ADI (18,)\n",
      "MDT (19,)\n",
      "MU (19,)\n",
      "PLD (19,)\n",
      "GEV (3,)\n",
      "CRWD (19,)\n",
      "APH (19,)\n",
      "ABNB (16,)\n",
      "DELL (19,)\n",
      "MSI (19,)\n",
      "SNPS (18,)\n",
      "CTAS (19,)\n",
      "CEG (11,)\n",
      "FDX (19,)\n",
      "ADSK (19,)\n",
      "CARR (19,)\n",
      "TGT (19,)\n",
      "CPRT (19,)\n",
      "AZO (19,)\n",
      "PSA (19,)\n",
      "PAYX (19,)\n",
      "ROST (19,)\n",
      "AXON (19,)\n",
      "LULU (19,)\n",
      "O (19,)\n",
      "KR (19,)\n",
      "KDP (19,)\n",
      "KVUE (5,)\n",
      "A (19,)\n",
      "SYY (19,)\n",
      "OTIS (19,)\n",
      "LEN (19,)\n",
      "IR (19,)\n",
      "GEHC (7,)\n",
      "GIS (19,)\n",
      "CCL (19,)\n",
      "IDXX (19,)\n",
      "HPQ (19,)\n",
      "ANSS (19,)\n",
      "CSGP (19,)\n",
      "MPWR (19,)\n",
      "GDDY (19,)\n",
      "HPE (19,)\n",
      "KEYS (18,)\n",
      "EQR (19,)\n",
      "SW (2,)\n",
      "TPL (19,)\n",
      "TYL (19,)\n",
      "VLTO (4,)\n",
      "NVR (19,)\n",
      "NTAP (19,)\n",
      "WST (19,)\n",
      "HUBB (19,)\n",
      "ROL (19,)\n",
      "PTC (19,)\n",
      "DRI (19,)\n",
      "IFF (19,)\n",
      "ERIE (19,)\n",
      "TDY (19,)\n",
      "ATO (19,)\n",
      "STE (19,)\n",
      "ZBRA (19,)\n",
      "ULTA (19,)\n",
      "BF.B (19,)\n",
      "LDOS (19,)\n",
      "PODD (19,)\n",
      "COO (19,)\n",
      "SMCI (19,)\n",
      "MAA (19,)\n",
      "FDS (19,)\n",
      "BBY (19,)\n",
      "SNA (19,)\n",
      "HRL (19,)\n",
      "J (19,)\n",
      "DG (19,)\n",
      "NWSA (19,)\n",
      "UDR (19,)\n",
      "JBL (19,)\n",
      "IEX (19,)\n",
      "DLTR (19,)\n",
      "MRNA (19,)\n",
      "AVY (19,)\n",
      "FFIV (19,)\n",
      "KMX (19,)\n",
      "CAG (19,)\n",
      "JKHY (19,)\n",
      "DVA (19,)\n",
      "CPB (19,)\n",
      "NDSN (19,)\n",
      "PAYC (19,)\n",
      "SJM (19,)\n",
      "SOLV (2,)\n",
      "BEN (19,)\n",
      "GNRC (19,)\n",
      "LW (19,)\n",
      "MTCH (19,)\n"
     ]
    }
   ],
   "source": [
    "for t, data in ibes_data.items():\n",
    "    data = data.dropna()\n",
    "    if data['anndats_act'].unique().shape[0] != 20:\n",
    "        print(t, data['anndats_act'].unique().shape)"
   ]
  },
  {
   "cell_type": "markdown",
   "metadata": {},
   "source": [
    "There are a lot of date mismatches. What we really should do is align dates to match dates as close together as possible. This is a multidimensional assignment problem (MAP) (which is NP-Hard). However, we still need to solve it for this dataset. So, we will use the `kap` library, which implements some algos for MAP problems.\n",
    "\n",
    "This was a valiant effort, but takes too long for our purposes. We know the start and end date have 5 years and 4 quarters per year. Thus, we know there are 20 quarters in total to fit everything into. Thus, our problem is far more structured than a general MAP problem. We can use this to our advantage and solve the problem in a more efficient manner.\n",
    "\n",
    "We will simply solve a linear assignment problem to match each date to some \"base\" point. Our \"base\" point will be Apple since it has 20 unique dates in this dataset."
   ]
  },
  {
   "cell_type": "code",
   "execution_count": 6,
   "metadata": {},
   "outputs": [
    {
     "name": "stdout",
     "output_type": "stream",
     "text": [
      "Result: AssignmentResult(matches=[[(0, 0), (1, 2), (2, 0)], [(0, 1), (1, 0), (2, 1)], [(1, 1), (2, 2)]], matching_costs=[np.int64(20), np.int64(4), np.int64(6)], free=[])\n",
      "Total cost: 30\n"
     ]
    }
   ],
   "source": [
    "from assignment import k_assignment"
   ]
  },
  {
   "cell_type": "code",
   "execution_count": 7,
   "metadata": {},
   "outputs": [],
   "source": [
    "unique_dates = dict()\n",
    "for t, data in ibes_data.items():\n",
    "    unique_dates[t] = pd.to_datetime(data['anndats_act'].dropna().unique(), format='%Y-%m-%d')"
   ]
  },
  {
   "cell_type": "code",
   "execution_count": 8,
   "metadata": {},
   "outputs": [],
   "source": [
    "from itertools import combinations"
   ]
  },
  {
   "cell_type": "code",
   "execution_count": 61,
   "metadata": {},
   "outputs": [
    {
     "name": "stderr",
     "output_type": "stream",
     "text": [
      "100%|██████████| 190/190 [00:00<00:00, 1761.48it/s]\n"
     ]
    }
   ],
   "source": [
    "cost_matrices = []\n",
    "\n",
    "dates = list(unique_dates.values())[:20]\n",
    "# Ensure the lists are of the same length by padding with NaT (optional, depends on desired behavior)\n",
    "max_length = max(len(d) for d in dates)\n",
    "\n",
    "for i in range(len(dates)):\n",
    "    dates[i] = np.array(list(dates[i]) + [pd.NaT] * (max_length - len(dates[i])))\n",
    "\n",
    "for dates1, dates2 in tqdm(combinations(dates, 2), total=len(dates) * (len(dates) - 1) // 2):\n",
    "    cost_matrix = []\n",
    "    for d1 in dates1:\n",
    "        row = []\n",
    "        for d2 in dates2:\n",
    "            row.append(abs((d1 - d2).days) if pd.notna(d1) and pd.notna(d2) else 365*5*2)\n",
    "        cost_matrix.append(row)\n",
    "    cost_matrix = np.array(cost_matrix)\n",
    "    cost_matrices.append(cost_matrix)"
   ]
  },
  {
   "cell_type": "code",
   "execution_count": null,
   "metadata": {},
   "outputs": [],
   "source": [
    "matching_result = k_assignment(cost_matrices, algo=\"Cm\", return_free=False, backend=\"scipy\")\n",
    "matching_result.matches"
   ]
  },
  {
   "cell_type": "code",
   "execution_count": 191,
   "metadata": {},
   "outputs": [],
   "source": [
    "dates1 = unique_dates['AAPL'].to_numpy()\n",
    "dates2 = unique_dates['NVDA'].to_numpy()\n",
    "\n",
    "# absolute difference of days\n",
    "cost_matrix = np.abs(dates1[:, None] - dates2).astype('timedelta64[D]').astype(int)\n",
    "\n",
    "matching_result = k_assignment([cost_matrix], algo=\"Em\", return_free=True, backend=\"scipy\")"
   ]
  },
  {
   "cell_type": "code",
   "execution_count": 41,
   "metadata": {},
   "outputs": [
    {
     "name": "stdout",
     "output_type": "stream",
     "text": [
      "Result: AssignmentResult(matches=[[(0, 0), (1, 0), (2, 0), (3, 0)], [(0, 1), (1, 1), (2, 1), (3, 1)], [(0, 2), (1, 2), (2, 2), (3, 2)], [(0, 3), (1, 3), (2, 3), (3, 3)], [(0, 4), (1, 4), (2, 4), (3, 4)], [(0, 5), (1, 5), (2, 5), (3, 5)], [(0, 6), (1, 6), (2, 6), (3, 6)], [(0, 7), (1, 7), (2, 7), (3, 7)], [(0, 8), (1, 8), (2, 8), (3, 8)], [(0, 9), (1, 9), (2, 9), (3, 9)], [(0, 10), (1, 10), (2, 10), (3, 10)], [(0, 11), (1, 11), (2, 11), (3, 11)], [(0, 12), (1, 12), (2, 12), (3, 12)], [(0, 13), (1, 13), (2, 13), (3, 13)], [(0, 14), (1, 14), (2, 14), (3, 14)], [(0, 15), (1, 15), (2, 15), (3, 15)], [(0, 16), (1, 16), (2, 16), (3, 16)], [(0, 17), (1, 17), (2, 17), (3, 17)], [(0, 18), (1, 18), (2, 18), (3, 18)], [(0, 19), (1, 19), (2, 19), (3, 19)]], matching_costs=[np.int64(49), np.int64(66), np.int64(84), np.int64(66), np.int64(93), np.int64(88), np.int64(68), np.int64(66), np.int64(73), np.int64(87), np.int64(87), np.int64(66), np.int64(87), np.int64(94), np.int64(87), np.int64(91), np.int64(66), np.int64(83), np.int64(87), np.int64(30000002)], free=[])\n",
      "Total cost: 30001490\n"
     ]
    }
   ],
   "source": [
    "print(\"Result:\", matching_result)\n",
    "print(\"Total cost:\", sum(matching_result.matching_costs))"
   ]
  },
  {
   "cell_type": "code",
   "execution_count": 43,
   "metadata": {},
   "outputs": [
    {
     "data": {
      "text/plain": [
       "AssignmentResult(matches=[[(0, 0), (1, 0), (2, 0), (3, 0)], [(0, 1), (1, 1), (2, 1), (3, 1)], [(0, 2), (1, 2), (2, 2), (3, 2)], [(0, 3), (1, 3), (2, 3), (3, 3)], [(0, 4), (1, 4), (2, 4), (3, 4)], [(0, 5), (1, 5), (2, 5), (3, 5)], [(0, 6), (1, 6), (2, 6), (3, 6)], [(0, 7), (1, 7), (2, 7), (3, 7)], [(0, 8), (1, 8), (2, 8), (3, 8)], [(0, 9), (1, 9), (2, 9), (3, 9)], [(0, 10), (1, 10), (2, 10), (3, 10)], [(0, 11), (1, 11), (2, 11), (3, 11)], [(0, 12), (1, 12), (2, 12), (3, 12)], [(0, 13), (1, 13), (2, 13), (3, 13)], [(0, 14), (1, 14), (2, 14), (3, 14)], [(0, 15), (1, 15), (2, 15), (3, 15)], [(0, 16), (1, 16), (2, 16), (3, 16)], [(0, 17), (1, 17), (2, 17), (3, 17)], [(0, 18), (1, 18), (2, 18), (3, 18)], [(0, 19), (1, 19), (2, 19), (3, 19)]], matching_costs=[np.int64(49), np.int64(66), np.int64(84), np.int64(66), np.int64(93), np.int64(88), np.int64(68), np.int64(66), np.int64(73), np.int64(87), np.int64(87), np.int64(66), np.int64(87), np.int64(94), np.int64(87), np.int64(91), np.int64(66), np.int64(83), np.int64(87), np.int64(30000002)], free=[])"
      ]
     },
     "execution_count": 43,
     "metadata": {},
     "output_type": "execute_result"
    }
   ],
   "source": [
    "matching_result"
   ]
  },
  {
   "cell_type": "code",
   "execution_count": 194,
   "metadata": {},
   "outputs": [
    {
     "data": {
      "text/plain": [
       "[(0, 19)]"
      ]
     },
     "execution_count": 194,
     "metadata": {},
     "output_type": "execute_result"
    }
   ],
   "source": [
    "matching_result.free"
   ]
  },
  {
   "cell_type": "code",
   "execution_count": 168,
   "metadata": {},
   "outputs": [
    {
     "name": "stdout",
     "output_type": "stream",
     "text": [
      "       List1                List2                List3\n",
      "0 2025-01-01  1736899200000000000  1738368000000000000\n",
      "1 2025-04-01  1744243200000000000  1746057600000000000\n",
      "2 2025-07-01  1751673600000000000  1754006400000000000\n"
     ]
    }
   ],
   "source": [
    "import numpy as np\n",
    "import pandas as pd\n",
    "from scipy.optimize import linear_sum_assignment\n",
    "\n",
    "def align_two_lists(dates1, dates2):\n",
    "    # Create a cost matrix based on absolute time differences\n",
    "    cost_matrix = []\n",
    "    for d1 in dates1:\n",
    "        row = []\n",
    "        for d2 in dates2:\n",
    "            row.append(abs((d1 - d2).days) if pd.notna(d1) and pd.notna(d2) else np.inf)\n",
    "        cost_matrix.append(row)\n",
    "\n",
    "    # Solve for optimal assignment using the Hungarian method\n",
    "    row_ind, col_ind = linear_sum_assignment(cost_matrix)\n",
    "\n",
    "    # Align dates2 to dates1\n",
    "    aligned_dates2 = np.full(len(dates1), np.datetime64('NaT'), dtype='datetime64[ns]')\n",
    "    for i, j in zip(row_ind, col_ind):\n",
    "        if cost_matrix[i][j] != np.inf:  # Avoid aligning invalid entries\n",
    "            aligned_dates2[i] = dates2[j]\n",
    "\n",
    "    return aligned_dates2\n",
    "\n",
    "def align_fiscal_quarters(dates1, dates2, dates3):\n",
    "    # Convert to pandas datetime if not already\n",
    "    dates1 = pd.to_datetime(dates1)\n",
    "    dates2 = pd.to_datetime(dates2)\n",
    "    dates3 = pd.to_datetime(dates3)\n",
    "\n",
    "    # Ensure the lists are of the same length by padding with NaT (optional, depends on desired behavior)\n",
    "    max_length = max(len(dates1), len(dates2), len(dates3))\n",
    "    dates1 = np.array(list(dates1) + [pd.NaT] * (max_length - len(dates1)))\n",
    "    dates2 = np.array(list(dates2) + [pd.NaT] * (max_length - len(dates2)))\n",
    "    dates3 = np.array(list(dates3) + [pd.NaT] * (max_length - len(dates3)))\n",
    "\n",
    "    # Align dates2 to dates1\n",
    "    aligned_dates2 = align_two_lists(dates1, dates2)\n",
    "    # Align dates3 to dates1\n",
    "    aligned_dates3 = align_two_lists(dates1, dates3)\n",
    "\n",
    "    # Combine into a 2D matrix\n",
    "    aligned_matrix = np.array([dates1, aligned_dates2, aligned_dates3]).T\n",
    "    return pd.DataFrame(aligned_matrix, columns=['List1', 'List2', 'List3'])\n",
    "\n",
    "# Example usage\n",
    "dates1 = ['2025-01-01', '2025-04-01', '2025-07-01']\n",
    "dates2 = ['2025-01-15', '2025-04-10', '2025-07-05']\n",
    "dates3 = ['2025-02-01', '2025-05-01', '2025-08-01']\n",
    "\n",
    "aligned_df = align_fiscal_quarters(dates1, dates2, dates3)\n",
    "print(aligned_df)"
   ]
  },
  {
   "cell_type": "code",
   "execution_count": 166,
   "metadata": {},
   "outputs": [
    {
     "name": "stdout",
     "output_type": "stream",
     "text": [
      "ORCL 2020-02-29 00:00:00\n",
      "COST 2020-02-29 00:00:00\n",
      "CRM 2020-04-30 00:00:00\n",
      "CSCO 2020-04-30 00:00:00\n",
      "ACN 2020-02-29 00:00:00\n",
      "ABT 2020-03-31 00:00:00\n",
      "ADBE 2020-02-29 00:00:00\n",
      "PLTR 2020-09-30 00:00:00\n",
      "QCOM 2020-03-31 00:00:00\n",
      "ANET 2020-03-31 00:00:00\n",
      "LOW 2024-10-31 00:00:00\n",
      "NKE 2020-02-29 00:00:00\n",
      "ADI 2020-04-30 00:00:00\n",
      "MU 2020-02-29 00:00:00\n",
      "PLD 2020-03-31 00:00:00\n",
      "GEV 2024-03-31 00:00:00\n",
      "APH 2020-03-31 00:00:00\n",
      "ABNB 2020-12-31 00:00:00\n",
      "MSI 2020-03-31 00:00:00\n",
      "SNPS 2020-04-30 00:00:00\n",
      "CTAS 2020-02-29 00:00:00\n",
      "CEG 2022-03-31 00:00:00\n",
      "FDX 2024-11-30 00:00:00\n",
      "CARR 2020-03-31 00:00:00\n",
      "AZO 2020-02-29 00:00:00\n",
      "JCI 2024-12-31 00:00:00\n",
      "PSA 2020-03-31 00:00:00\n",
      "PAYX 2020-02-29 00:00:00\n",
      "AXON 2020-03-31 00:00:00\n",
      "O 2020-03-31 00:00:00\n",
      "DHI 2024-12-31 00:00:00\n",
      "KDP 2020-03-31 00:00:00\n",
      "KVUE 2023-03-31 00:00:00\n",
      "SYY 2020-03-31 00:00:00\n",
      "OTIS 2020-03-31 00:00:00\n",
      "LEN 2020-02-29 00:00:00\n",
      "GEHC 2023-03-31 00:00:00\n",
      "GIS 2020-02-29 00:00:00\n",
      "CCL 2020-02-29 00:00:00\n",
      "IDXX 2020-03-31 00:00:00\n",
      "ANSS 2020-03-31 00:00:00\n",
      "CSGP 2020-03-31 00:00:00\n",
      "MPWR 2020-03-31 00:00:00\n",
      "GDDY 2020-03-31 00:00:00\n",
      "KEYS 2020-04-30 00:00:00\n",
      "EQR 2020-03-31 00:00:00\n",
      "SW 2024-06-30 00:00:00\n",
      "TYL 2020-03-31 00:00:00\n",
      "VLTO 2023-09-30 00:00:00\n",
      "NVR 2020-03-31 00:00:00\n",
      "WST 2020-03-31 00:00:00\n",
      "ROL 2020-03-31 00:00:00\n",
      "PTC 2020-03-31 00:00:00\n",
      "DRI 2020-02-29 00:00:00\n",
      "IFF 2020-03-31 00:00:00\n",
      "ERIE 2020-03-31 00:00:00\n",
      "TDY 2020-03-31 00:00:00\n",
      "STE 2020-03-31 00:00:00\n",
      "ZBRA 2020-03-31 00:00:00\n",
      "LDOS 2020-03-31 00:00:00\n",
      "PODD 2020-03-31 00:00:00\n",
      "MAA 2020-03-31 00:00:00\n",
      "FDS 2020-02-29 00:00:00\n",
      "BBY 2024-10-31 00:00:00\n",
      "SNA 2020-03-31 00:00:00\n",
      "NWSA 2020-03-31 00:00:00\n",
      "UDR 2020-03-31 00:00:00\n",
      "JBL 2020-02-29 00:00:00\n",
      "IEX 2020-03-31 00:00:00\n",
      "MRNA 2020-03-31 00:00:00\n",
      "AVY 2020-03-31 00:00:00\n",
      "FFIV 2020-03-31 00:00:00\n",
      "KMX 2020-02-29 00:00:00\n",
      "CAG 2020-02-29 00:00:00\n",
      "JKHY 2020-03-31 00:00:00\n",
      "DVA 2020-03-31 00:00:00\n",
      "PAYC 2020-03-31 00:00:00\n",
      "SOLV 2024-03-31 00:00:00\n",
      "GNRC 2020-03-31 00:00:00\n",
      "LW 2020-02-29 00:00:00\n",
      "MTCH 2020-03-31 00:00:00\n"
     ]
    }
   ],
   "source": [
    "for t, data in ibes_data.items():\n",
    "    first_fpedats = pd.to_datetime(data['fpedats'].iloc[0], format='%Y-%m-%d')\n",
    "    if first_fpedats > pd.to_datetime('2020-02-01'):\n",
    "        print(t, first_fpedats)"
   ]
  },
  {
   "cell_type": "markdown",
   "metadata": {},
   "source": [
    "Now, we need to start groupping the data by quarter. We can initially do this by grouping the data by the announce date of the actual EPS."
   ]
  },
  {
   "cell_type": "code",
   "execution_count": 13,
   "metadata": {},
   "outputs": [
    {
     "name": "stderr",
     "output_type": "stream",
     "text": [
      "100%|██████████| 497/497 [00:04<00:00, 107.02it/s]\n"
     ]
    }
   ],
   "source": [
    "# since we start at January 1, 2020, we can assume that the first date is the first quarter of 2020\n",
    "quarterly_data = dict()\n",
    "quarterly_actual = dict() # actual value, announcement date, announcement time\n",
    "for oftic, data in tqdm(ibes_data.items()):\n",
    "    data = data.dropna(axis=0)\n",
    "    unique_anndats = data['anndats_act'].unique()\n",
    "    starting_year = 2020 # we start at January 1, 2020\n",
    "    for i, date in enumerate(unique_anndats):\n",
    "        quarter_num = (i % 4) + 1 # 1, 2, 3, 4\n",
    "        year = starting_year + (i // 4)\n",
    "        subdata = data[data['anndats_act'] == date].copy()\n",
    "        quarterly_actual[oftic, year, quarter_num] = (subdata['actual'].iloc[0], \n",
    "                                                      subdata['anndats_act'].iloc[0],\n",
    "                                                      subdata['anntims_act'].iloc[0])\n",
    "        subdata['ann_datetime'] = pd.to_datetime(subdata['anndats'] + ' ' + subdata['anntims'], format='%Y-%m-%d %H:%M:%S')\n",
    "        quarterly_data[oftic, year, quarter_num] = subdata[['value', 'ann_datetime']]"
   ]
  },
  {
   "cell_type": "code",
   "execution_count": 14,
   "metadata": {},
   "outputs": [
    {
     "name": "stdout",
     "output_type": "stream",
     "text": [
      "(1.2475, '2020-01-28', '16:30:00')\n"
     ]
    },
    {
     "data": {
      "text/html": [
       "<div>\n",
       "<style scoped>\n",
       "    .dataframe tbody tr th:only-of-type {\n",
       "        vertical-align: middle;\n",
       "    }\n",
       "\n",
       "    .dataframe tbody tr th {\n",
       "        vertical-align: top;\n",
       "    }\n",
       "\n",
       "    .dataframe thead th {\n",
       "        text-align: right;\n",
       "    }\n",
       "</style>\n",
       "<table border=\"1\" class=\"dataframe\">\n",
       "  <thead>\n",
       "    <tr style=\"text-align: right;\">\n",
       "      <th></th>\n",
       "      <th>value</th>\n",
       "      <th>ann_datetime</th>\n",
       "    </tr>\n",
       "  </thead>\n",
       "  <tbody>\n",
       "    <tr>\n",
       "      <th>0</th>\n",
       "      <td>1.1500</td>\n",
       "      <td>2020-01-03 00:49:00</td>\n",
       "    </tr>\n",
       "    <tr>\n",
       "      <th>1</th>\n",
       "      <td>1.1775</td>\n",
       "      <td>2020-01-05 12:10:00</td>\n",
       "    </tr>\n",
       "    <tr>\n",
       "      <th>2</th>\n",
       "      <td>1.1775</td>\n",
       "      <td>2020-01-09 07:00:00</td>\n",
       "    </tr>\n",
       "    <tr>\n",
       "      <th>3</th>\n",
       "      <td>1.1450</td>\n",
       "      <td>2020-01-09 13:00:00</td>\n",
       "    </tr>\n",
       "    <tr>\n",
       "      <th>4</th>\n",
       "      <td>1.1175</td>\n",
       "      <td>2020-01-13 06:34:00</td>\n",
       "    </tr>\n",
       "    <tr>\n",
       "      <th>5</th>\n",
       "      <td>1.1575</td>\n",
       "      <td>2020-01-14 03:55:00</td>\n",
       "    </tr>\n",
       "    <tr>\n",
       "      <th>6</th>\n",
       "      <td>1.1450</td>\n",
       "      <td>2020-01-15 04:40:00</td>\n",
       "    </tr>\n",
       "    <tr>\n",
       "      <th>7</th>\n",
       "      <td>1.1575</td>\n",
       "      <td>2020-01-21 09:31:00</td>\n",
       "    </tr>\n",
       "    <tr>\n",
       "      <th>8</th>\n",
       "      <td>1.1375</td>\n",
       "      <td>2020-01-23 00:09:00</td>\n",
       "    </tr>\n",
       "    <tr>\n",
       "      <th>9</th>\n",
       "      <td>1.1275</td>\n",
       "      <td>2020-01-26 17:09:00</td>\n",
       "    </tr>\n",
       "    <tr>\n",
       "      <th>10</th>\n",
       "      <td>1.1575</td>\n",
       "      <td>2020-01-27 00:18:00</td>\n",
       "    </tr>\n",
       "  </tbody>\n",
       "</table>\n",
       "</div>"
      ],
      "text/plain": [
       "     value        ann_datetime\n",
       "0   1.1500 2020-01-03 00:49:00\n",
       "1   1.1775 2020-01-05 12:10:00\n",
       "2   1.1775 2020-01-09 07:00:00\n",
       "3   1.1450 2020-01-09 13:00:00\n",
       "4   1.1175 2020-01-13 06:34:00\n",
       "5   1.1575 2020-01-14 03:55:00\n",
       "6   1.1450 2020-01-15 04:40:00\n",
       "7   1.1575 2020-01-21 09:31:00\n",
       "8   1.1375 2020-01-23 00:09:00\n",
       "9   1.1275 2020-01-26 17:09:00\n",
       "10  1.1575 2020-01-27 00:18:00"
      ]
     },
     "execution_count": 14,
     "metadata": {},
     "output_type": "execute_result"
    }
   ],
   "source": [
    "print(quarterly_actual['AAPL', 2020, 1])\n",
    "quarterly_data['AAPL', 2020, 1]"
   ]
  },
  {
   "cell_type": "code",
   "execution_count": 15,
   "metadata": {},
   "outputs": [],
   "source": [
    "with open('quarterly_actual.pkl', 'wb') as f:\n",
    "    pickle.dump(quarterly_actual, f)\n",
    "\n",
    "with open('quarterly_data.pkl', 'wb') as f:\n",
    "    pickle.dump(quarterly_data, f)"
   ]
  },
  {
   "cell_type": "code",
   "execution_count": null,
   "metadata": {},
   "outputs": [],
   "source": [
    "with open('quarterly_actual.pkl', 'rb') as f:\n",
    "    quarterly_actual = pickle.load(f)\n",
    "    \n",
    "with open('quarterly_data.pkl', 'rb') as f:\n",
    "    quarterly_data = pickle.load(f)"
   ]
  },
  {
   "cell_type": "markdown",
   "metadata": {},
   "source": [
    "We have 5 years: 2020, 2021, 2022, 2023, and 2024.\n",
    "\n",
    "We have 4 quarters in a year: Q1, Q2, Q3, and Q4.\n",
    "\n",
    "Thus, we have 20 columns (year/quarter) to work with and 497 rows (companies)"
   ]
  },
  {
   "cell_type": "code",
   "execution_count": 16,
   "metadata": {},
   "outputs": [],
   "source": [
    "columns = [(year, quarter) for year in range(2020, 2025) for quarter in range(1, 5)]\n",
    "rows = list(ibes_data.keys())"
   ]
  },
  {
   "cell_type": "code",
   "execution_count": 20,
   "metadata": {},
   "outputs": [],
   "source": [
    "# Use step function helper functions since we have different sample amounts.\n",
    "from itertools import combinations\n",
    "import bisect\n",
    "\n",
    "def step_function(x_points, y_points, x):\n",
    "    # Find the interval that x falls into\n",
    "    idx = bisect.bisect_right(x_points, x) - 1\n",
    "    # If x is before the first point, return the first y\n",
    "    if idx < 0:\n",
    "        return y_points[0]\n",
    "    # If x is beyond the last point, return the last y\n",
    "    elif idx >= len(y_points):\n",
    "        return y_points[-1]\n",
    "    # Otherwise, return the y corresponding to the interval\n",
    "    return y_points[idx]\n",
    "\n",
    "def squared_difference_integral(x1, y1, x2, y2):\n",
    "    # Combine and sort all x points from both arrays, ensuring no duplicates\n",
    "    x_points = np.unique(np.concatenate((x1, x2)))\n",
    "    total_integral = 0.0\n",
    "\n",
    "    for i in range(len(x_points) - 1):\n",
    "        # Define the interval [x_points[i], x_points[i+1]]\n",
    "        x_left = x_points[i]\n",
    "        x_right = x_points[i + 1]\n",
    "        interval_length = x_right - x_left\n",
    "\n",
    "        # Find the y-values for this interval\n",
    "        # Last y-value from each array that is <= x_left\n",
    "        y1_value = step_function(x1, y1, x_left)\n",
    "        y2_value = step_function(x2, y2, x_left)\n",
    "\n",
    "        # Compute squared difference and add to total integral\n",
    "        squared_difference = (y1_value - y2_value) ** 2\n",
    "        total_integral += squared_difference * interval_length\n",
    "\n",
    "    return total_integral\n",
    "\n",
    "def average_step_function(step_functions):\n",
    "    # Extract x and y values from each step function\n",
    "    all_x = np.unique(np.concatenate([sf[0] for sf in step_functions]))\n",
    "    avg_y = []\n",
    "\n",
    "    # Loop through each interval\n",
    "    for i in range(len(all_x) - 1):\n",
    "        x_left = all_x[i]\n",
    "        \n",
    "        # For each step function, get the y-value at the start of this interval\n",
    "        y_values = []\n",
    "        for x, y in step_functions:\n",
    "            y_val = step_function(x, y, x_left)\n",
    "            y_values.append(y_val)\n",
    "        # Compute the average y-value for this interval\n",
    "        avg_y.append(np.mean(y_values))\n",
    "\n",
    "    # Add the final y-value after the last x-point\n",
    "    y_values = [y[np.searchsorted(x, all_x[-1], side='right') - 1] for x, y in step_functions]\n",
    "    avg_y.append(np.mean(y_values))\n",
    "\n",
    "    return all_x, np.array(avg_y)\n",
    "\n",
    "def get_wasserstein_dists(ppf_dict, direction = 'user'):\n",
    "    \"\"\"Return the pairwise Wasserstein distance for the given row (plaza_id, weekday)\n",
    "    to all the other rows.\n",
    "\n",
    "    Args:\n",
    "        plaza_id (int): ID of bridge or tunnel\n",
    "        weekday (int): Day of the week (1-7)\n",
    "        ppf_dict (dict): Dictionary of inverse CDFs\n",
    "\n",
    "    Returns:\n",
    "        dict: Dictionary of pairwise Wasserstein distances\n",
    "    \"\"\"\n",
    "    rows = set(k[0] for k in ppf_dict.keys())\n",
    "    cols = set(k[1] for k in ppf_dict.keys())\n",
    "    dists = dict()\n",
    "    \n",
    "    if direction == 'user':\n",
    "        row_pairs = list(combinations(rows, 2))\n",
    "        \n",
    "        for key1, key2 in tqdm(row_pairs):\n",
    "            key = frozenset([key1, key2])\n",
    "            \n",
    "            if dists.get(key) is None:\n",
    "                dists[key] = dict()\n",
    "            \n",
    "            for c in cols:\n",
    "                key_row1 = (key1, c)\n",
    "                key_row2 = (key2, c)\n",
    "                if ppf_dict.get(key_row1) is None or ppf_dict.get(key_row2) is None:\n",
    "                    dists[key][c] = None\n",
    "                    continue\n",
    "                # dists[key][c] = wasserstein2_mc(ppf_dict[key_row1], ppf_dict[key_row2])\n",
    "                x1,y1 = ppf_dict[key_row1]\n",
    "                x2,y2 = ppf_dict[key_row2]\n",
    "                dists[key][c] = squared_difference_integral(x1, y1, x2, y2)\n",
    "    elif direction == 'item':\n",
    "        col_pairs = list(combinations(cols, 2))\n",
    "        \n",
    "        for key1, key2 in tqdm(col_pairs):\n",
    "            key = frozenset([key1, key2])\n",
    "            \n",
    "            if dists.get(key) is None:\n",
    "                dists[key] = dict()\n",
    "            \n",
    "            for r in rows:\n",
    "                key_col1 = (r, key1)\n",
    "                key_col2 = (r, key2)\n",
    "                if ppf_dict.get(key_col1) is None or ppf_dict.get(key_col2) is None:\n",
    "                    dists[key][r] = None\n",
    "                    continue\n",
    "                # dists[key][r] = wasserstein2_mc(ppf_dict[key_col1], ppf_dict[key_col2])\n",
    "                x1,y1 = ppf_dict[key_col1]\n",
    "                x2,y2 = ppf_dict[key_col2]\n",
    "                dists[key][r] = squared_difference_integral(x1, y1, x2, y2)\n",
    "    return dists"
   ]
  },
  {
   "cell_type": "code",
   "execution_count": 21,
   "metadata": {},
   "outputs": [
    {
     "data": {
      "text/plain": [
       "0.6666666666666666"
      ]
     },
     "execution_count": 21,
     "metadata": {},
     "output_type": "execute_result"
    }
   ],
   "source": [
    "def wasserstein2(sample1, sample2):\n",
    "    \"\"\"Compute the squared 2-Wasserstein distance between two samples.\n",
    "    Inputs need to be in format (sample, dimension).\n",
    "    Args:\n",
    "        sample1 (np.array): 2D array of samples from the first distribution\n",
    "        sample2 (np.array): 2D array of samples from the second distribution\n",
    "    \"\"\"\n",
    "    C = ot.dist(sample1, sample2, metric='sqeuclidean')\n",
    "    # Uniform weights for each empirical distribution\n",
    "    a = np.ones(len(sample1)) / len(sample1)\n",
    "    b = np.ones(len(sample2)) / len(sample2)\n",
    "\n",
    "    # Compute optimal transport plan and Wasserstein distance\n",
    "    P = ot.emd(a, b, C)\n",
    "    return np.sum(P * C)\n",
    "\n",
    "wasserstein2(np.array([1,2,3]).reshape(-1,1), np.array([1,2,1]).reshape(-1,1))"
   ]
  },
  {
   "cell_type": "code",
   "execution_count": 115,
   "metadata": {},
   "outputs": [],
   "source": [
    "def wass_barycenter(sample_list):\n",
    "    \"\"\"Compute the Wasserstein barycenter from a list of sample arrays.\n",
    "    Returns the x,y coordinates for the quantile function of the barycenter.\n",
    "    \"\"\"\n",
    "    step_functions = list()\n",
    "    for sample_arr in sample_list:\n",
    "        x = np.cumsum(np.ones(len(sample_arr)) / len(sample_arr))\n",
    "        y = np.sort(sample_arr)\n",
    "        step_functions.append((x, y))\n",
    "    x_avg, y_avg = average_step_function(step_functions)\n",
    "    return (x_avg, y_avg)"
   ]
  },
  {
   "cell_type": "code",
   "execution_count": 92,
   "metadata": {},
   "outputs": [],
   "source": [
    "# How will we compute the Wasserstein distance between the barycenter and samples?\n",
    "# We will have to use the step function representation for the samples because\n",
    "# converting an arbitrary distribution to a sample can take a lot of memory.\n",
    "\n",
    "def wass_barycenter_dist(sample_arr, barycenter):\n",
    "    \"\"\"Compute the Wasserstein distance between the barycenter and an array of samples.\n",
    "    \"\"\"\n",
    "    x = np.cumsum(np.ones(len(sample_arr)) / len(sample_arr))\n",
    "    y = np.sort(sample_arr)\n",
    "    return squared_difference_integral(barycenter[0], barycenter[1], x, y)"
   ]
  },
  {
   "cell_type": "code",
   "execution_count": 93,
   "metadata": {},
   "outputs": [],
   "source": [
    "# There are a lot of rows, so we will estimate distances for specific rows.\n",
    "# We will need to make sure that we do not look into the future.\n",
    "# When calculating distances, we will only look at the past data, using the \n",
    "# datestimes when the actual EPS are announced, since we would like to estimate our distributions\n",
    "# as late as possible (close to the announcement date).\n",
    "\n",
    "def get_rows_cols():\n",
    "    cols = [(year, quarter) for year in range(2020, 2025) for quarter in range(1, 5)]\n",
    "    rows = list(ibes_data.keys())\n",
    "    return rows, cols\n",
    "\n",
    "def get_dist(ticker, year, quarter, quarterly_actual, quarterly_data):\n",
    "    # Returns the squared Wasserstein distance between rows for 1 column\n",
    "    # Filters to only use past data\n",
    "    rows, _ = get_rows_cols()\n",
    "    \n",
    "    actual = quarterly_actual[ticker, year, quarter]\n",
    "    actual_datetime = pd.to_datetime(f'{actual[1]} {actual[2]}', format='%Y-%m-%d %H:%M:%S')\n",
    "    sample1 = quarterly_data[ticker, year, quarter]['value'].values.reshape(-1,1)\n",
    "    dists = dict()\n",
    "    for row in rows:\n",
    "        dist = 0\n",
    "        raw_data = quarterly_data[row, year, quarter]\n",
    "        # only past data\n",
    "        filtered_data = raw_data[raw_data['ann_datetime'] < actual_datetime]\n",
    "        if filtered_data.shape[0] == 0:\n",
    "            dist = np.nan\n",
    "            dists[row] = dist\n",
    "            continue\n",
    "        sample2 = filtered_data['value'].values.reshape(-1,1)\n",
    "        dist = wasserstein2(sample1, sample2)\n",
    "        dists[row] = dist\n",
    "    return dists\n",
    "\n",
    "dists = get_dist('AAPL', 2020, 2, quarterly_actual, quarterly_data)"
   ]
  },
  {
   "cell_type": "code",
   "execution_count": 94,
   "metadata": {},
   "outputs": [
    {
     "name": "stdout",
     "output_type": "stream",
     "text": [
      "     value        ann_datetime\n",
      "11  0.7320 2020-01-28 20:55:00\n",
      "12  0.7600 2020-01-28 19:51:00\n",
      "13  0.7325 2020-01-28 21:10:00\n",
      "14  0.7700 2020-01-28 22:40:00\n",
      "15  0.7550 2020-01-28 23:29:00\n",
      "..     ...                 ...\n",
      "92  0.5650 2020-04-17 01:30:00\n",
      "93  0.5675 2020-04-20 06:20:00\n",
      "94  0.5450 2020-04-23 22:49:00\n",
      "95  0.4730 2020-04-24 08:00:00\n",
      "96  0.3800 2020-04-27 00:10:00\n",
      "\n",
      "[86 rows x 2 columns] 0.6375\n"
     ]
    }
   ],
   "source": [
    "data = quarterly_data['AAPL', 2020, 2]\n",
    "actual = quarterly_actual['AAPL', 2020, 2][0]\n",
    "print(data, actual)"
   ]
  },
  {
   "cell_type": "code",
   "execution_count": 42,
   "metadata": {},
   "outputs": [
    {
     "data": {
      "text/plain": [
       "(0.6508360465116279, 0.6575, 0.38, 0.7775)"
      ]
     },
     "execution_count": 42,
     "metadata": {},
     "output_type": "execute_result"
    }
   ],
   "source": [
    "data['value'].mean(), data['value'].median(), data['value'].min(), data['value'].max()"
   ]
  },
  {
   "cell_type": "code",
   "execution_count": 51,
   "metadata": {},
   "outputs": [
    {
     "data": {
      "text/plain": [
       "<matplotlib.collections.LineCollection at 0x354e34b10>"
      ]
     },
     "execution_count": 51,
     "metadata": {},
     "output_type": "execute_result"
    },
    {
     "data": {
      "image/png": "[encoded data removed]",
      "text/plain": [
       "<Figure size 640x480 with 1 Axes>"
      ]
     },
     "metadata": {},
     "output_type": "display_data"
    }
   ],
   "source": [
    "data['value'].hist()\n",
    "plt.vlines(actual, 0, 20, color='red')\n",
    "plt.vlines(data['value'].mean(), 0, 20, color='black')\n",
    "plt.vlines(data['value'].median(), 0, 20, color='green')"
   ]
  },
  {
   "cell_type": "code",
   "execution_count": 95,
   "metadata": {},
   "outputs": [
    {
     "data": {
      "text/plain": [
       "[<matplotlib.lines.Line2D at 0x3550e53d0>]"
      ]
     },
     "execution_count": 95,
     "metadata": {},
     "output_type": "execute_result"
    },
    {
     "data": {
      "image/png": "[encoded data removed]",
      "text/plain": [
       "<Figure size 640x480 with 1 Axes>"
      ]
     },
     "metadata": {},
     "output_type": "display_data"
    }
   ],
   "source": [
    "y = np.sort(data['value'].values)\n",
    "x = np.cumsum(np.ones(len(y)) / len(y))\n",
    "plt.plot(x, y)"
   ]
  },
  {
   "cell_type": "code",
   "execution_count": 96,
   "metadata": {},
   "outputs": [
    {
     "data": {
      "text/plain": [
       "['AAPL', 'A', 'MCHP', 'TSCO', 'DOW', 'EXPD', 'POOL', 'CAG', 'CPB', 'PAYC']"
      ]
     },
     "execution_count": 96,
     "metadata": {},
     "output_type": "execute_result"
    }
   ],
   "source": [
    "threshold = 0.005\n",
    "\n",
    "neighbors = [ticker for ticker, dist in dists.items() if dist < threshold]\n",
    "neighbors"
   ]
  },
  {
   "cell_type": "code",
   "execution_count": 63,
   "metadata": {},
   "outputs": [
    {
     "data": {
      "text/plain": [
       "10"
      ]
     },
     "execution_count": 63,
     "metadata": {},
     "output_type": "execute_result"
    }
   ],
   "source": [
    "len(neighbors)"
   ]
  },
  {
   "cell_type": "code",
   "execution_count": 68,
   "metadata": {},
   "outputs": [
    {
     "name": "stdout",
     "output_type": "stream",
     "text": [
      "AAPL (86, 2) (86, 2)\n",
      "A (23, 2) (24, 2)\n",
      "MCHP (55, 2) (58, 2)\n",
      "TSCO (52, 2) (52, 2)\n",
      "DOW (43, 2) (43, 2)\n",
      "EXPD (18, 2) (18, 2)\n",
      "POOL (14, 2) (14, 2)\n",
      "CAG (17, 2) (29, 2)\n",
      "CPB (31, 2) (41, 2)\n",
      "PAYC (10, 2) (18, 2)\n"
     ]
    }
   ],
   "source": [
    "actual = quarterly_actual['AAPL', 2020, 2]\n",
    "actual_datetime = pd.to_datetime(f'{actual[1]} {actual[2]}', format='%Y-%m-%d %H:%M:%S')\n",
    "\n",
    "sample_list = []\n",
    "for ticker in neighbors:\n",
    "    raw_data = quarterly_data[ticker, 2020, 2]\n",
    "    filtered_data = raw_data[raw_data['ann_datetime'] < actual_datetime]\n",
    "    print(ticker, filtered_data.shape, raw_data.shape)\n",
    "    sample_list.append(filtered_data['value'].values)"
   ]
  },
  {
   "cell_type": "code",
   "execution_count": 116,
   "metadata": {},
   "outputs": [],
   "source": [
    "barycenter = wass_barycenter(sample_list)"
   ]
  },
  {
   "cell_type": "code",
   "execution_count": 118,
   "metadata": {},
   "outputs": [
    {
     "data": {
      "text/plain": [
       "[<matplotlib.lines.Line2D at 0x354d1d3d0>]"
      ]
     },
     "execution_count": 118,
     "metadata": {},
     "output_type": "execute_result"
    },
    {
     "data": {
      "image/png": "[encoded data removed]",
      "text/plain": [
       "<Figure size 640x480 with 1 Axes>"
      ]
     },
     "metadata": {},
     "output_type": "display_data"
    }
   ],
   "source": [
    "x,y = barycenter\n",
    "plt.plot(x,y)"
   ]
  },
  {
   "cell_type": "code",
   "execution_count": 131,
   "metadata": {},
   "outputs": [
    {
     "name": "stdout",
     "output_type": "stream",
     "text": [
      "103\n"
     ]
    },
    {
     "data": {
      "text/plain": [
       "0.632738791618207"
      ]
     },
     "execution_count": 131,
     "metadata": {},
     "output_type": "execute_result"
    }
   ],
   "source": [
    "def expectation(barycenter):\n",
    "    # This is just the integral from 0 to 1 of the quantile function\n",
    "    x,y = barycenter\n",
    "    x_diff = np.concatenate([np.array(x[0]).reshape(1), np.diff(x)])\n",
    "    return np.sum(x_diff * y)\n",
    "\n",
    "threshold = 0.05\n",
    "\n",
    "neighbors = [ticker for ticker, dist in dists.items() if dist < threshold]\n",
    "print(len(neighbors))\n",
    "actual = quarterly_actual['AAPL', 2020, 2]\n",
    "actual_datetime = pd.to_datetime(f'{actual[1]} {actual[2]}', format='%Y-%m-%d %H:%M:%S')\n",
    "\n",
    "sample_list = []\n",
    "for ticker in neighbors:\n",
    "    raw_data = quarterly_data[ticker, 2020, 2]\n",
    "    filtered_data = raw_data[raw_data['ann_datetime'] < actual_datetime]\n",
    "    # print(ticker, filtered_data.shape, raw_data.shape)\n",
    "    sample_list.append(filtered_data['value'].values)\n",
    "\n",
    "barycenter = wass_barycenter(sample_list)\n",
    "expectation(barycenter)"
   ]
  },
  {
   "cell_type": "code",
   "execution_count": 129,
   "metadata": {},
   "outputs": [
    {
     "data": {
      "text/plain": [
       "0.6438339805825241"
      ]
     },
     "execution_count": 129,
     "metadata": {},
     "output_type": "execute_result"
    }
   ],
   "source": [
    "step_function(*barycenter, 0.5)"
   ]
  },
  {
   "cell_type": "markdown",
   "metadata": {},
   "source": [
    "Hyperparamter tuning: We can tune the hyperparameter threshold with for the first 50% of the columns and use them to predict the last 50% of the columns. The target this time will not be reconstructing the original distribution, but rather predicting the actual quarter EPS."
   ]
  },
  {
   "cell_type": "code",
   "execution_count": 138,
   "metadata": {},
   "outputs": [],
   "source": [
    "from hyperopt import hp, fmin, tpe\n",
    "from numpy import half\n",
    "\n",
    "def evaluate_eta_column(eta, ticker, year, quarter, row_dists, quarterly_actual, quarterly_data):\n",
    "    \"\"\"Return the squared error for estimating the actual EPS for the given eta and column.\n",
    "    \"\"\"\n",
    "    neighbors = [t for t, dist in row_dists.items() if dist <= eta]\n",
    "    if len(neighbors == 0):\n",
    "        # this should never happen because a ticker should always be a neighbor with itself\n",
    "        raise Exception(f\"No neighbors found for {ticker,year,quarter}\")\n",
    "    actual = quarterly_actual[ticker, year, quarter]\n",
    "    actual_datetime = pd.to_datetime(f'{actual[1]} {actual[2]}', format='%Y-%m-%d %H:%M:%S')\n",
    "    actual_eps = actual[0]\n",
    "    sample_list = []\n",
    "    for t in neighbors:\n",
    "        raw_data = quarterly_data[t, year, quarter]\n",
    "        filtered_data = raw_data[raw_data['ann_datetime'] < actual_datetime]\n",
    "        # We don't have to worry about empty dataframes since we have already filtered\n",
    "        # to only only use non-empty dataframes when calculating distances\n",
    "        sample_list.append(filtered_data['value'].values)\n",
    "    barycenter = wass_barycenter(sample_list)\n",
    "    barycenter_expectation = expectation(barycenter)\n",
    "    return (barycenter_expectation - actual_eps) ** 2\n",
    "\n",
    "def optimize_eta(ticker, quarterly_actual, quarterly_data):\n",
    "    # We will use the first half of the columns to estimate eta\n",
    "    rows, cols = get_rows_cols()\n",
    "    \n",
    "    halfway = len(cols)//2\n",
    "    \n",
    "    # Get distances for the first half of the columns\n",
    "    row_dists = dict()\n",
    "    for col in cols[:halfway]:\n",
    "        dists = get_dist(ticker, col[0], col[1], quarterly_actual, quarterly_data)\n",
    "        row_dists[col] = dists\n",
    "    \n",
    "    # Define the objective function\n",
    "    def obj(eta):\n",
    "        error = 0\n",
    "        for col in cols[halfway:]:\n",
    "            error += evaluate_eta_column(eta, ticker, col[0], col[1], row_dists[col], quarterly_actual, quarterly_data)\n",
    "        return error\n",
    "    \n",
    "    # Optimize the objective function\n",
    "    best_eta = fmin(fn=obj, verbose = True, space=hp.uniform('eta', 0.0001, 10.0), algo=tpe.suggest, max_evals=30)\n",
    "    return best_eta['eta']"
   ]
  },
  {
   "cell_type": "code",
   "execution_count": 144,
   "metadata": {},
   "outputs": [
    {
     "data": {
      "text/html": [
       "<div>\n",
       "<style scoped>\n",
       "    .dataframe tbody tr th:only-of-type {\n",
       "        vertical-align: middle;\n",
       "    }\n",
       "\n",
       "    .dataframe tbody tr th {\n",
       "        vertical-align: top;\n",
       "    }\n",
       "\n",
       "    .dataframe thead th {\n",
       "        text-align: right;\n",
       "    }\n",
       "</style>\n",
       "<table border=\"1\" class=\"dataframe\">\n",
       "  <thead>\n",
       "    <tr style=\"text-align: right;\">\n",
       "      <th></th>\n",
       "      <th>value</th>\n",
       "      <th>ann_datetime</th>\n",
       "    </tr>\n",
       "  </thead>\n",
       "  <tbody>\n",
       "    <tr>\n",
       "      <th>4</th>\n",
       "      <td>0.830</td>\n",
       "      <td>2024-07-31 00:13:00</td>\n",
       "    </tr>\n",
       "    <tr>\n",
       "      <th>5</th>\n",
       "      <td>0.790</td>\n",
       "      <td>2024-07-31 00:16:00</td>\n",
       "    </tr>\n",
       "    <tr>\n",
       "      <th>6</th>\n",
       "      <td>0.620</td>\n",
       "      <td>2024-07-31 00:21:00</td>\n",
       "    </tr>\n",
       "    <tr>\n",
       "      <th>7</th>\n",
       "      <td>0.790</td>\n",
       "      <td>2024-09-13 09:22:00</td>\n",
       "    </tr>\n",
       "    <tr>\n",
       "      <th>8</th>\n",
       "      <td>0.770</td>\n",
       "      <td>2024-10-07 18:06:00</td>\n",
       "    </tr>\n",
       "    <tr>\n",
       "      <th>9</th>\n",
       "      <td>0.720</td>\n",
       "      <td>2024-10-10 19:16:00</td>\n",
       "    </tr>\n",
       "    <tr>\n",
       "      <th>10</th>\n",
       "      <td>0.804</td>\n",
       "      <td>2024-10-11 03:15:00</td>\n",
       "    </tr>\n",
       "    <tr>\n",
       "      <th>11</th>\n",
       "      <td>0.750</td>\n",
       "      <td>2024-10-18 06:49:00</td>\n",
       "    </tr>\n",
       "    <tr>\n",
       "      <th>12</th>\n",
       "      <td>0.710</td>\n",
       "      <td>2024-10-28 02:11:00</td>\n",
       "    </tr>\n",
       "  </tbody>\n",
       "</table>\n",
       "</div>"
      ],
      "text/plain": [
       "    value        ann_datetime\n",
       "4   0.830 2024-07-31 00:13:00\n",
       "5   0.790 2024-07-31 00:16:00\n",
       "6   0.620 2024-07-31 00:21:00\n",
       "7   0.790 2024-09-13 09:22:00\n",
       "8   0.770 2024-10-07 18:06:00\n",
       "9   0.720 2024-10-10 19:16:00\n",
       "10  0.804 2024-10-11 03:15:00\n",
       "11  0.750 2024-10-18 06:49:00\n",
       "12  0.710 2024-10-28 02:11:00"
      ]
     },
     "execution_count": 144,
     "metadata": {},
     "output_type": "execute_result"
    }
   ],
   "source": [
    "quarterly_data['SW', 2020, 2]"
   ]
  },
  {
   "cell_type": "code",
   "execution_count": 139,
   "metadata": {},
   "outputs": [
    {
     "ename": "KeyError",
     "evalue": "('SW', 2020, 3)",
     "output_type": "error",
     "traceback": [
      "\u001b[0;31m---------------------------------------------------------------------------\u001b[0m",
      "\u001b[0;31mKeyError\u001b[0m                                  Traceback (most recent call last)",
      "Cell \u001b[0;32mIn[139], line 1\u001b[0m\n\u001b[0;32m----> 1\u001b[0m eta \u001b[38;5;241m=\u001b[39m \u001b[43moptimize_eta\u001b[49m\u001b[43m(\u001b[49m\u001b[38;5;124;43m'\u001b[39;49m\u001b[38;5;124;43mAAPL\u001b[39;49m\u001b[38;5;124;43m'\u001b[39;49m\u001b[43m,\u001b[49m\u001b[43m \u001b[49m\u001b[43mquarterly_actual\u001b[49m\u001b[43m,\u001b[49m\u001b[43m \u001b[49m\u001b[43mquarterly_data\u001b[49m\u001b[43m)\u001b[49m\n",
      "Cell \u001b[0;32mIn[138], line 34\u001b[0m, in \u001b[0;36moptimize_eta\u001b[0;34m(ticker, quarterly_actual, quarterly_data)\u001b[0m\n\u001b[1;32m     32\u001b[0m row_dists \u001b[38;5;241m=\u001b[39m \u001b[38;5;28mdict\u001b[39m()\n\u001b[1;32m     33\u001b[0m \u001b[38;5;28;01mfor\u001b[39;00m col \u001b[38;5;129;01min\u001b[39;00m cols[:halfway]:\n\u001b[0;32m---> 34\u001b[0m     dists \u001b[38;5;241m=\u001b[39m \u001b[43mget_dist\u001b[49m\u001b[43m(\u001b[49m\u001b[43mticker\u001b[49m\u001b[43m,\u001b[49m\u001b[43m \u001b[49m\u001b[43mcol\u001b[49m\u001b[43m[\u001b[49m\u001b[38;5;241;43m0\u001b[39;49m\u001b[43m]\u001b[49m\u001b[43m,\u001b[49m\u001b[43m \u001b[49m\u001b[43mcol\u001b[49m\u001b[43m[\u001b[49m\u001b[38;5;241;43m1\u001b[39;49m\u001b[43m]\u001b[49m\u001b[43m,\u001b[49m\u001b[43m \u001b[49m\u001b[43mquarterly_actual\u001b[49m\u001b[43m,\u001b[49m\u001b[43m \u001b[49m\u001b[43mquarterly_data\u001b[49m\u001b[43m)\u001b[49m\n\u001b[1;32m     35\u001b[0m     row_dists[col] \u001b[38;5;241m=\u001b[39m dists\n\u001b[1;32m     37\u001b[0m \u001b[38;5;66;03m# Define the objective function\u001b[39;00m\n",
      "Cell \u001b[0;32mIn[93], line 23\u001b[0m, in \u001b[0;36mget_dist\u001b[0;34m(ticker, year, quarter, quarterly_actual, quarterly_data)\u001b[0m\n\u001b[1;32m     21\u001b[0m \u001b[38;5;28;01mfor\u001b[39;00m row \u001b[38;5;129;01min\u001b[39;00m rows:\n\u001b[1;32m     22\u001b[0m     dist \u001b[38;5;241m=\u001b[39m \u001b[38;5;241m0\u001b[39m\n\u001b[0;32m---> 23\u001b[0m     raw_data \u001b[38;5;241m=\u001b[39m \u001b[43mquarterly_data\u001b[49m\u001b[43m[\u001b[49m\u001b[43mrow\u001b[49m\u001b[43m,\u001b[49m\u001b[43m \u001b[49m\u001b[43myear\u001b[49m\u001b[43m,\u001b[49m\u001b[43m \u001b[49m\u001b[43mquarter\u001b[49m\u001b[43m]\u001b[49m\n\u001b[1;32m     24\u001b[0m     \u001b[38;5;66;03m# only past data\u001b[39;00m\n\u001b[1;32m     25\u001b[0m     filtered_data \u001b[38;5;241m=\u001b[39m raw_data[raw_data[\u001b[38;5;124m'\u001b[39m\u001b[38;5;124mann_datetime\u001b[39m\u001b[38;5;124m'\u001b[39m] \u001b[38;5;241m<\u001b[39m actual_datetime]\n",
      "\u001b[0;31mKeyError\u001b[0m: ('SW', 2020, 3)"
     ]
    }
   ],
   "source": [
    "eta = optimize_eta('AAPL', quarterly_actual, quarterly_data)"
   ]
  }
 ],
 "metadata": {
  "kernelspec": {
   "display_name": "llmsim",
   "language": "python",
   "name": "python3"
  },
  "language_info": {
   "codemirror_mode": {
    "name": "ipython",
    "version": 3
   },
   "file_extension": ".py",
   "mimetype": "text/x-python",
   "name": "python",
   "nbconvert_exporter": "python",
   "pygments_lexer": "ipython3",
   "version": "3.11.10"
  }
 },
 "nbformat": 4,
 "nbformat_minor": 2
}
